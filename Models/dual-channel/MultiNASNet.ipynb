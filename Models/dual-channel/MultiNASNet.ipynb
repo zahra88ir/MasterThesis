{
 "cells": [
  {
   "cell_type": "code",
   "execution_count": 12,
   "id": "88a8e70f",
   "metadata": {},
   "outputs": [],
   "source": [
    "#import libraries\n",
    "import os\n",
    "import cv2\n",
    "import numpy as np\n",
    "import pandas as pd\n",
    "import matplotlib.pyplot as plt\n",
    "import seaborn as sns\n",
    "from collections import Counter\n",
    "from sklearn.model_selection import train_test_split\n",
    "from sklearn.metrics import accuracy_score, f1_score, classification_report, roc_curve, auc\n",
    "from sklearn.metrics import precision_score, recall_score, confusion_matrix\n",
    "from tensorflow.keras.applications import NASNetMobile\n",
    "from tensorflow.keras.layers import GlobalAveragePooling2D, Dense, Dropout, Input, concatenate,Conv1D, MaxPooling1D,Flatten\n",
    "from tensorflow.keras.models import Model,Sequential\n",
    "from keras.callbacks import EarlyStopping\n",
    "from sklearn.preprocessing import StandardScaler\n",
    "import time\n",
    "from keras.preprocessing.image import ImageDataGenerator\n"
   ]
  },
  {
   "cell_type": "code",
   "execution_count": 2,
   "id": "740420bc",
   "metadata": {},
   "outputs": [],
   "source": [
    "#class inputs\n",
    "base_path = r\"C:\\Users\\lenovo\\\\DualChannelThesis\\CWRU\"\n",
    "\n",
    "statistics_directories = [\n",
    "    base_path + \"\\\\stats\\\\bopolar7\",\n",
    "    base_path + \"\\\\stats\\\\bopolar14\",\n",
    "    base_path + \"\\\\stats\\\\bopolar21\",\n",
    "    base_path + \"\\\\stats\\\\irpolar7\",\n",
    "    base_path + \"\\\\stats\\\\irpolar14\",\n",
    "    base_path + \"\\\\stats\\\\irpolar21\",\n",
    "    base_path + \"\\\\stats\\\\orpolar7\",\n",
    "    base_path + \"\\\\stats\\\\orpolar14\",\n",
    "    base_path + \"\\\\stats\\\\orpolar21\",\n",
    "]\n",
    "\n",
    "image_directories = [\n",
    "    base_path + \"\\\\spectogtam\\\\bopolar7\",\n",
    "    base_path + \"\\\\spectogtam\\\\bopolar14\",\n",
    "    base_path + \"\\\\spectogtam\\\\bopolar21\",\n",
    "    base_path + \"\\\\spectogtam\\\\irpolar7\",\n",
    "    base_path + \"\\\\spectogtam\\\\irpolar14\",\n",
    "    base_path + \"\\\\spectogtam\\\\irpolar21\",\n",
    "    base_path + \"\\\\spectogtam\\\\orpolar7\",\n",
    "    base_path + \"\\\\spectogtam\\\\orpolar14\",\n",
    "    base_path + \"\\\\spectogtam\\\\orpolar21\",\n",
    "]\n"
   ]
  },
  {
   "cell_type": "code",
   "execution_count": 3,
   "id": "f060010f",
   "metadata": {},
   "outputs": [],
   "source": [
    "#class labeling\n",
    "def get_label(directory):\n",
    "    if \"bopolar\" in directory:\n",
    "        return 0  # bopolar\n",
    "    elif \"irpolar\" in directory:\n",
    "        return 1  # irpolar\n",
    "    else:\n",
    "        return 2  # orpolar\n"
   ]
  },
  {
   "cell_type": "code",
   "execution_count": 4,
   "id": "65899bcb",
   "metadata": {},
   "outputs": [],
   "source": [
    "statistics_data = []\n",
    "statistics_labels = []\n",
    "for directory in statistics_directories:\n",
    "    files = os.listdir(directory)\n",
    "    for file in files:\n",
    "        if file.endswith('.csv'):\n",
    "            file_path = os.path.join(directory, file)\n",
    "            df = pd.read_csv(file_path)\n",
    "            if not df.empty:\n",
    "                features = df.values.flatten()\n",
    "                statistics_data.append(features)\n",
    "                statistics_labels.append(get_label(directory))"
   ]
  },
  {
   "cell_type": "code",
   "execution_count": 5,
   "id": "f5a06518",
   "metadata": {},
   "outputs": [],
   "source": [
    "polar_images = []\n",
    "polar_labels = []\n",
    "for directory in image_directories:\n",
    "    files = os.listdir(directory)\n",
    "    for file in files:\n",
    "        if file.endswith('.png'):\n",
    "            file_path = os.path.join(directory, file)\n",
    "            img = cv2.imread(file_path)\n",
    "            img = cv2.cvtColor(img, cv2.COLOR_BGR2RGB)\n",
    "            img = cv2.resize(img, (64, 64))\n",
    "            polar_images.append(img)\n",
    "            polar_labels.append(get_label(directory))"
   ]
  },
  {
   "cell_type": "code",
   "execution_count": 6,
   "id": "e28b2db4",
   "metadata": {},
   "outputs": [],
   "source": [
    "polar_images = np.array(polar_images)\n",
    "polar_labels = np.array(polar_labels)\n",
    "\n",
    "statistics_data = np.array(statistics_data)\n",
    "statistics_labels = np.array(statistics_labels)"
   ]
  },
  {
   "cell_type": "code",
   "execution_count": 7,
   "id": "5ebd8569",
   "metadata": {},
   "outputs": [],
   "source": [
    "#splitting\n",
    "statistics_X_train, statistics_X_test, statistics_y_train, statistics_y_test = train_test_split(\n",
    "    statistics_data, statistics_labels, test_size=0.2, random_state=42)"
   ]
  },
  {
   "cell_type": "code",
   "execution_count": 8,
   "id": "65249813",
   "metadata": {},
   "outputs": [],
   "source": [
    "#scaling the numeric statistical input\n",
    "scaler = StandardScaler()\n",
    "statistics_X_train = scaler.fit_transform(statistics_X_train)\n",
    "statistics_X_test = scaler.transform(statistics_X_test)"
   ]
  },
  {
   "cell_type": "code",
   "execution_count": 9,
   "id": "c1c78316",
   "metadata": {},
   "outputs": [],
   "source": [
    "polar_X_train, polar_X_test, polar_y_train, polar_y_test = train_test_split(\n",
    "    polar_images, polar_labels, test_size=0.2, random_state=42)"
   ]
  },
  {
   "cell_type": "code",
   "execution_count": 10,
   "id": "b8058dcf",
   "metadata": {},
   "outputs": [],
   "source": [
    "#Generating class weight\n",
    "class_counts = Counter(statistics_labels)\n",
    "total_samples = len(statistics_labels)\n",
    "class_weights = {class_index: total_samples / (class_count * len(class_counts)) for class_index, class_count in class_counts.items()}\n"
   ]
  },
  {
   "cell_type": "code",
   "execution_count": 13,
   "id": "40ae7d03",
   "metadata": {},
   "outputs": [],
   "source": [
    "#generate data as a data augmentation step\n",
    "\n",
    "datagen = ImageDataGenerator(rotation_range=20, width_shift_range=0.1, height_shift_range=0.1, horizontal_flip=True)\n",
    "datagen.fit(polar_X_train)"
   ]
  },
  {
   "cell_type": "code",
   "execution_count": 14,
   "id": "705eb840",
   "metadata": {},
   "outputs": [],
   "source": [
    "#define inputs\n",
    "statistics_input = Input(shape=(statistics_X_train.shape[1],1))\n",
    "polar_input = Input(shape=(64, 64, 3))"
   ]
  },
  {
   "cell_type": "code",
   "execution_count": 15,
   "id": "f927eb6a",
   "metadata": {},
   "outputs": [],
   "source": [
    "#define statistic based 1D CNN model\n",
    "def statistics_model(input_shape):\n",
    "    model = Sequential()\n",
    "    model.add(Conv1D(32, 3, activation='relu', input_shape=input_shape, padding=\"same\"))\n",
    "    model.add(MaxPooling1D(2))\n",
    "    model.add(Conv1D(64, 2, activation='relu', padding=\"same\"))  # Changed kernel size to 2\n",
    "    model.add(MaxPooling1D(2))\n",
    "    model.add(Flatten())\n",
    "    model.add(Dense(128, activation='relu'))\n",
    "    return model\n"
   ]
  },
  {
   "cell_type": "code",
   "execution_count": 16,
   "id": "2411bd03",
   "metadata": {},
   "outputs": [],
   "source": [
    "polar_base_model = NASNetMobile(include_top=False, weights='imagenet', input_tensor=polar_input)\n",
    "polar_output = GlobalAveragePooling2D()(polar_base_model(polar_input))\n",
    "\n",
    "statistics_branch_model = statistics_model((statistics_X_train.shape[1], 1))\n",
    "statistics_output = statistics_branch_model(statistics_input)"
   ]
  },
  {
   "cell_type": "code",
   "execution_count": 17,
   "id": "e923cbe4",
   "metadata": {},
   "outputs": [],
   "source": [
    "#concatanating the features from both channels\n",
    "\n",
    "combined_input = concatenate([statistics_output, polar_output])\n",
    "x = Dense(256, activation='relu')(combined_input)\n",
    "x = Dropout(0.5)(x)\n",
    "output = Dense((3), activation='softmax')(x)"
   ]
  },
  {
   "cell_type": "code",
   "execution_count": 18,
   "id": "ecc27624",
   "metadata": {},
   "outputs": [],
   "source": [
    "model = Model(inputs=[statistics_input, polar_input], outputs=output)\n",
    "model.compile(optimizer='adam', loss='sparse_categorical_crossentropy', metrics=['accuracy'])"
   ]
  },
  {
   "cell_type": "code",
   "execution_count": 19,
   "id": "f5db9a2b",
   "metadata": {
    "scrolled": true
   },
   "outputs": [
    {
     "name": "stdout",
     "output_type": "stream",
     "text": [
      "Training with 20 epochs and batch size 32\n",
      "Epoch 1/20\n",
      "36/36 [==============================] - 105s 924ms/step - loss: 0.7258 - accuracy: 0.7425 - val_loss: 100.3266 - val_accuracy: 0.3286\n",
      "Epoch 2/20\n",
      "36/36 [==============================] - 36s 1s/step - loss: 0.1725 - accuracy: 0.9558 - val_loss: 72.4804 - val_accuracy: 0.3286\n",
      "Epoch 3/20\n",
      "36/36 [==============================] - 38s 1s/step - loss: 0.0925 - accuracy: 0.9823 - val_loss: 62.3272 - val_accuracy: 0.3286\n",
      "Epoch 4/20\n",
      "36/36 [==============================] - 40s 1s/step - loss: 0.0699 - accuracy: 0.9770 - val_loss: 16.5634 - val_accuracy: 0.3286\n",
      "Epoch 5/20\n",
      "36/36 [==============================] - 36s 993ms/step - loss: 0.0738 - accuracy: 0.9823 - val_loss: 48.2812 - val_accuracy: 0.3286\n",
      "Epoch 6/20\n",
      "36/36 [==============================] - 36s 989ms/step - loss: 0.0068 - accuracy: 0.9973 - val_loss: 49.9537 - val_accuracy: 0.3286\n",
      "Epoch 7/20\n",
      "36/36 [==============================] - 36s 1s/step - loss: 0.0173 - accuracy: 0.9965 - val_loss: 49.1402 - val_accuracy: 0.3286\n",
      "Epoch 8/20\n",
      "36/36 [==============================] - 40s 1s/step - loss: 0.0279 - accuracy: 0.9903 - val_loss: 44.9423 - val_accuracy: 0.3286\n",
      "Epoch 9/20\n",
      "36/36 [==============================] - 40s 1s/step - loss: 0.0145 - accuracy: 0.9956 - val_loss: 48.5043 - val_accuracy: 0.3286\n",
      "Epoch 10/20\n",
      "36/36 [==============================] - 36s 1s/step - loss: 0.0012 - accuracy: 1.0000 - val_loss: 41.4098 - val_accuracy: 0.3286\n",
      "Epoch 11/20\n",
      "36/36 [==============================] - 39s 1s/step - loss: 0.0043 - accuracy: 0.9991 - val_loss: 12.5010 - val_accuracy: 0.3392\n",
      "Epoch 12/20\n",
      "36/36 [==============================] - 39s 1s/step - loss: 0.0745 - accuracy: 0.9743 - val_loss: 11.0680 - val_accuracy: 0.3852\n",
      "Epoch 13/20\n",
      "36/36 [==============================] - 36s 1s/step - loss: 0.0297 - accuracy: 0.9903 - val_loss: 15.7173 - val_accuracy: 0.4028\n",
      "Epoch 14/20\n",
      "36/36 [==============================] - 39s 1s/step - loss: 0.0145 - accuracy: 0.9947 - val_loss: 10.9201 - val_accuracy: 0.3392\n",
      "Epoch 15/20\n",
      "36/36 [==============================] - 38s 1s/step - loss: 0.1054 - accuracy: 0.9752 - val_loss: 38.0610 - val_accuracy: 0.3286\n",
      "Epoch 16/20\n",
      "36/36 [==============================] - 38s 1s/step - loss: 0.0130 - accuracy: 0.9956 - val_loss: 26.2473 - val_accuracy: 0.3286\n",
      "Epoch 17/20\n",
      "36/36 [==============================] - 41s 1s/step - loss: 0.0020 - accuracy: 1.0000 - val_loss: 113.2967 - val_accuracy: 0.3286\n",
      "Epoch 18/20\n",
      "36/36 [==============================] - 39s 1s/step - loss: 0.0012 - accuracy: 1.0000 - val_loss: 100.2951 - val_accuracy: 0.3286\n",
      "Epoch 19/20\n",
      "36/36 [==============================] - 36s 1s/step - loss: 0.0194 - accuracy: 0.9929 - val_loss: 93.6894 - val_accuracy: 0.3286\n",
      "Epoch 20/20\n",
      "36/36 [==============================] - 40s 1s/step - loss: 0.0045 - accuracy: 0.9991 - val_loss: 76.5880 - val_accuracy: 0.3286\n",
      "12/12 [==============================] - 2s 175ms/step - loss: 80.0356 - accuracy: 0.2938\n",
      "12/12 [==============================] - 12s 239ms/step\n"
     ]
    },
    {
     "name": "stderr",
     "output_type": "stream",
     "text": [
      "C:\\Users\\lenovo\\anaconda3\\lib\\site-packages\\sklearn\\metrics\\_classification.py:1318: UndefinedMetricWarning: Precision is ill-defined and being set to 0.0 in labels with no predicted samples. Use `zero_division` parameter to control this behavior.\n",
      "  _warn_prf(average, modifier, msg_start, len(result))\n"
     ]
    },
    {
     "name": "stdout",
     "output_type": "stream",
     "text": [
      "12/12 [==============================] - 3s 216ms/step - loss: 80.0356 - accuracy: 0.2938\n",
      "Training with 20 epochs and batch size 64\n",
      "Epoch 1/20\n",
      "18/18 [==============================] - 34s 2s/step - loss: 9.1894e-04 - accuracy: 1.0000 - val_loss: 74.4998 - val_accuracy: 0.3286\n",
      "Epoch 2/20\n",
      "18/18 [==============================] - 34s 2s/step - loss: 0.0051 - accuracy: 0.9991 - val_loss: 66.1312 - val_accuracy: 0.3286\n",
      "Epoch 3/20\n",
      "18/18 [==============================] - 34s 2s/step - loss: 6.5013e-04 - accuracy: 1.0000 - val_loss: 60.2743 - val_accuracy: 0.3286\n",
      "Epoch 4/20\n",
      "18/18 [==============================] - 34s 2s/step - loss: 5.1498e-04 - accuracy: 1.0000 - val_loss: 56.3517 - val_accuracy: 0.3286\n",
      "Epoch 5/20\n",
      "18/18 [==============================] - 32s 2s/step - loss: 2.7708e-04 - accuracy: 1.0000 - val_loss: 53.9184 - val_accuracy: 0.3286\n",
      "Epoch 6/20\n",
      "18/18 [==============================] - 36s 2s/step - loss: 5.7495e-04 - accuracy: 1.0000 - val_loss: 52.7310 - val_accuracy: 0.3286\n",
      "Epoch 7/20\n",
      "18/18 [==============================] - 36s 2s/step - loss: 2.6514e-04 - accuracy: 1.0000 - val_loss: 52.0113 - val_accuracy: 0.3286\n",
      "Epoch 8/20\n",
      "18/18 [==============================] - 33s 2s/step - loss: 1.8907e-04 - accuracy: 1.0000 - val_loss: 50.3338 - val_accuracy: 0.3286\n",
      "Epoch 9/20\n",
      "18/18 [==============================] - 39s 2s/step - loss: 9.8621e-05 - accuracy: 1.0000 - val_loss: 48.6568 - val_accuracy: 0.3286\n",
      "Epoch 10/20\n",
      "18/18 [==============================] - 37s 2s/step - loss: 1.3616e-04 - accuracy: 1.0000 - val_loss: 46.6976 - val_accuracy: 0.3286\n",
      "Epoch 11/20\n",
      "18/18 [==============================] - 35s 2s/step - loss: 1.8989e-04 - accuracy: 1.0000 - val_loss: 44.7076 - val_accuracy: 0.3286\n",
      "Epoch 12/20\n",
      "18/18 [==============================] - 39s 2s/step - loss: 1.0589e-04 - accuracy: 1.0000 - val_loss: 43.0840 - val_accuracy: 0.3286\n",
      "Epoch 13/20\n",
      "18/18 [==============================] - 38s 2s/step - loss: 1.1681e-04 - accuracy: 1.0000 - val_loss: 41.3385 - val_accuracy: 0.3286\n",
      "Epoch 14/20\n",
      "18/18 [==============================] - 38s 2s/step - loss: 4.8863e-05 - accuracy: 1.0000 - val_loss: 39.6765 - val_accuracy: 0.3286\n",
      "Epoch 15/20\n",
      "18/18 [==============================] - 39s 2s/step - loss: 7.8001e-05 - accuracy: 1.0000 - val_loss: 38.1150 - val_accuracy: 0.3286\n",
      "Epoch 16/20\n",
      "18/18 [==============================] - 41s 2s/step - loss: 4.2209e-05 - accuracy: 1.0000 - val_loss: 36.5199 - val_accuracy: 0.3286\n",
      "Epoch 17/20\n",
      "18/18 [==============================] - 37s 2s/step - loss: 4.7902e-05 - accuracy: 1.0000 - val_loss: 35.0492 - val_accuracy: 0.3286\n",
      "Epoch 18/20\n",
      "18/18 [==============================] - 38s 2s/step - loss: 3.1349e-05 - accuracy: 1.0000 - val_loss: 33.6287 - val_accuracy: 0.3286\n",
      "Epoch 19/20\n",
      "18/18 [==============================] - 89s 5s/step - loss: 4.8211e-05 - accuracy: 1.0000 - val_loss: 32.2756 - val_accuracy: 0.3286\n",
      "Epoch 20/20\n",
      "18/18 [==============================] - 15s 863ms/step - loss: 2.8249e-05 - accuracy: 1.0000 - val_loss: 30.9629 - val_accuracy: 0.3286\n",
      "12/12 [==============================] - 1s 83ms/step - loss: 32.1950 - accuracy: 0.2938\n",
      "12/12 [==============================] - 1s 82ms/step\n",
      " 1/12 [=>............................] - ETA: 1s - loss: 29.5796 - accuracy: 0.3125"
     ]
    },
    {
     "name": "stderr",
     "output_type": "stream",
     "text": [
      "C:\\Users\\lenovo\\anaconda3\\lib\\site-packages\\sklearn\\metrics\\_classification.py:1318: UndefinedMetricWarning: Precision is ill-defined and being set to 0.0 in labels with no predicted samples. Use `zero_division` parameter to control this behavior.\n",
      "  _warn_prf(average, modifier, msg_start, len(result))\n"
     ]
    },
    {
     "name": "stdout",
     "output_type": "stream",
     "text": [
      "12/12 [==============================] - 1s 82ms/step - loss: 32.1950 - accuracy: 0.2938\n",
      "Training with 30 epochs and batch size 32\n",
      "Epoch 1/30\n",
      "36/36 [==============================] - 21s 599ms/step - loss: 5.7215e-05 - accuracy: 1.0000 - val_loss: 28.1843 - val_accuracy: 0.3286\n",
      "Epoch 2/30\n",
      "36/36 [==============================] - 24s 660ms/step - loss: 9.2241e-05 - accuracy: 1.0000 - val_loss: 25.9063 - val_accuracy: 0.3322\n",
      "Epoch 3/30\n",
      "36/36 [==============================] - 28s 783ms/step - loss: 6.6405e-04 - accuracy: 1.0000 - val_loss: 21.3818 - val_accuracy: 0.3322\n",
      "Epoch 4/30\n",
      "36/36 [==============================] - 23s 629ms/step - loss: 0.0047 - accuracy: 0.9982 - val_loss: 11.9831 - val_accuracy: 0.3640\n",
      "Epoch 5/30\n",
      "36/36 [==============================] - 23s 646ms/step - loss: 0.0067 - accuracy: 0.9965 - val_loss: 5.1264 - val_accuracy: 0.4417\n",
      "Epoch 6/30\n",
      "36/36 [==============================] - 21s 586ms/step - loss: 0.0019 - accuracy: 1.0000 - val_loss: 4.4736 - val_accuracy: 0.4947\n",
      "Epoch 7/30\n",
      "36/36 [==============================] - 21s 586ms/step - loss: 0.0120 - accuracy: 0.9982 - val_loss: 3.8732 - val_accuracy: 0.5300\n",
      "Epoch 8/30\n",
      "36/36 [==============================] - 22s 601ms/step - loss: 0.0718 - accuracy: 0.9770 - val_loss: 83.8806 - val_accuracy: 0.3286\n",
      "Epoch 9/30\n",
      "36/36 [==============================] - 21s 588ms/step - loss: 0.0367 - accuracy: 0.9858 - val_loss: 49.5544 - val_accuracy: 0.6078\n",
      "Epoch 10/30\n",
      "36/36 [==============================] - 22s 602ms/step - loss: 0.1175 - accuracy: 0.9885 - val_loss: 79.2855 - val_accuracy: 0.3710\n",
      "Epoch 11/30\n",
      "36/36 [==============================] - 22s 617ms/step - loss: 0.1247 - accuracy: 0.9664 - val_loss: 33261.0703 - val_accuracy: 0.3675\n",
      "Epoch 12/30\n",
      "36/36 [==============================] - 22s 613ms/step - loss: 0.0693 - accuracy: 0.9885 - val_loss: 19227.6113 - val_accuracy: 0.3675\n",
      "Epoch 13/30\n",
      "36/36 [==============================] - 23s 641ms/step - loss: 0.0174 - accuracy: 0.9973 - val_loss: 15369.2920 - val_accuracy: 0.3675\n",
      "Epoch 14/30\n",
      "36/36 [==============================] - 22s 608ms/step - loss: 0.0577 - accuracy: 0.9823 - val_loss: 111.3458 - val_accuracy: 0.3675\n",
      "Epoch 15/30\n",
      "36/36 [==============================] - 21s 599ms/step - loss: 0.0122 - accuracy: 0.9947 - val_loss: 70.1493 - val_accuracy: 0.3675\n",
      "Epoch 16/30\n",
      "36/36 [==============================] - 24s 661ms/step - loss: 0.0066 - accuracy: 0.9973 - val_loss: 56.5295 - val_accuracy: 0.3675\n",
      "Epoch 17/30\n",
      "36/36 [==============================] - 19s 518ms/step - loss: 0.0108 - accuracy: 0.9947 - val_loss: 45.0471 - val_accuracy: 0.3675\n",
      "Epoch 18/30\n",
      "36/36 [==============================] - 21s 587ms/step - loss: 0.0794 - accuracy: 0.9858 - val_loss: 27.4719 - val_accuracy: 0.3675\n",
      "Epoch 19/30\n",
      "36/36 [==============================] - 21s 597ms/step - loss: 0.0092 - accuracy: 0.9973 - val_loss: 81.2172 - val_accuracy: 0.3675\n",
      "Epoch 20/30\n",
      "36/36 [==============================] - 21s 586ms/step - loss: 0.0492 - accuracy: 0.9956 - val_loss: 818.1207 - val_accuracy: 0.3675\n",
      "Epoch 21/30\n",
      "36/36 [==============================] - 20s 555ms/step - loss: 0.0149 - accuracy: 0.9938 - val_loss: 1494.3190 - val_accuracy: 0.3675\n",
      "Epoch 22/30\n",
      "36/36 [==============================] - 19s 538ms/step - loss: 0.0060 - accuracy: 0.9982 - val_loss: 887.6774 - val_accuracy: 0.3675\n",
      "Epoch 23/30\n",
      "36/36 [==============================] - 19s 534ms/step - loss: 0.0124 - accuracy: 0.9973 - val_loss: 822.4289 - val_accuracy: 0.3286\n",
      "Epoch 24/30\n",
      "36/36 [==============================] - 20s 565ms/step - loss: 3.5862e-04 - accuracy: 1.0000 - val_loss: 1248.0090 - val_accuracy: 0.3286\n",
      "Epoch 25/30\n",
      "36/36 [==============================] - 20s 551ms/step - loss: 6.5301e-04 - accuracy: 1.0000 - val_loss: 1469.5632 - val_accuracy: 0.3286\n",
      "Epoch 26/30\n",
      "36/36 [==============================] - 18s 507ms/step - loss: 4.3903e-04 - accuracy: 1.0000 - val_loss: 1283.1071 - val_accuracy: 0.3286\n",
      "Epoch 27/30\n",
      "36/36 [==============================] - 19s 541ms/step - loss: 1.2225e-04 - accuracy: 1.0000 - val_loss: 1119.9381 - val_accuracy: 0.3286\n",
      "Epoch 28/30\n",
      "36/36 [==============================] - 21s 573ms/step - loss: 9.9389e-04 - accuracy: 0.9991 - val_loss: 987.0283 - val_accuracy: 0.3286\n",
      "Epoch 29/30\n",
      "36/36 [==============================] - 20s 571ms/step - loss: 5.8714e-04 - accuracy: 1.0000 - val_loss: 862.9432 - val_accuracy: 0.3286\n",
      "Epoch 30/30\n",
      "36/36 [==============================] - 19s 539ms/step - loss: 5.0793e-04 - accuracy: 1.0000 - val_loss: 698.8356 - val_accuracy: 0.3286\n",
      "12/12 [==============================] - 1s 78ms/step - loss: 759.4508 - accuracy: 0.2938\n",
      "12/12 [==============================] - 1s 79ms/step\n",
      " 1/12 [=>............................] - ETA: 1s - loss: 857.3304 - accuracy: 0.3125"
     ]
    },
    {
     "name": "stderr",
     "output_type": "stream",
     "text": [
      "C:\\Users\\lenovo\\anaconda3\\lib\\site-packages\\sklearn\\metrics\\_classification.py:1318: UndefinedMetricWarning: Precision is ill-defined and being set to 0.0 in labels with no predicted samples. Use `zero_division` parameter to control this behavior.\n",
      "  _warn_prf(average, modifier, msg_start, len(result))\n"
     ]
    },
    {
     "name": "stdout",
     "output_type": "stream",
     "text": [
      "12/12 [==============================] - 1s 78ms/step - loss: 759.4508 - accuracy: 0.2938\n",
      "Training with 30 epochs and batch size 64\n",
      "Epoch 1/30\n",
      "18/18 [==============================] - 15s 820ms/step - loss: 1.1956e-04 - accuracy: 1.0000 - val_loss: 568.9674 - val_accuracy: 0.3286\n",
      "Epoch 2/30\n",
      "18/18 [==============================] - 15s 866ms/step - loss: 1.7013e-05 - accuracy: 1.0000 - val_loss: 512.9966 - val_accuracy: 0.3286\n",
      "Epoch 3/30\n",
      "18/18 [==============================] - 16s 873ms/step - loss: 1.7332e-05 - accuracy: 1.0000 - val_loss: 479.0125 - val_accuracy: 0.3286\n",
      "Epoch 4/30\n",
      "18/18 [==============================] - 16s 890ms/step - loss: 2.0152e-04 - accuracy: 1.0000 - val_loss: 465.4946 - val_accuracy: 0.3286\n",
      "Epoch 5/30\n",
      "18/18 [==============================] - 15s 819ms/step - loss: 3.1354e-05 - accuracy: 1.0000 - val_loss: 443.5953 - val_accuracy: 0.3286\n",
      "Epoch 6/30\n",
      "18/18 [==============================] - 16s 914ms/step - loss: 1.0720e-04 - accuracy: 1.0000 - val_loss: 415.9355 - val_accuracy: 0.3286\n",
      "Epoch 7/30\n",
      "18/18 [==============================] - 15s 846ms/step - loss: 1.1937e-04 - accuracy: 1.0000 - val_loss: 384.2243 - val_accuracy: 0.3286\n",
      "Epoch 8/30\n",
      "18/18 [==============================] - 16s 920ms/step - loss: 1.6793e-05 - accuracy: 1.0000 - val_loss: 360.7084 - val_accuracy: 0.3286\n",
      "Epoch 9/30\n",
      "18/18 [==============================] - 16s 919ms/step - loss: 5.6826e-06 - accuracy: 1.0000 - val_loss: 339.4746 - val_accuracy: 0.3286\n",
      "Epoch 10/30\n",
      "18/18 [==============================] - 15s 829ms/step - loss: 2.6486e-04 - accuracy: 1.0000 - val_loss: 313.3819 - val_accuracy: 0.3286\n",
      "Epoch 11/30\n",
      "18/18 [==============================] - 16s 909ms/step - loss: 1.9905e-05 - accuracy: 1.0000 - val_loss: 294.1651 - val_accuracy: 0.3286\n",
      "Epoch 12/30\n",
      "18/18 [==============================] - 15s 856ms/step - loss: 2.6417e-05 - accuracy: 1.0000 - val_loss: 277.4038 - val_accuracy: 0.3286\n",
      "Epoch 13/30\n",
      "18/18 [==============================] - 16s 888ms/step - loss: 2.0589e-05 - accuracy: 1.0000 - val_loss: 261.6686 - val_accuracy: 0.3286\n",
      "Epoch 14/30\n",
      "18/18 [==============================] - 16s 891ms/step - loss: 1.9356e-05 - accuracy: 1.0000 - val_loss: 247.1769 - val_accuracy: 0.3286\n",
      "Epoch 15/30\n",
      "18/18 [==============================] - 16s 879ms/step - loss: 8.0957e-06 - accuracy: 1.0000 - val_loss: 233.6075 - val_accuracy: 0.3286\n",
      "Epoch 16/30\n",
      "18/18 [==============================] - 14s 804ms/step - loss: 4.1151e-05 - accuracy: 1.0000 - val_loss: 220.8304 - val_accuracy: 0.3286\n",
      "Epoch 17/30\n",
      "18/18 [==============================] - 17s 945ms/step - loss: 1.4226e-05 - accuracy: 1.0000 - val_loss: 209.1797 - val_accuracy: 0.3286\n",
      "Epoch 18/30\n",
      "18/18 [==============================] - 14s 800ms/step - loss: 1.7495e-05 - accuracy: 1.0000 - val_loss: 197.8783 - val_accuracy: 0.3286\n",
      "Epoch 19/30\n",
      "18/18 [==============================] - 17s 931ms/step - loss: 3.3742e-05 - accuracy: 1.0000 - val_loss: 187.0527 - val_accuracy: 0.3286\n",
      "Epoch 20/30\n",
      "18/18 [==============================] - 15s 850ms/step - loss: 1.1754e-04 - accuracy: 1.0000 - val_loss: 176.4310 - val_accuracy: 0.3286\n",
      "Epoch 21/30\n",
      "18/18 [==============================] - 16s 897ms/step - loss: 5.6819e-05 - accuracy: 1.0000 - val_loss: 165.8610 - val_accuracy: 0.3286\n",
      "Epoch 22/30\n",
      "18/18 [==============================] - 14s 796ms/step - loss: 5.2942e-05 - accuracy: 1.0000 - val_loss: 157.0971 - val_accuracy: 0.3286\n",
      "Epoch 23/30\n",
      "18/18 [==============================] - 15s 814ms/step - loss: 9.5534e-06 - accuracy: 1.0000 - val_loss: 148.8307 - val_accuracy: 0.3286\n",
      "Epoch 24/30\n",
      "18/18 [==============================] - 15s 839ms/step - loss: 1.3177e-05 - accuracy: 1.0000 - val_loss: 141.4205 - val_accuracy: 0.3286\n",
      "Epoch 25/30\n",
      "18/18 [==============================] - 16s 888ms/step - loss: 1.6111e-05 - accuracy: 1.0000 - val_loss: 133.9995 - val_accuracy: 0.3286\n",
      "Epoch 26/30\n",
      "18/18 [==============================] - 17s 944ms/step - loss: 1.8986e-05 - accuracy: 1.0000 - val_loss: 127.0471 - val_accuracy: 0.3322\n",
      "Epoch 27/30\n",
      "18/18 [==============================] - 17s 957ms/step - loss: 1.0940e-05 - accuracy: 1.0000 - val_loss: 120.6101 - val_accuracy: 0.3322\n",
      "Epoch 28/30\n",
      "18/18 [==============================] - 17s 949ms/step - loss: 8.4021e-06 - accuracy: 1.0000 - val_loss: 114.4176 - val_accuracy: 0.3322\n",
      "Epoch 29/30\n",
      "18/18 [==============================] - 17s 937ms/step - loss: 1.2557e-05 - accuracy: 1.0000 - val_loss: 108.3633 - val_accuracy: 0.3357\n",
      "Epoch 30/30\n",
      "18/18 [==============================] - 18s 1s/step - loss: 8.1880e-06 - accuracy: 1.0000 - val_loss: 102.4271 - val_accuracy: 0.3357\n",
      "12/12 [==============================] - 1s 86ms/step - loss: 112.2861 - accuracy: 0.3051\n",
      "12/12 [==============================] - 1s 83ms/step\n",
      " 1/12 [=>............................] - ETA: 1s - loss: 139.1050 - accuracy: 0.3125"
     ]
    },
    {
     "name": "stderr",
     "output_type": "stream",
     "text": [
      "C:\\Users\\lenovo\\anaconda3\\lib\\site-packages\\sklearn\\metrics\\_classification.py:1318: UndefinedMetricWarning: Precision is ill-defined and being set to 0.0 in labels with no predicted samples. Use `zero_division` parameter to control this behavior.\n",
      "  _warn_prf(average, modifier, msg_start, len(result))\n"
     ]
    },
    {
     "name": "stdout",
     "output_type": "stream",
     "text": [
      "12/12 [==============================] - 1s 78ms/step - loss: 112.2861 - accuracy: 0.3051\n"
     ]
    }
   ],
   "source": [
    "#model training\n",
    "epochs_list = [20,30]\n",
    "batch_sizes_list = [32,64]\n",
    "results = []\n",
    "best_accuracy = 0.0  # Initialize best_accuracy\n",
    "best_time = 0.0\n",
    "for epoch in epochs_list:\n",
    "    for batch_size in batch_sizes_list:\n",
    "        print(f\"Training with {epoch} epochs and batch size {batch_size}\")\n",
    "        start_time = time.time()\n",
    "        early_stopping = EarlyStopping(monitor='val_loss', patience=3, restore_best_weights=True)\n",
    "        history = model.fit([statistics_X_train, polar_X_train],\n",
    "                            polar_y_train,\n",
    "                            epochs=epoch,\n",
    "                            batch_size=batch_size,\n",
    "                            validation_split=0.2,\n",
    "                            class_weight=class_weights)\n",
    "        end_time = time.time()\n",
    "        elapsed_time = end_time - start_time\n",
    "        # Evaluation\n",
    "        test_loss, test_accuracy = model.evaluate([statistics_X_test, polar_X_test], polar_y_test)\n",
    "        predictions = model.predict([statistics_X_test, polar_X_test])\n",
    "        predicted_labels = np.argmax(predictions, axis=1)\n",
    "\n",
    "        accuracy = accuracy_score(statistics_y_test, predicted_labels)\n",
    "        f1 = f1_score(statistics_y_test, predicted_labels, average='weighted')\n",
    "        precision_vals = precision_score(statistics_y_test, predicted_labels, average=None)\n",
    "        recall_vals = recall_score(statistics_y_test, predicted_labels, average=None)\n",
    "\n",
    "        n_classes = 3  # Number of classes\n",
    "        fpr = dict()\n",
    "        tpr = dict()\n",
    "        roc_auc_vals = dict()\n",
    "\n",
    "        for i in range(n_classes):\n",
    "            fpr[i], tpr[i], _ = roc_curve(statistics_y_test, predictions[:, i], pos_label=i)\n",
    "            roc_auc_vals[i] = auc(fpr[i], tpr[i])\n",
    "\n",
    "        results.append({\n",
    "            'epochs': epoch,\n",
    "            'batch_size': batch_size,\n",
    "            'test_accuracy': test_accuracy,\n",
    "            'accuracy': accuracy,\n",
    "            'f1_score': f1,\n",
    "            'precision': precision_vals,\n",
    "            'recall': recall_vals,\n",
    "            'roc_auc': roc_auc_vals\n",
    "        })\n",
    "        test_loss, test_accuracy = model.evaluate([statistics_X_test, polar_X_test], polar_y_test)\n",
    "\n",
    "        if test_accuracy > best_accuracy:\n",
    "            best_accuracy = test_accuracy\n",
    "            best_time = elapsed_time\n"
   ]
  },
  {
   "cell_type": "code",
   "execution_count": 20,
   "id": "fba76947",
   "metadata": {},
   "outputs": [
    {
     "name": "stdout",
     "output_type": "stream",
     "text": [
      "Epochs: 20, Batch Size: 32, Test Accuracy: 0.29378530383110046, F1-Score: 0.13342214985320605\n",
      "Epochs: 20, Batch Size: 64, Test Accuracy: 0.29378530383110046, F1-Score: 0.13342214985320605\n",
      "Epochs: 30, Batch Size: 32, Test Accuracy: 0.29378530383110046, F1-Score: 0.13342214985320605\n",
      "Epochs: 30, Batch Size: 64, Test Accuracy: 0.3050847351551056, F1-Score: 0.15744920790956682\n",
      "Time taken for best hyperparameters (with test accuracy 0.31): 474.71 seconds\n"
     ]
    }
   ],
   "source": [
    "# print Validation, Accuracy, F1-Score\n",
    "for result in results:\n",
    "    print(f\"Epochs: {result['epochs']}, Batch Size: {result['batch_size']}, Test Accuracy: {result['test_accuracy']}, F1-Score: {result['f1_score']}\")\n",
    "print(f\"Time taken for best hyperparameters (with test accuracy {best_accuracy:.2f}): {best_time:.2f} seconds\")\n"
   ]
  },
  {
   "cell_type": "code",
   "execution_count": 21,
   "id": "52c8cf4d",
   "metadata": {},
   "outputs": [
    {
     "name": "stdout",
     "output_type": "stream",
     "text": [
      "\n",
      "Best Hyperparameters (Test Accuracy):\n",
      "Epochs: 30\n",
      "Batch Size: 64\n",
      "Test Accuracy: 0.3050847351551056\n"
     ]
    }
   ],
   "source": [
    "#best results\n",
    "best_result_test = max(results, key=lambda x: x['test_accuracy'])\n",
    "print(\"\\nBest Hyperparameters (Test Accuracy):\")\n",
    "print(\"Epochs:\", best_result_test['epochs'])\n",
    "print(\"Batch Size:\", best_result_test['batch_size'])\n",
    "print(\"Test Accuracy:\", best_result_test['test_accuracy'])"
   ]
  },
  {
   "cell_type": "code",
   "execution_count": 22,
   "id": "48eb73c1",
   "metadata": {},
   "outputs": [
    {
     "data": {
      "image/png": "[encoded data removed]",
      "text/plain": [
       "<Figure size 800x600 with 1 Axes>"
      ]
     },
     "metadata": {},
     "output_type": "display_data"
    }
   ],
   "source": [
    "#plot roc curve\n",
    "fpr = dict()\n",
    "tpr = dict()\n",
    "roc_auc = dict()\n",
    "n_classes = 3  # Number of classes\n",
    "\n",
    "for i in range(n_classes):\n",
    "    fpr[i], tpr[i], _ = roc_curve(polar_y_test, predictions[:, i], pos_label=i)\n",
    "    roc_auc[i] = auc(fpr[i], tpr[i])\n",
    "\n",
    "# Plot ROC curves for each class\n",
    "plt.figure(figsize=(8, 6))\n",
    "for i in range(n_classes):\n",
    "    plt.plot(fpr[i], tpr[i], label=f'Class {i} (AUC = {roc_auc[i]:0.2f})')\n",
    "\n",
    "plt.plot([0, 1], [0, 1], 'k--')\n",
    "plt.xlim([0.0, 1.0])\n",
    "plt.ylim([0.0, 1.05])\n",
    "plt.xlabel('False Positive Rate')\n",
    "plt.ylabel('True Positive Rate')\n",
    "plt.title('ROC Curve for Each Class')\n",
    "plt.legend(loc=\"lower right\")\n",
    "plt.show()\n"
   ]
  },
  {
   "cell_type": "code",
   "execution_count": 23,
   "id": "87f3301f",
   "metadata": {},
   "outputs": [
    {
     "name": "stdout",
     "output_type": "stream",
     "text": [
      "\n",
      "Precision for Each Class: [0.         0.303207   0.36363636]\n",
      "Recall for Each Class: [0.         1.         0.03252033]\n"
     ]
    },
    {
     "name": "stderr",
     "output_type": "stream",
     "text": [
      "C:\\Users\\lenovo\\anaconda3\\lib\\site-packages\\sklearn\\metrics\\_classification.py:1318: UndefinedMetricWarning: Precision is ill-defined and being set to 0.0 in labels with no predicted samples. Use `zero_division` parameter to control this behavior.\n",
      "  _warn_prf(average, modifier, msg_start, len(result))\n"
     ]
    }
   ],
   "source": [
    "precision = precision_score(polar_y_test, predicted_labels, average=None)\n",
    "recall = recall_score(polar_y_test, predicted_labels, average=None)\n",
    "\n",
    "print(\"\\nPrecision for Each Class:\", precision)\n",
    "print(\"Recall for Each Class:\", recall)\n"
   ]
  },
  {
   "cell_type": "code",
   "execution_count": 24,
   "id": "c1bb09d5",
   "metadata": {},
   "outputs": [
    {
     "data": {
      "image/png": "[encoded data removed]",
      "text/plain": [
       "<Figure size 800x600 with 2 Axes>"
      ]
     },
     "metadata": {},
     "output_type": "display_data"
    }
   ],
   "source": [
    "#plot conf_matrix\n",
    "conf_matrix = confusion_matrix(polar_y_test, predicted_labels)\n",
    "class_labels = ['bopolar', 'irpolar', 'orpolar']\n",
    "confusion_df = pd.DataFrame(conf_matrix, index=class_labels, columns=class_labels)\n",
    "\n",
    "# Plot the confusion matrix using Seaborn\n",
    "plt.figure(figsize=(8, 6))\n",
    "sns.heatmap(confusion_df, annot=True, fmt='d', cmap='Blues', xticklabels=True, yticklabels=True)\n",
    "plt.xlabel('Predicted')\n",
    "plt.ylabel('Actual')\n",
    "plt.title('Confusion Matrix')\n",
    "plt.show()\n"
   ]
  },
  {
   "cell_type": "code",
   "execution_count": null,
   "id": "6057e610",
   "metadata": {},
   "outputs": [],
   "source": []
  }
 ],
 "metadata": {
  "kernelspec": {
   "display_name": "Python 3 (ipykernel)",
   "language": "python",
   "name": "python3"
  },
  "language_info": {
   "codemirror_mode": {
    "name": "ipython",
    "version": 3
   },
   "file_extension": ".py",
   "mimetype": "text/x-python",
   "name": "python",
   "nbconvert_exporter": "python",
   "pygments_lexer": "ipython3",
   "version": "3.9.13"
  }
 },
 "nbformat": 4,
 "nbformat_minor": 5
}
