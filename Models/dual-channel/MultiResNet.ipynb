{
 "cells": [
  {
   "cell_type": "code",
   "execution_count": 1,
   "id": "88a8e70f",
   "metadata": {},
   "outputs": [
    {
     "name": "stderr",
     "output_type": "stream",
     "text": [
      "C:\\Users\\lenovo\\anaconda3\\lib\\site-packages\\scipy\\__init__.py:155: UserWarning: A NumPy version >=1.18.5 and <1.25.0 is required for this version of SciPy (detected version 1.26.0\n",
      "  warnings.warn(f\"A NumPy version >={np_minversion} and <{np_maxversion}\"\n"
     ]
    }
   ],
   "source": [
    "#import libraries\n",
    "import os\n",
    "import cv2\n",
    "import numpy as np\n",
    "import pandas as pd\n",
    "import matplotlib.pyplot as plt\n",
    "import seaborn as sns\n",
    "from collections import Counter\n",
    "from sklearn.model_selection import train_test_split\n",
    "from sklearn.metrics import accuracy_score, f1_score, classification_report, roc_curve, auc\n",
    "from sklearn.metrics import precision_score, recall_score, confusion_matrix\n",
    "from tensorflow.keras.applications import ResNet50\n",
    "from tensorflow.keras.layers import GlobalAveragePooling2D, Dense, Dropout, Input, concatenate,Conv1D, MaxPooling1D,Flatten\n",
    "from tensorflow.keras.models import Model,Sequential\n",
    "from keras.callbacks import EarlyStopping\n",
    "from sklearn.preprocessing import StandardScaler\n",
    "import time\n",
    "from keras.preprocessing.image import ImageDataGenerator\n"
   ]
  },
  {
   "cell_type": "code",
   "execution_count": 2,
   "id": "740420bc",
   "metadata": {},
   "outputs": [],
   "source": [
    "#class inputs\n",
    "base_path = r\"C:\\Users\\lenovo\\\\DualChannelThesis\\CWRU\"\n",
    "\n",
    "statistics_directories = [\n",
    "    base_path + \"\\\\stats\\\\bopolar7\",\n",
    "    base_path + \"\\\\stats\\\\bopolar14\",\n",
    "    base_path + \"\\\\stats\\\\bopolar21\",\n",
    "    base_path + \"\\\\stats\\\\irpolar7\",\n",
    "    base_path + \"\\\\stats\\\\irpolar14\",\n",
    "    base_path + \"\\\\stats\\\\irpolar21\",\n",
    "    base_path + \"\\\\stats\\\\orpolar7\",\n",
    "    base_path + \"\\\\stats\\\\orpolar14\",\n",
    "    base_path + \"\\\\stats\\\\orpolar21\",\n",
    "]\n",
    "\n",
    "image_directories = [\n",
    "    base_path + \"\\\\spectogtam\\\\bopolar7\",\n",
    "    base_path + \"\\\\spectogtam\\\\bopolar14\",\n",
    "    base_path + \"\\\\spectogtam\\\\bopolar21\",\n",
    "    base_path + \"\\\\spectogtam\\\\irpolar7\",\n",
    "    base_path + \"\\\\spectogtam\\\\irpolar14\",\n",
    "    base_path + \"\\\\spectogtam\\\\irpolar21\",\n",
    "    base_path + \"\\\\spectogtam\\\\orpolar7\",\n",
    "    base_path + \"\\\\spectogtam\\\\orpolar14\",\n",
    "    base_path + \"\\\\spectogtam\\\\orpolar21\",\n",
    "]\n"
   ]
  },
  {
   "cell_type": "code",
   "execution_count": 3,
   "id": "f060010f",
   "metadata": {},
   "outputs": [],
   "source": [
    "#class labeling\n",
    "def get_label(directory):\n",
    "    if \"bopolar\" in directory:\n",
    "        return 0  # bopolar\n",
    "    elif \"irpolar\" in directory:\n",
    "        return 1  # irpolar\n",
    "    else:\n",
    "        return 2  # orpolar\n"
   ]
  },
  {
   "cell_type": "code",
   "execution_count": 4,
   "id": "65899bcb",
   "metadata": {},
   "outputs": [],
   "source": [
    "statistics_data = []\n",
    "statistics_labels = []\n",
    "for directory in statistics_directories:\n",
    "    files = os.listdir(directory)\n",
    "    for file in files:\n",
    "        if file.endswith('.csv'):\n",
    "            file_path = os.path.join(directory, file)\n",
    "            df = pd.read_csv(file_path)\n",
    "            if not df.empty:\n",
    "                features = df.values.flatten()\n",
    "                statistics_data.append(features)\n",
    "                statistics_labels.append(get_label(directory))"
   ]
  },
  {
   "cell_type": "code",
   "execution_count": 5,
   "id": "f5a06518",
   "metadata": {},
   "outputs": [],
   "source": [
    "polar_images = []\n",
    "polar_labels = []\n",
    "for directory in image_directories:\n",
    "    files = os.listdir(directory)\n",
    "    for file in files:\n",
    "        if file.endswith('.png'):\n",
    "            file_path = os.path.join(directory, file)\n",
    "            img = cv2.imread(file_path)\n",
    "            img = cv2.cvtColor(img, cv2.COLOR_BGR2RGB)\n",
    "            img = cv2.resize(img, (64, 64))\n",
    "            polar_images.append(img)\n",
    "            polar_labels.append(get_label(directory))"
   ]
  },
  {
   "cell_type": "code",
   "execution_count": 6,
   "id": "e28b2db4",
   "metadata": {},
   "outputs": [],
   "source": [
    "polar_images = np.array(polar_images)\n",
    "polar_labels = np.array(polar_labels)\n",
    "\n",
    "statistics_data = np.array(statistics_data)\n",
    "statistics_labels = np.array(statistics_labels)"
   ]
  },
  {
   "cell_type": "code",
   "execution_count": 7,
   "id": "5ebd8569",
   "metadata": {},
   "outputs": [],
   "source": [
    "#splitting\n",
    "statistics_X_train, statistics_X_test, statistics_y_train, statistics_y_test = train_test_split(\n",
    "    statistics_data, statistics_labels, test_size=0.2, random_state=42)"
   ]
  },
  {
   "cell_type": "code",
   "execution_count": 8,
   "id": "65249813",
   "metadata": {},
   "outputs": [],
   "source": [
    "#scaling the numeric statistical input\n",
    "scaler = StandardScaler()\n",
    "statistics_X_train = scaler.fit_transform(statistics_X_train)\n",
    "statistics_X_test = scaler.transform(statistics_X_test)"
   ]
  },
  {
   "cell_type": "code",
   "execution_count": 9,
   "id": "c1c78316",
   "metadata": {},
   "outputs": [],
   "source": [
    "#splitting\n",
    "polar_X_train, polar_X_test, polar_y_train, polar_y_test = train_test_split(\n",
    "    polar_images, polar_labels, test_size=0.2, random_state=42)"
   ]
  },
  {
   "cell_type": "code",
   "execution_count": 10,
   "id": "b8058dcf",
   "metadata": {},
   "outputs": [],
   "source": [
    "#Generating class weight\n",
    "class_counts = Counter(statistics_labels)\n",
    "total_samples = len(statistics_labels)\n",
    "class_weights = {class_index: total_samples / (class_count * len(class_counts)) for class_index, class_count in class_counts.items()}\n"
   ]
  },
  {
   "cell_type": "code",
   "execution_count": 11,
   "id": "52ca135b",
   "metadata": {},
   "outputs": [],
   "source": [
    "#generate data as a data augmentation step\n",
    "datagen = ImageDataGenerator(rotation_range=20, width_shift_range=0.1, height_shift_range=0.1, horizontal_flip=True)\n",
    "datagen.fit(polar_X_train)"
   ]
  },
  {
   "cell_type": "code",
   "execution_count": 12,
   "id": "705eb840",
   "metadata": {},
   "outputs": [],
   "source": [
    "#define inputs\n",
    "statistics_input = Input(shape=(statistics_X_train.shape[1],1))\n",
    "polar_input = Input(shape=(64, 64, 3))"
   ]
  },
  {
   "cell_type": "code",
   "execution_count": 13,
   "id": "f927eb6a",
   "metadata": {},
   "outputs": [],
   "source": [
    "#define statistic based 1D CNN model\n",
    "def statistics_model(input_shape):\n",
    "    model = Sequential()\n",
    "    model.add(Conv1D(32, 3, activation='relu', input_shape=input_shape, padding=\"same\"))\n",
    "    model.add(MaxPooling1D(2))\n",
    "    model.add(Conv1D(64, 2, activation='relu', padding=\"same\"))  # Changed kernel size to 2\n",
    "    model.add(MaxPooling1D(2))\n",
    "    model.add(Flatten())\n",
    "    model.add(Dense(128, activation='relu'))\n",
    "    return model\n"
   ]
  },
  {
   "cell_type": "code",
   "execution_count": 14,
   "id": "2411bd03",
   "metadata": {},
   "outputs": [],
   "source": [
    "polar_base_model = ResNet50( include_top=False, weights='imagenet', input_tensor=polar_input, pooling='avg')\n",
    "polar_output = polar_base_model(polar_input)\n",
    "\n",
    "statistics_branch_model = statistics_model((statistics_X_train.shape[1], 1))\n",
    "statistics_output = statistics_branch_model(statistics_input)"
   ]
  },
  {
   "cell_type": "code",
   "execution_count": 15,
   "id": "e923cbe4",
   "metadata": {},
   "outputs": [],
   "source": [
    "#concatanating the features from both channels\n",
    "combined_input = concatenate([statistics_output, polar_output])\n",
    "x = Dense(256, activation='relu')(combined_input)\n",
    "x = Dropout(0.5)(x)\n",
    "output = Dense((3), activation='softmax')(x)"
   ]
  },
  {
   "cell_type": "code",
   "execution_count": 16,
   "id": "ecc27624",
   "metadata": {},
   "outputs": [],
   "source": [
    "model = Model(inputs=[statistics_input, polar_input], outputs=output)\n",
    "model.compile(optimizer='adam', loss='sparse_categorical_crossentropy', metrics=['accuracy'])"
   ]
  },
  {
   "cell_type": "code",
   "execution_count": 17,
   "id": "f5db9a2b",
   "metadata": {
    "scrolled": true
   },
   "outputs": [
    {
     "name": "stdout",
     "output_type": "stream",
     "text": [
      "Training with 20 epochs and batch size 32\n",
      "Epoch 1/20\n",
      "36/36 [==============================] - 49s 978ms/step - loss: 0.5845 - accuracy: 0.7858 - val_loss: 247.9525 - val_accuracy: 0.3039\n",
      "Epoch 2/20\n",
      "36/36 [==============================] - 35s 963ms/step - loss: 0.2327 - accuracy: 0.9327 - val_loss: 426.2746 - val_accuracy: 0.3675\n",
      "Epoch 3/20\n",
      "36/36 [==============================] - 35s 963ms/step - loss: 0.1169 - accuracy: 0.9646 - val_loss: 140.8353 - val_accuracy: 0.3675\n",
      "Epoch 4/20\n",
      "36/36 [==============================] - 35s 967ms/step - loss: 0.0201 - accuracy: 0.9938 - val_loss: 31.6688 - val_accuracy: 0.2191\n",
      "Epoch 5/20\n",
      "36/36 [==============================] - 35s 969ms/step - loss: 0.0159 - accuracy: 0.9947 - val_loss: 21.8543 - val_accuracy: 0.1201\n",
      "Epoch 6/20\n",
      "36/36 [==============================] - 35s 969ms/step - loss: 0.0247 - accuracy: 0.9929 - val_loss: 11.9645 - val_accuracy: 0.3675\n",
      "Epoch 7/20\n",
      "36/36 [==============================] - 35s 978ms/step - loss: 0.0143 - accuracy: 0.9956 - val_loss: 0.2549 - val_accuracy: 0.9541\n",
      "Epoch 8/20\n",
      "36/36 [==============================] - 35s 983ms/step - loss: 0.0058 - accuracy: 0.9965 - val_loss: 0.0098 - val_accuracy: 0.9965\n",
      "Epoch 9/20\n",
      "36/36 [==============================] - 35s 977ms/step - loss: 0.0018 - accuracy: 1.0000 - val_loss: 0.0442 - val_accuracy: 0.9823\n",
      "Epoch 10/20\n",
      "36/36 [==============================] - 34s 956ms/step - loss: 7.3330e-04 - accuracy: 1.0000 - val_loss: 0.0027 - val_accuracy: 1.0000\n",
      "Epoch 11/20\n",
      "36/36 [==============================] - 34s 955ms/step - loss: 0.0536 - accuracy: 0.9823 - val_loss: 1.5679 - val_accuracy: 0.8092\n",
      "Epoch 12/20\n",
      "36/36 [==============================] - 35s 984ms/step - loss: 0.0188 - accuracy: 0.9920 - val_loss: 0.8737 - val_accuracy: 0.8233\n",
      "Epoch 13/20\n",
      "36/36 [==============================] - 35s 972ms/step - loss: 0.7999 - accuracy: 0.9248 - val_loss: 13.3871 - val_accuracy: 0.3675\n",
      "Epoch 14/20\n",
      "36/36 [==============================] - 33s 926ms/step - loss: 0.6536 - accuracy: 0.8301 - val_loss: 107.9453 - val_accuracy: 0.3675\n",
      "Epoch 15/20\n",
      "36/36 [==============================] - 32s 894ms/step - loss: 0.2324 - accuracy: 0.8991 - val_loss: 65.0772 - val_accuracy: 0.4629\n",
      "Epoch 16/20\n",
      "36/36 [==============================] - 32s 891ms/step - loss: 0.0784 - accuracy: 0.9717 - val_loss: 71.5896 - val_accuracy: 0.3286\n",
      "Epoch 17/20\n",
      "36/36 [==============================] - 32s 891ms/step - loss: 0.0756 - accuracy: 0.9805 - val_loss: 148.1367 - val_accuracy: 0.3286\n",
      "Epoch 18/20\n",
      "36/36 [==============================] - 32s 893ms/step - loss: 0.0323 - accuracy: 0.9894 - val_loss: 7.3174 - val_accuracy: 0.5618\n",
      "Epoch 19/20\n",
      "36/36 [==============================] - 32s 890ms/step - loss: 0.0118 - accuracy: 0.9965 - val_loss: 0.1022 - val_accuracy: 0.9788\n",
      "Epoch 20/20\n",
      "36/36 [==============================] - 32s 891ms/step - loss: 0.0153 - accuracy: 0.9947 - val_loss: 0.0582 - val_accuracy: 0.9894\n",
      "12/12 [==============================] - 1s 121ms/step - loss: 0.0078 - accuracy: 0.9944\n",
      "12/12 [==============================] - 2s 120ms/step\n",
      "12/12 [==============================] - 1s 117ms/step - loss: 0.0078 - accuracy: 0.9944\n",
      "Training with 20 epochs and batch size 64\n",
      "Epoch 1/20\n",
      "18/18 [==============================] - 28s 2s/step - loss: 0.0156 - accuracy: 0.9947 - val_loss: 0.1483 - val_accuracy: 0.9717\n",
      "Epoch 2/20\n",
      "18/18 [==============================] - 29s 2s/step - loss: 0.0058 - accuracy: 0.9991 - val_loss: 0.1534 - val_accuracy: 0.9682\n",
      "Epoch 3/20\n",
      "18/18 [==============================] - 28s 2s/step - loss: 0.0040 - accuracy: 0.9991 - val_loss: 0.0822 - val_accuracy: 0.9859\n",
      "Epoch 4/20\n",
      "18/18 [==============================] - 29s 2s/step - loss: 0.0048 - accuracy: 0.9982 - val_loss: 0.0534 - val_accuracy: 0.9894\n",
      "Epoch 5/20\n",
      "18/18 [==============================] - 28s 2s/step - loss: 0.0027 - accuracy: 0.9982 - val_loss: 0.8160 - val_accuracy: 0.8057\n",
      "Epoch 6/20\n",
      "18/18 [==============================] - 28s 2s/step - loss: 0.0023 - accuracy: 0.9991 - val_loss: 0.4284 - val_accuracy: 0.8834\n",
      "Epoch 7/20\n",
      "18/18 [==============================] - 28s 2s/step - loss: 6.6143e-04 - accuracy: 1.0000 - val_loss: 0.1407 - val_accuracy: 0.9788\n",
      "Epoch 8/20\n",
      "18/18 [==============================] - 29s 2s/step - loss: 6.3386e-04 - accuracy: 1.0000 - val_loss: 0.0869 - val_accuracy: 0.9823\n",
      "Epoch 9/20\n",
      "18/18 [==============================] - 28s 2s/step - loss: 4.5662e-04 - accuracy: 1.0000 - val_loss: 0.0809 - val_accuracy: 0.9859\n",
      "Epoch 10/20\n",
      "18/18 [==============================] - 28s 2s/step - loss: 0.0011 - accuracy: 1.0000 - val_loss: 0.0303 - val_accuracy: 0.9859\n",
      "Epoch 11/20\n",
      "18/18 [==============================] - 29s 2s/step - loss: 3.2460e-04 - accuracy: 1.0000 - val_loss: 0.0771 - val_accuracy: 0.9823\n",
      "Epoch 12/20\n",
      "18/18 [==============================] - 28s 2s/step - loss: 0.0033 - accuracy: 0.9982 - val_loss: 0.0462 - val_accuracy: 0.9929\n",
      "Epoch 13/20\n",
      "18/18 [==============================] - 28s 2s/step - loss: 0.0014 - accuracy: 1.0000 - val_loss: 0.0761 - val_accuracy: 0.9894\n",
      "Epoch 14/20\n",
      "18/18 [==============================] - 28s 2s/step - loss: 0.0079 - accuracy: 0.9982 - val_loss: 0.2992 - val_accuracy: 0.9329\n",
      "Epoch 15/20\n",
      "18/18 [==============================] - 28s 2s/step - loss: 0.0075 - accuracy: 0.9973 - val_loss: 0.3008 - val_accuracy: 0.9435\n",
      "Epoch 16/20\n",
      "18/18 [==============================] - 28s 2s/step - loss: 0.0045 - accuracy: 0.9982 - val_loss: 0.6349 - val_accuracy: 0.8587\n",
      "Epoch 17/20\n",
      "18/18 [==============================] - 28s 2s/step - loss: 0.0021 - accuracy: 0.9991 - val_loss: 0.9980 - val_accuracy: 0.8269\n",
      "Epoch 18/20\n",
      "18/18 [==============================] - 28s 2s/step - loss: 3.0010e-04 - accuracy: 1.0000 - val_loss: 0.0535 - val_accuracy: 0.9823\n",
      "Epoch 19/20\n",
      "18/18 [==============================] - 28s 2s/step - loss: 7.5859e-04 - accuracy: 1.0000 - val_loss: 0.2891 - val_accuracy: 0.9187\n",
      "Epoch 20/20\n",
      "18/18 [==============================] - 28s 2s/step - loss: 5.1472e-04 - accuracy: 1.0000 - val_loss: 0.1676 - val_accuracy: 0.9541\n",
      "12/12 [==============================] - 1s 122ms/step - loss: 0.1185 - accuracy: 0.9605\n",
      "12/12 [==============================] - 1s 118ms/step\n",
      "12/12 [==============================] - 2s 123ms/step - loss: 0.1185 - accuracy: 0.9605\n",
      "Training with 30 epochs and batch size 32\n",
      "Epoch 1/30\n",
      "36/36 [==============================] - 31s 876ms/step - loss: 3.4004e-04 - accuracy: 1.0000 - val_loss: 0.0284 - val_accuracy: 0.9929\n",
      "Epoch 2/30\n",
      "36/36 [==============================] - 32s 878ms/step - loss: 0.0053 - accuracy: 0.9991 - val_loss: 0.0826 - val_accuracy: 0.9859\n",
      "Epoch 3/30\n",
      "36/36 [==============================] - 32s 882ms/step - loss: 0.0871 - accuracy: 0.9761 - val_loss: 16.1135 - val_accuracy: 0.3675\n",
      "Epoch 4/30\n",
      "36/36 [==============================] - 32s 879ms/step - loss: 0.0596 - accuracy: 0.9823 - val_loss: 33.4941 - val_accuracy: 0.4276\n",
      "Epoch 5/30\n",
      "36/36 [==============================] - 32s 881ms/step - loss: 0.0269 - accuracy: 0.9938 - val_loss: 4.6697 - val_accuracy: 0.6184\n",
      "Epoch 6/30\n",
      "36/36 [==============================] - 32s 882ms/step - loss: 0.0171 - accuracy: 0.9947 - val_loss: 0.2575 - val_accuracy: 0.9541\n",
      "Epoch 7/30\n",
      "36/36 [==============================] - 32s 884ms/step - loss: 0.0141 - accuracy: 0.9956 - val_loss: 1.7650 - val_accuracy: 0.8021\n",
      "Epoch 8/30\n",
      "36/36 [==============================] - 32s 882ms/step - loss: 0.0171 - accuracy: 0.9920 - val_loss: 0.5005 - val_accuracy: 0.9081\n",
      "Epoch 9/30\n",
      "36/36 [==============================] - 32s 881ms/step - loss: 0.0249 - accuracy: 0.9947 - val_loss: 1.5870 - val_accuracy: 0.6890\n",
      "Epoch 10/30\n",
      "36/36 [==============================] - 32s 879ms/step - loss: 0.0150 - accuracy: 0.9938 - val_loss: 0.1531 - val_accuracy: 0.9717\n",
      "Epoch 11/30\n",
      "36/36 [==============================] - 32s 880ms/step - loss: 0.0025 - accuracy: 0.9991 - val_loss: 0.0654 - val_accuracy: 0.9823\n",
      "Epoch 12/30\n",
      "36/36 [==============================] - 32s 885ms/step - loss: 0.0024 - accuracy: 0.9991 - val_loss: 0.0891 - val_accuracy: 0.9823\n",
      "Epoch 13/30\n",
      "36/36 [==============================] - 32s 878ms/step - loss: 0.0016 - accuracy: 1.0000 - val_loss: 0.0427 - val_accuracy: 0.9894\n",
      "Epoch 14/30\n"
     ]
    },
    {
     "name": "stdout",
     "output_type": "stream",
     "text": [
      "36/36 [==============================] - 32s 880ms/step - loss: 0.0049 - accuracy: 0.9982 - val_loss: 0.0411 - val_accuracy: 0.9965\n",
      "Epoch 15/30\n",
      "36/36 [==============================] - 32s 881ms/step - loss: 0.0010 - accuracy: 1.0000 - val_loss: 0.0244 - val_accuracy: 0.9929\n",
      "Epoch 16/30\n",
      "36/36 [==============================] - 32s 881ms/step - loss: 0.0040 - accuracy: 0.9991 - val_loss: 0.0136 - val_accuracy: 0.9965\n",
      "Epoch 17/30\n",
      "36/36 [==============================] - 32s 881ms/step - loss: 1.6343e-04 - accuracy: 1.0000 - val_loss: 0.0151 - val_accuracy: 0.9965\n",
      "Epoch 18/30\n",
      "36/36 [==============================] - 32s 879ms/step - loss: 0.0012 - accuracy: 1.0000 - val_loss: 0.0207 - val_accuracy: 0.9929\n",
      "Epoch 19/30\n",
      "36/36 [==============================] - 32s 881ms/step - loss: 5.5691e-04 - accuracy: 1.0000 - val_loss: 0.0212 - val_accuracy: 0.9929\n",
      "Epoch 20/30\n",
      "36/36 [==============================] - 32s 879ms/step - loss: 0.0010 - accuracy: 1.0000 - val_loss: 0.0361 - val_accuracy: 0.9929\n",
      "Epoch 21/30\n",
      "36/36 [==============================] - 32s 879ms/step - loss: 0.0034 - accuracy: 0.9991 - val_loss: 0.2984 - val_accuracy: 0.9258\n",
      "Epoch 22/30\n",
      "36/36 [==============================] - 32s 879ms/step - loss: 5.3167e-04 - accuracy: 1.0000 - val_loss: 0.1487 - val_accuracy: 0.9753\n",
      "Epoch 23/30\n",
      "36/36 [==============================] - 32s 880ms/step - loss: 1.3286e-04 - accuracy: 1.0000 - val_loss: 0.0910 - val_accuracy: 0.9823\n",
      "Epoch 24/30\n",
      "36/36 [==============================] - 32s 881ms/step - loss: 1.7654e-04 - accuracy: 1.0000 - val_loss: 0.0648 - val_accuracy: 0.9859\n",
      "Epoch 25/30\n",
      "36/36 [==============================] - 32s 881ms/step - loss: 3.3846e-04 - accuracy: 1.0000 - val_loss: 0.0303 - val_accuracy: 0.9894\n",
      "Epoch 26/30\n",
      "36/36 [==============================] - 32s 881ms/step - loss: 5.4057e-04 - accuracy: 1.0000 - val_loss: 0.0256 - val_accuracy: 0.9894\n",
      "Epoch 27/30\n",
      "36/36 [==============================] - 32s 881ms/step - loss: 6.9057e-05 - accuracy: 1.0000 - val_loss: 0.0210 - val_accuracy: 0.9894\n",
      "Epoch 28/30\n",
      "36/36 [==============================] - 32s 884ms/step - loss: 8.3669e-05 - accuracy: 1.0000 - val_loss: 0.0202 - val_accuracy: 0.9894\n",
      "Epoch 29/30\n",
      "36/36 [==============================] - 32s 880ms/step - loss: 5.3083e-04 - accuracy: 1.0000 - val_loss: 0.0561 - val_accuracy: 0.9929\n",
      "Epoch 30/30\n",
      "36/36 [==============================] - 32s 880ms/step - loss: 2.4503e-04 - accuracy: 1.0000 - val_loss: 0.0801 - val_accuracy: 0.9894\n",
      "12/12 [==============================] - 1s 113ms/step - loss: 0.0224 - accuracy: 0.9944\n",
      "12/12 [==============================] - 1s 113ms/step\n",
      "12/12 [==============================] - 1s 118ms/step - loss: 0.0224 - accuracy: 0.9944\n",
      "Training with 30 epochs and batch size 64\n",
      "Epoch 1/30\n",
      "18/18 [==============================] - 28s 2s/step - loss: 8.4621e-05 - accuracy: 1.0000 - val_loss: 0.0671 - val_accuracy: 0.9894\n",
      "Epoch 2/30\n",
      "18/18 [==============================] - 28s 2s/step - loss: 4.1638e-05 - accuracy: 1.0000 - val_loss: 0.0625 - val_accuracy: 0.9929\n",
      "Epoch 3/30\n",
      "18/18 [==============================] - 28s 2s/step - loss: 9.6374e-05 - accuracy: 1.0000 - val_loss: 0.0593 - val_accuracy: 0.9929\n",
      "Epoch 4/30\n",
      "18/18 [==============================] - 28s 2s/step - loss: 1.3001e-04 - accuracy: 1.0000 - val_loss: 0.0563 - val_accuracy: 0.9929\n",
      "Epoch 5/30\n",
      "18/18 [==============================] - 28s 2s/step - loss: 5.6935e-05 - accuracy: 1.0000 - val_loss: 0.0517 - val_accuracy: 0.9929\n",
      "Epoch 6/30\n",
      "18/18 [==============================] - 29s 2s/step - loss: 3.0717e-05 - accuracy: 1.0000 - val_loss: 0.0503 - val_accuracy: 0.9929\n",
      "Epoch 7/30\n",
      "18/18 [==============================] - 28s 2s/step - loss: 6.0562e-05 - accuracy: 1.0000 - val_loss: 0.0487 - val_accuracy: 0.9929\n",
      "Epoch 8/30\n",
      "18/18 [==============================] - 28s 2s/step - loss: 5.2893e-05 - accuracy: 1.0000 - val_loss: 0.0482 - val_accuracy: 0.9929\n",
      "Epoch 9/30\n",
      "18/18 [==============================] - 28s 2s/step - loss: 4.0465e-05 - accuracy: 1.0000 - val_loss: 0.0477 - val_accuracy: 0.9929\n",
      "Epoch 10/30\n",
      "18/18 [==============================] - 28s 2s/step - loss: 3.7986e-05 - accuracy: 1.0000 - val_loss: 0.0486 - val_accuracy: 0.9929\n",
      "Epoch 11/30\n",
      "18/18 [==============================] - 28s 2s/step - loss: 2.9216e-04 - accuracy: 1.0000 - val_loss: 0.0520 - val_accuracy: 0.9929\n",
      "Epoch 12/30\n",
      "18/18 [==============================] - 28s 2s/step - loss: 3.1711e-04 - accuracy: 1.0000 - val_loss: 0.0413 - val_accuracy: 0.9965\n",
      "Epoch 13/30\n",
      "18/18 [==============================] - 28s 2s/step - loss: 5.8507e-05 - accuracy: 1.0000 - val_loss: 0.0423 - val_accuracy: 0.9965\n",
      "Epoch 14/30\n",
      "18/18 [==============================] - 28s 2s/step - loss: 1.6352e-04 - accuracy: 1.0000 - val_loss: 0.0483 - val_accuracy: 0.9929\n",
      "Epoch 15/30\n",
      "18/18 [==============================] - 28s 2s/step - loss: 1.1495e-04 - accuracy: 1.0000 - val_loss: 0.0519 - val_accuracy: 0.9929\n",
      "Epoch 16/30\n",
      "18/18 [==============================] - 28s 2s/step - loss: 1.0442e-04 - accuracy: 1.0000 - val_loss: 0.0472 - val_accuracy: 0.9965\n",
      "Epoch 17/30\n",
      "18/18 [==============================] - 28s 2s/step - loss: 1.2342e-04 - accuracy: 1.0000 - val_loss: 0.0471 - val_accuracy: 0.9929\n",
      "Epoch 18/30\n",
      "18/18 [==============================] - 28s 2s/step - loss: 5.2800e-05 - accuracy: 1.0000 - val_loss: 0.0476 - val_accuracy: 0.9929\n",
      "Epoch 19/30\n",
      "18/18 [==============================] - 28s 2s/step - loss: 2.5254e-05 - accuracy: 1.0000 - val_loss: 0.0473 - val_accuracy: 0.9929\n",
      "Epoch 20/30\n",
      "18/18 [==============================] - 28s 2s/step - loss: 2.0382e-05 - accuracy: 1.0000 - val_loss: 0.0477 - val_accuracy: 0.9929\n",
      "Epoch 21/30\n",
      "18/18 [==============================] - 28s 2s/step - loss: 1.0741e-04 - accuracy: 1.0000 - val_loss: 0.0492 - val_accuracy: 0.9929\n",
      "Epoch 22/30\n",
      "18/18 [==============================] - 28s 2s/step - loss: 3.3873e-05 - accuracy: 1.0000 - val_loss: 0.0500 - val_accuracy: 0.9929\n",
      "Epoch 23/30\n",
      "18/18 [==============================] - 28s 2s/step - loss: 1.7338e-05 - accuracy: 1.0000 - val_loss: 0.0498 - val_accuracy: 0.9929\n",
      "Epoch 24/30\n",
      "18/18 [==============================] - 28s 2s/step - loss: 3.8197e-05 - accuracy: 1.0000 - val_loss: 0.0499 - val_accuracy: 0.9929\n",
      "Epoch 25/30\n",
      "18/18 [==============================] - 28s 2s/step - loss: 2.1867e-05 - accuracy: 1.0000 - val_loss: 0.0500 - val_accuracy: 0.9929\n",
      "Epoch 26/30\n",
      "18/18 [==============================] - 28s 2s/step - loss: 2.8589e-05 - accuracy: 1.0000 - val_loss: 0.0495 - val_accuracy: 0.9929\n",
      "Epoch 27/30\n",
      "18/18 [==============================] - 28s 2s/step - loss: 5.4006e-05 - accuracy: 1.0000 - val_loss: 0.0497 - val_accuracy: 0.9929\n",
      "Epoch 28/30\n",
      "18/18 [==============================] - 28s 2s/step - loss: 4.3662e-05 - accuracy: 1.0000 - val_loss: 0.0486 - val_accuracy: 0.9929\n",
      "Epoch 29/30\n",
      "18/18 [==============================] - 28s 2s/step - loss: 4.7210e-05 - accuracy: 1.0000 - val_loss: 0.0487 - val_accuracy: 0.9929\n",
      "Epoch 30/30\n",
      "18/18 [==============================] - 28s 2s/step - loss: 6.2978e-05 - accuracy: 1.0000 - val_loss: 0.0457 - val_accuracy: 0.9929\n",
      "12/12 [==============================] - 1s 121ms/step - loss: 0.0132 - accuracy: 0.9944\n",
      "12/12 [==============================] - 1s 120ms/step\n",
      "12/12 [==============================] - 1s 119ms/step - loss: 0.0132 - accuracy: 0.9944\n"
     ]
    }
   ],
   "source": [
    "#model training\n",
    "epochs_list = [20,30]\n",
    "batch_sizes_list = [32,64]\n",
    "results = []\n",
    "best_accuracy = 0.0  # Initialize best_accuracy\n",
    "best_time = 0.0\n",
    "for epoch in epochs_list:\n",
    "    for batch_size in batch_sizes_list:\n",
    "        print(f\"Training with {epoch} epochs and batch size {batch_size}\")\n",
    "        start_time = time.time()\n",
    "        early_stopping = EarlyStopping(monitor='val_loss', patience=3, restore_best_weights=True)\n",
    "        history = model.fit([statistics_X_train, polar_X_train],\n",
    "                            polar_y_train,\n",
    "                            epochs=epoch,\n",
    "                            batch_size=batch_size,\n",
    "                            validation_split=0.2,\n",
    "                            class_weight=class_weights)\n",
    "        end_time = time.time()\n",
    "        elapsed_time = end_time - start_time\n",
    "        # Evaluation\n",
    "        test_loss, test_accuracy = model.evaluate([statistics_X_test, polar_X_test], polar_y_test)\n",
    "        predictions = model.predict([statistics_X_test, polar_X_test])\n",
    "        predicted_labels = np.argmax(predictions, axis=1)\n",
    "\n",
    "        accuracy = accuracy_score(statistics_y_test, predicted_labels)\n",
    "        f1 = f1_score(statistics_y_test, predicted_labels, average='weighted')\n",
    "        precision_vals = precision_score(statistics_y_test, predicted_labels, average=None)\n",
    "        recall_vals = recall_score(statistics_y_test, predicted_labels, average=None)\n",
    "\n",
    "        n_classes = 3  # Number of classes\n",
    "        fpr = dict()\n",
    "        tpr = dict()\n",
    "        roc_auc_vals = dict()\n",
    "\n",
    "        for i in range(n_classes):\n",
    "            fpr[i], tpr[i], _ = roc_curve(statistics_y_test, predictions[:, i], pos_label=i)\n",
    "            roc_auc_vals[i] = auc(fpr[i], tpr[i])\n",
    "\n",
    "        results.append({\n",
    "            'epochs': epoch,\n",
    "            'batch_size': batch_size,\n",
    "            'test_accuracy': test_accuracy,\n",
    "            'accuracy': accuracy,\n",
    "            'f1_score': f1,\n",
    "            'precision': precision_vals,\n",
    "            'recall': recall_vals,\n",
    "            'roc_auc': roc_auc_vals\n",
    "        })\n",
    "        test_loss, test_accuracy = model.evaluate([statistics_X_test, polar_X_test], polar_y_test)\n",
    "\n",
    "        if test_accuracy > best_accuracy:\n",
    "            best_accuracy = test_accuracy\n",
    "            best_time = elapsed_time\n"
   ]
  },
  {
   "cell_type": "code",
   "execution_count": 18,
   "id": "fba76947",
   "metadata": {},
   "outputs": [
    {
     "name": "stdout",
     "output_type": "stream",
     "text": [
      "Epochs: 20, Batch Size: 32, Test Accuracy: 0.994350254535675, F1-Score: 0.994339424879943\n",
      "Epochs: 20, Batch Size: 64, Test Accuracy: 0.9604519605636597, F1-Score: 0.9607756823410645\n",
      "Epochs: 30, Batch Size: 32, Test Accuracy: 0.994350254535675, F1-Score: 0.9943506440909393\n",
      "Epochs: 30, Batch Size: 64, Test Accuracy: 0.994350254535675, F1-Score: 0.9943502824858758\n",
      "Time taken for best hyperparameters (with test accuracy 0.99): 693.61 seconds\n"
     ]
    }
   ],
   "source": [
    "# print Validation, Accuracy, F1-Score\n",
    "for result in results:\n",
    "    print(f\"Epochs: {result['epochs']}, Batch Size: {result['batch_size']}, Test Accuracy: {result['test_accuracy']}, F1-Score: {result['f1_score']}\")\n",
    "print(f\"Time taken for best hyperparameters (with test accuracy {best_accuracy:.2f}): {best_time:.2f} seconds\")\n"
   ]
  },
  {
   "cell_type": "code",
   "execution_count": 19,
   "id": "52c8cf4d",
   "metadata": {},
   "outputs": [
    {
     "name": "stdout",
     "output_type": "stream",
     "text": [
      "\n",
      "Best Hyperparameters (Test Accuracy):\n",
      "Epochs: 20\n",
      "Batch Size: 32\n",
      "Test Accuracy: 0.994350254535675\n"
     ]
    }
   ],
   "source": [
    "#best results\n",
    "best_result_test = max(results, key=lambda x: x['test_accuracy'])\n",
    "print(\"\\nBest Hyperparameters (Test Accuracy):\")\n",
    "print(\"Epochs:\", best_result_test['epochs'])\n",
    "print(\"Batch Size:\", best_result_test['batch_size'])\n",
    "print(\"Test Accuracy:\", best_result_test['test_accuracy'])"
   ]
  },
  {
   "cell_type": "code",
   "execution_count": 20,
   "id": "48eb73c1",
   "metadata": {},
   "outputs": [
    {
     "data": {
      "image/png": "[encoded data removed]",
      "text/plain": [
       "<Figure size 800x600 with 1 Axes>"
      ]
     },
     "metadata": {},
     "output_type": "display_data"
    }
   ],
   "source": [
    "#plot roc curve\n",
    "fpr = dict()\n",
    "tpr = dict()\n",
    "roc_auc = dict()\n",
    "n_classes = 3  \n",
    "\n",
    "for i in range(n_classes):\n",
    "    fpr[i], tpr[i], _ = roc_curve(polar_y_test, predictions[:, i], pos_label=i)\n",
    "    roc_auc[i] = auc(fpr[i], tpr[i])\n",
    "\n",
    "plt.figure(figsize=(8, 6))\n",
    "for i in range(n_classes):\n",
    "    plt.plot(fpr[i], tpr[i], label=f'Class {i} (AUC = {roc_auc[i]:0.2f})')\n",
    "\n",
    "plt.plot([0, 1], [0, 1], 'k--')\n",
    "plt.xlim([0.0, 1.0])\n",
    "plt.ylim([0.0, 1.05])\n",
    "plt.xlabel('False Positive Rate')\n",
    "plt.ylabel('True Positive Rate')\n",
    "plt.title('ROC Curve for Each Class')\n",
    "plt.legend(loc=\"lower right\")\n",
    "plt.show()\n"
   ]
  },
  {
   "cell_type": "code",
   "execution_count": 21,
   "id": "87f3301f",
   "metadata": {},
   "outputs": [
    {
     "name": "stdout",
     "output_type": "stream",
     "text": [
      "\n",
      "Precision for Each Class: [0.99212598 1.         0.99186992]\n",
      "Recall for Each Class: [0.99212598 1.         0.99186992]\n"
     ]
    }
   ],
   "source": [
    "precision = precision_score(polar_y_test, predicted_labels, average=None)\n",
    "recall = recall_score(polar_y_test, predicted_labels, average=None)\n",
    "\n",
    "print(\"\\nPrecision for Each Class:\", precision)\n",
    "print(\"Recall for Each Class:\", recall)\n"
   ]
  },
  {
   "cell_type": "code",
   "execution_count": 22,
   "id": "c1bb09d5",
   "metadata": {},
   "outputs": [
    {
     "data": {
      "image/png": "[encoded data removed]",
      "text/plain": [
       "<Figure size 800x600 with 2 Axes>"
      ]
     },
     "metadata": {},
     "output_type": "display_data"
    }
   ],
   "source": [
    "#plot conf_matrix\n",
    "conf_matrix = confusion_matrix(polar_y_test, predicted_labels)\n",
    "class_labels = ['bopolar', 'irpolar', 'orpolar']\n",
    "confusion_df = pd.DataFrame(conf_matrix, index=class_labels, columns=class_labels)\n",
    "\n",
    "plt.figure(figsize=(8, 6))\n",
    "sns.heatmap(confusion_df, annot=True, fmt='d', cmap='Blues', xticklabels=True, yticklabels=True)\n",
    "plt.xlabel('Predicted')\n",
    "plt.ylabel('Actual')\n",
    "plt.title('Confusion Matrix')\n",
    "plt.show()\n"
   ]
  },
  {
   "cell_type": "code",
   "execution_count": null,
   "id": "6057e610",
   "metadata": {},
   "outputs": [],
   "source": []
  }
 ],
 "metadata": {
  "kernelspec": {
   "display_name": "Python 3 (ipykernel)",
   "language": "python",
   "name": "python3"
  },
  "language_info": {
   "codemirror_mode": {
    "name": "ipython",
    "version": 3
   },
   "file_extension": ".py",
   "mimetype": "text/x-python",
   "name": "python",
   "nbconvert_exporter": "python",
   "pygments_lexer": "ipython3",
   "version": "3.9.13"
  }
 },
 "nbformat": 4,
 "nbformat_minor": 5
}
