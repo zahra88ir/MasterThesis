{
 "cells": [
  {
   "cell_type": "code",
   "execution_count": 1,
   "id": "88a8e70f",
   "metadata": {},
   "outputs": [
    {
     "name": "stderr",
     "output_type": "stream",
     "text": [
      "C:\\Users\\lenovo\\anaconda3\\lib\\site-packages\\scipy\\__init__.py:155: UserWarning: A NumPy version >=1.18.5 and <1.25.0 is required for this version of SciPy (detected version 1.26.0\n",
      "  warnings.warn(f\"A NumPy version >={np_minversion} and <{np_maxversion}\"\n"
     ]
    }
   ],
   "source": [
    "#import libraries\n",
    "import os\n",
    "import cv2\n",
    "import numpy as np\n",
    "import pandas as pd\n",
    "import matplotlib.pyplot as plt\n",
    "import seaborn as sns\n",
    "from collections import Counter\n",
    "from sklearn.model_selection import train_test_split\n",
    "from sklearn.metrics import accuracy_score, f1_score, classification_report, roc_curve, auc\n",
    "from sklearn.metrics import precision_score, recall_score, confusion_matrix\n",
    "from tensorflow.keras.applications import VGG16\n",
    "from tensorflow.keras.layers import GlobalAveragePooling2D, Dense, Dropout, Input, concatenate,Conv1D, MaxPooling1D,Flatten\n",
    "from tensorflow.keras.models import Model,Sequential\n",
    "from keras.callbacks import EarlyStopping\n",
    "from sklearn.preprocessing import StandardScaler\n",
    "import time\n",
    "from keras.preprocessing.image import ImageDataGenerator\n"
   ]
  },
  {
   "cell_type": "code",
   "execution_count": 2,
   "id": "740420bc",
   "metadata": {},
   "outputs": [],
   "source": [
    "#class inputs\n",
    "base_path = r\"C:\\Users\\lenovo\\\\DualChannelThesis\\CWRU\"\n",
    "\n",
    "statistics_directories = [\n",
    "    base_path + \"\\\\stats\\\\bopolar7\",\n",
    "    base_path + \"\\\\stats\\\\bopolar14\",\n",
    "    base_path + \"\\\\stats\\\\bopolar21\",\n",
    "    base_path + \"\\\\stats\\\\irpolar7\",\n",
    "    base_path + \"\\\\stats\\\\irpolar14\",\n",
    "    base_path + \"\\\\stats\\\\irpolar21\",\n",
    "    base_path + \"\\\\stats\\\\orpolar7\",\n",
    "    base_path + \"\\\\stats\\\\orpolar14\",\n",
    "    base_path + \"\\\\stats\\\\orpolar21\",\n",
    "]\n",
    "\n",
    "image_directories = [\n",
    "    base_path + \"\\\\spectogtam\\\\bopolar7\",\n",
    "    base_path + \"\\\\spectogtam\\\\bopolar14\",\n",
    "    base_path + \"\\\\spectogtam\\\\bopolar21\",\n",
    "    base_path + \"\\\\spectogtam\\\\irpolar7\",\n",
    "    base_path + \"\\\\spectogtam\\\\irpolar14\",\n",
    "    base_path + \"\\\\spectogtam\\\\irpolar21\",\n",
    "    base_path + \"\\\\spectogtam\\\\orpolar7\",\n",
    "    base_path + \"\\\\spectogtam\\\\orpolar14\",\n",
    "    base_path + \"\\\\spectogtam\\\\orpolar21\",\n",
    "]\n"
   ]
  },
  {
   "cell_type": "code",
   "execution_count": 3,
   "id": "f060010f",
   "metadata": {},
   "outputs": [],
   "source": [
    "def get_label(directory):\n",
    "    if \"bopolar\" in directory:\n",
    "        return 0  # bopolar\n",
    "    elif \"irpolar\" in directory:\n",
    "        return 1  # irpolar\n",
    "    else:\n",
    "        return 2  # orpolar\n"
   ]
  },
  {
   "cell_type": "code",
   "execution_count": 4,
   "id": "65899bcb",
   "metadata": {},
   "outputs": [],
   "source": [
    "statistics_data = []\n",
    "statistics_labels = []\n",
    "for directory in statistics_directories:\n",
    "    files = os.listdir(directory)\n",
    "    for file in files:\n",
    "        if file.endswith('.csv'):\n",
    "            file_path = os.path.join(directory, file)\n",
    "            df = pd.read_csv(file_path)\n",
    "            if not df.empty:\n",
    "                features = df.values.flatten()\n",
    "                statistics_data.append(features)\n",
    "                statistics_labels.append(get_label(directory))"
   ]
  },
  {
   "cell_type": "code",
   "execution_count": 5,
   "id": "f5a06518",
   "metadata": {},
   "outputs": [],
   "source": [
    "polar_images = []\n",
    "polar_labels = []\n",
    "for directory in image_directories:\n",
    "    files = os.listdir(directory)\n",
    "    for file in files:\n",
    "        if file.endswith('.png'):\n",
    "            file_path = os.path.join(directory, file)\n",
    "            img = cv2.imread(file_path)\n",
    "            img = cv2.cvtColor(img, cv2.COLOR_BGR2RGB)\n",
    "            img = cv2.resize(img, (64, 64))\n",
    "            polar_images.append(img)\n",
    "            polar_labels.append(get_label(directory))"
   ]
  },
  {
   "cell_type": "code",
   "execution_count": 6,
   "id": "e28b2db4",
   "metadata": {},
   "outputs": [],
   "source": [
    "polar_images = np.array(polar_images)\n",
    "polar_labels = np.array(polar_labels)\n",
    "\n",
    "statistics_data = np.array(statistics_data)\n",
    "statistics_labels = np.array(statistics_labels)"
   ]
  },
  {
   "cell_type": "code",
   "execution_count": 7,
   "id": "5ebd8569",
   "metadata": {},
   "outputs": [],
   "source": [
    "#splitting\n",
    "statistics_X_train, statistics_X_test, statistics_y_train, statistics_y_test = train_test_split(\n",
    "    statistics_data, statistics_labels, test_size=0.2, random_state=42)"
   ]
  },
  {
   "cell_type": "code",
   "execution_count": 8,
   "id": "65249813",
   "metadata": {},
   "outputs": [],
   "source": [
    "#scaling the numeric statistical input\n",
    "scaler = StandardScaler()\n",
    "statistics_X_train = scaler.fit_transform(statistics_X_train)\n",
    "statistics_X_test = scaler.transform(statistics_X_test)"
   ]
  },
  {
   "cell_type": "code",
   "execution_count": 9,
   "id": "c1c78316",
   "metadata": {},
   "outputs": [],
   "source": [
    "#splitting\n",
    "polar_X_train, polar_X_test, polar_y_train, polar_y_test = train_test_split(\n",
    "    polar_images, polar_labels, test_size=0.2, random_state=42)"
   ]
  },
  {
   "cell_type": "code",
   "execution_count": 10,
   "id": "0ab58d43",
   "metadata": {},
   "outputs": [],
   "source": [
    "#generate data as a data augmentation step\n",
    "\n",
    "datagen = ImageDataGenerator(rotation_range=20, width_shift_range=0.1, height_shift_range=0.1, horizontal_flip=True)\n",
    "datagen.fit(polar_X_train)"
   ]
  },
  {
   "cell_type": "code",
   "execution_count": 11,
   "id": "b8058dcf",
   "metadata": {},
   "outputs": [],
   "source": [
    "#Generating class weight\n",
    "class_counts = Counter(statistics_labels)\n",
    "total_samples = len(statistics_labels)\n",
    "class_weights = {class_index: total_samples / (class_count * len(class_counts)) for class_index, class_count in class_counts.items()}\n"
   ]
  },
  {
   "cell_type": "code",
   "execution_count": 12,
   "id": "705eb840",
   "metadata": {},
   "outputs": [],
   "source": [
    "#define inputs\n",
    "statistics_input = Input(shape=(statistics_X_train.shape[1],1))\n",
    "polar_input = Input(shape=(64, 64, 3))"
   ]
  },
  {
   "cell_type": "code",
   "execution_count": 13,
   "id": "f927eb6a",
   "metadata": {},
   "outputs": [],
   "source": [
    "#define statistic based 1D CNN model\n",
    "def statistics_model(input_shape):\n",
    "    model = Sequential()\n",
    "    model.add(Conv1D(32, 3, activation='relu', input_shape=input_shape, padding=\"same\"))\n",
    "    model.add(MaxPooling1D(2))\n",
    "    model.add(Conv1D(64, 2, activation='relu', padding=\"same\"))  \n",
    "    model.add(MaxPooling1D(2))\n",
    "    model.add(Flatten())\n",
    "    model.add(Dense(128, activation='relu'))\n",
    "    return model\n"
   ]
  },
  {
   "cell_type": "code",
   "execution_count": 14,
   "id": "2411bd03",
   "metadata": {},
   "outputs": [],
   "source": [
    "vgg16_base_model = VGG16(\n",
    "    include_top=False,\n",
    "    weights='imagenet',\n",
    "    input_shape=(64, 64, 3),  \n",
    ")\n",
    "\n",
    "vgg16_output = Flatten()(vgg16_base_model(polar_input))\n",
    "\n",
    "statistics_branch_model = statistics_model((statistics_X_train.shape[1], 1))\n",
    "statistics_output = statistics_branch_model(statistics_input)"
   ]
  },
  {
   "cell_type": "code",
   "execution_count": 15,
   "id": "e923cbe4",
   "metadata": {},
   "outputs": [],
   "source": [
    "#concatanating the features from both channels\n",
    "\n",
    "combined_input = concatenate([statistics_output, vgg16_output])\n",
    "x = Dense(256, activation='relu')(combined_input)\n",
    "x = Dropout(0.5)(x)\n",
    "output = Dense((3), activation='softmax')(x)"
   ]
  },
  {
   "cell_type": "code",
   "execution_count": 16,
   "id": "ecc27624",
   "metadata": {},
   "outputs": [],
   "source": [
    "model = Model(inputs=[statistics_input, polar_input], outputs=output)\n",
    "model.compile(optimizer='adam', loss='sparse_categorical_crossentropy', metrics=['accuracy'])"
   ]
  },
  {
   "cell_type": "code",
   "execution_count": 17,
   "id": "f5db9a2b",
   "metadata": {
    "scrolled": true
   },
   "outputs": [
    {
     "name": "stdout",
     "output_type": "stream",
     "text": [
      "Training with 20 epochs and batch size 32\n",
      "Epoch 1/20\n",
      "36/36 [==============================] - 69s 2s/step - loss: 4.7809 - accuracy: 0.4876 - val_loss: 0.7550 - val_accuracy: 0.7951\n",
      "Epoch 2/20\n",
      "36/36 [==============================] - 67s 2s/step - loss: 0.4574 - accuracy: 0.8558 - val_loss: 0.3552 - val_accuracy: 0.8304\n",
      "Epoch 3/20\n",
      "36/36 [==============================] - 66s 2s/step - loss: 0.2764 - accuracy: 0.8752 - val_loss: 0.2889 - val_accuracy: 0.8516\n",
      "Epoch 4/20\n",
      "36/36 [==============================] - 52s 1s/step - loss: 0.2304 - accuracy: 0.8805 - val_loss: 0.2505 - val_accuracy: 0.8551\n",
      "Epoch 5/20\n",
      "36/36 [==============================] - 42s 1s/step - loss: 0.2038 - accuracy: 0.8973 - val_loss: 0.2485 - val_accuracy: 0.8622\n",
      "Epoch 6/20\n",
      "36/36 [==============================] - 40s 1s/step - loss: 0.1977 - accuracy: 0.8867 - val_loss: 0.2509 - val_accuracy: 0.8975\n",
      "Epoch 7/20\n",
      "36/36 [==============================] - 43s 1s/step - loss: 0.2029 - accuracy: 0.8929 - val_loss: 0.2621 - val_accuracy: 0.8516\n",
      "Epoch 8/20\n",
      "36/36 [==============================] - 43s 1s/step - loss: 0.1895 - accuracy: 0.9018 - val_loss: 0.3409 - val_accuracy: 0.8481\n",
      "Epoch 9/20\n",
      "36/36 [==============================] - 42s 1s/step - loss: 0.1747 - accuracy: 0.9168 - val_loss: 0.2378 - val_accuracy: 0.9046\n",
      "Epoch 10/20\n",
      "36/36 [==============================] - 42s 1s/step - loss: 0.1645 - accuracy: 0.9195 - val_loss: 0.2341 - val_accuracy: 0.9046\n",
      "Epoch 11/20\n",
      "36/36 [==============================] - 41s 1s/step - loss: 0.1516 - accuracy: 0.9389 - val_loss: 0.2194 - val_accuracy: 0.9046\n",
      "Epoch 12/20\n",
      "36/36 [==============================] - 41s 1s/step - loss: 0.1420 - accuracy: 0.9354 - val_loss: 0.2333 - val_accuracy: 0.8940\n",
      "Epoch 13/20\n",
      "36/36 [==============================] - 41s 1s/step - loss: 0.1380 - accuracy: 0.9398 - val_loss: 0.2280 - val_accuracy: 0.9011\n",
      "Epoch 14/20\n",
      "36/36 [==============================] - 41s 1s/step - loss: 0.1341 - accuracy: 0.9460 - val_loss: 0.2114 - val_accuracy: 0.9293\n",
      "Epoch 15/20\n",
      "36/36 [==============================] - 41s 1s/step - loss: 0.1291 - accuracy: 0.9504 - val_loss: 0.2136 - val_accuracy: 0.9399\n",
      "Epoch 16/20\n",
      "36/36 [==============================] - 41s 1s/step - loss: 0.1068 - accuracy: 0.9549 - val_loss: 0.2116 - val_accuracy: 0.9329\n",
      "Epoch 17/20\n",
      "36/36 [==============================] - 41s 1s/step - loss: 0.1047 - accuracy: 0.9655 - val_loss: 0.1944 - val_accuracy: 0.9576\n",
      "Epoch 18/20\n",
      "36/36 [==============================] - 41s 1s/step - loss: 0.0892 - accuracy: 0.9779 - val_loss: 0.2073 - val_accuracy: 0.9435\n",
      "Epoch 19/20\n",
      "36/36 [==============================] - 41s 1s/step - loss: 0.0979 - accuracy: 0.9611 - val_loss: 0.2163 - val_accuracy: 0.9399\n",
      "Epoch 20/20\n",
      "36/36 [==============================] - 41s 1s/step - loss: 0.0811 - accuracy: 0.9761 - val_loss: 0.2163 - val_accuracy: 0.9399\n",
      "12/12 [==============================] - 3s 208ms/step - loss: 0.1218 - accuracy: 0.9576\n",
      "12/12 [==============================] - 3s 198ms/step\n",
      "12/12 [==============================] - 2s 198ms/step - loss: 0.1218 - accuracy: 0.9576\n",
      "Training with 20 epochs and batch size 64\n",
      "Epoch 1/20\n",
      "18/18 [==============================] - 39s 2s/step - loss: 0.0733 - accuracy: 0.9796 - val_loss: 0.1984 - val_accuracy: 0.9576\n",
      "Epoch 2/20\n",
      "18/18 [==============================] - 39s 2s/step - loss: 0.0752 - accuracy: 0.9770 - val_loss: 0.2089 - val_accuracy: 0.9541\n",
      "Epoch 3/20\n",
      "18/18 [==============================] - 39s 2s/step - loss: 0.0864 - accuracy: 0.9708 - val_loss: 0.1983 - val_accuracy: 0.9576\n",
      "Epoch 4/20\n",
      "18/18 [==============================] - 39s 2s/step - loss: 0.0695 - accuracy: 0.9796 - val_loss: 0.2030 - val_accuracy: 0.9576\n",
      "Epoch 5/20\n",
      "18/18 [==============================] - 39s 2s/step - loss: 0.0661 - accuracy: 0.9805 - val_loss: 0.2011 - val_accuracy: 0.9576\n",
      "Epoch 6/20\n",
      "18/18 [==============================] - 39s 2s/step - loss: 0.0636 - accuracy: 0.9796 - val_loss: 0.2055 - val_accuracy: 0.9576\n",
      "Epoch 7/20\n",
      "18/18 [==============================] - 39s 2s/step - loss: 0.0651 - accuracy: 0.9779 - val_loss: 0.2224 - val_accuracy: 0.9541\n",
      "Epoch 8/20\n",
      "18/18 [==============================] - 39s 2s/step - loss: 0.0623 - accuracy: 0.9796 - val_loss: 0.2282 - val_accuracy: 0.9435\n",
      "Epoch 9/20\n",
      "18/18 [==============================] - 39s 2s/step - loss: 0.0924 - accuracy: 0.9619 - val_loss: 0.2372 - val_accuracy: 0.9399\n",
      "Epoch 10/20\n",
      "18/18 [==============================] - 39s 2s/step - loss: 0.0744 - accuracy: 0.9726 - val_loss: 0.2002 - val_accuracy: 0.9576\n",
      "Epoch 11/20\n",
      "18/18 [==============================] - 39s 2s/step - loss: 0.0612 - accuracy: 0.9823 - val_loss: 0.2194 - val_accuracy: 0.9505\n",
      "Epoch 12/20\n",
      "18/18 [==============================] - 39s 2s/step - loss: 0.0590 - accuracy: 0.9832 - val_loss: 0.2068 - val_accuracy: 0.9611\n",
      "Epoch 13/20\n",
      "18/18 [==============================] - 39s 2s/step - loss: 0.0619 - accuracy: 0.9823 - val_loss: 0.2064 - val_accuracy: 0.9541\n",
      "Epoch 14/20\n",
      "18/18 [==============================] - 39s 2s/step - loss: 0.0617 - accuracy: 0.9779 - val_loss: 0.2117 - val_accuracy: 0.9505\n",
      "Epoch 15/20\n",
      "18/18 [==============================] - 39s 2s/step - loss: 0.0550 - accuracy: 0.9832 - val_loss: 0.2098 - val_accuracy: 0.9576\n",
      "Epoch 16/20\n",
      "18/18 [==============================] - 39s 2s/step - loss: 0.0559 - accuracy: 0.9823 - val_loss: 0.2050 - val_accuracy: 0.9576\n",
      "Epoch 17/20\n",
      "18/18 [==============================] - 39s 2s/step - loss: 0.0552 - accuracy: 0.9823 - val_loss: 0.2135 - val_accuracy: 0.9470\n",
      "Epoch 18/20\n",
      "18/18 [==============================] - 39s 2s/step - loss: 0.0616 - accuracy: 0.9796 - val_loss: 0.2062 - val_accuracy: 0.9576\n",
      "Epoch 19/20\n",
      "18/18 [==============================] - 39s 2s/step - loss: 0.0512 - accuracy: 0.9867 - val_loss: 0.2067 - val_accuracy: 0.9541\n",
      "Epoch 20/20\n",
      "18/18 [==============================] - 39s 2s/step - loss: 0.0564 - accuracy: 0.9850 - val_loss: 0.2055 - val_accuracy: 0.9576\n",
      "12/12 [==============================] - 3s 210ms/step - loss: 0.0892 - accuracy: 0.9774\n",
      "12/12 [==============================] - 2s 198ms/step\n",
      "12/12 [==============================] - 2s 199ms/step - loss: 0.0892 - accuracy: 0.9774\n",
      "Training with 30 epochs and batch size 32\n",
      "Epoch 1/30\n",
      "36/36 [==============================] - 41s 1s/step - loss: 0.0642 - accuracy: 0.9779 - val_loss: 0.2774 - val_accuracy: 0.9187\n",
      "Epoch 2/30\n",
      "36/36 [==============================] - 41s 1s/step - loss: 0.0681 - accuracy: 0.9726 - val_loss: 0.2146 - val_accuracy: 0.9576\n",
      "Epoch 3/30\n",
      "36/36 [==============================] - 41s 1s/step - loss: 0.0726 - accuracy: 0.9735 - val_loss: 0.2193 - val_accuracy: 0.9541\n",
      "Epoch 4/30\n",
      "36/36 [==============================] - 41s 1s/step - loss: 0.0698 - accuracy: 0.9743 - val_loss: 0.1944 - val_accuracy: 0.9576\n",
      "Epoch 5/30\n",
      "36/36 [==============================] - 41s 1s/step - loss: 0.0722 - accuracy: 0.9788 - val_loss: 0.2210 - val_accuracy: 0.9329\n",
      "Epoch 6/30\n",
      "36/36 [==============================] - 41s 1s/step - loss: 0.0775 - accuracy: 0.9673 - val_loss: 0.2506 - val_accuracy: 0.9223\n",
      "Epoch 7/30\n",
      "36/36 [==============================] - 41s 1s/step - loss: 0.0701 - accuracy: 0.9743 - val_loss: 0.2277 - val_accuracy: 0.9470\n",
      "Epoch 8/30\n",
      "36/36 [==============================] - 41s 1s/step - loss: 0.0547 - accuracy: 0.9796 - val_loss: 0.2335 - val_accuracy: 0.9435\n",
      "Epoch 9/30\n",
      "36/36 [==============================] - 42s 1s/step - loss: 0.0542 - accuracy: 0.9805 - val_loss: 0.1922 - val_accuracy: 0.9576\n",
      "Epoch 10/30\n",
      "36/36 [==============================] - 41s 1s/step - loss: 0.0564 - accuracy: 0.9788 - val_loss: 0.1989 - val_accuracy: 0.9576\n",
      "Epoch 11/30\n",
      "36/36 [==============================] - 41s 1s/step - loss: 0.0554 - accuracy: 0.9796 - val_loss: 0.2372 - val_accuracy: 0.9293\n",
      "Epoch 12/30\n",
      "36/36 [==============================] - 41s 1s/step - loss: 0.0451 - accuracy: 0.9850 - val_loss: 0.1944 - val_accuracy: 0.9576\n",
      "Epoch 13/30\n",
      "36/36 [==============================] - 41s 1s/step - loss: 0.0527 - accuracy: 0.9823 - val_loss: 0.2463 - val_accuracy: 0.9293\n",
      "Epoch 14/30\n",
      "36/36 [==============================] - 41s 1s/step - loss: 0.0754 - accuracy: 0.9717 - val_loss: 0.1970 - val_accuracy: 0.9470\n",
      "Epoch 15/30\n",
      "36/36 [==============================] - 41s 1s/step - loss: 0.0551 - accuracy: 0.9805 - val_loss: 0.1976 - val_accuracy: 0.9576\n",
      "Epoch 16/30\n",
      "36/36 [==============================] - 41s 1s/step - loss: 0.0416 - accuracy: 0.9823 - val_loss: 0.2010 - val_accuracy: 0.9576\n",
      "Epoch 17/30\n",
      "36/36 [==============================] - 41s 1s/step - loss: 0.0430 - accuracy: 0.9858 - val_loss: 0.2106 - val_accuracy: 0.9576\n",
      "Epoch 18/30\n",
      "36/36 [==============================] - 41s 1s/step - loss: 0.0566 - accuracy: 0.9779 - val_loss: 0.2055 - val_accuracy: 0.9576\n",
      "Epoch 19/30\n",
      "36/36 [==============================] - 41s 1s/step - loss: 0.0422 - accuracy: 0.9832 - val_loss: 0.1807 - val_accuracy: 0.9611\n",
      "Epoch 20/30\n",
      "36/36 [==============================] - 41s 1s/step - loss: 0.0787 - accuracy: 0.9699 - val_loss: 0.1691 - val_accuracy: 0.9611\n",
      "Epoch 21/30\n",
      "36/36 [==============================] - 41s 1s/step - loss: 0.0414 - accuracy: 0.9876 - val_loss: 0.1912 - val_accuracy: 0.9435\n",
      "Epoch 22/30\n",
      "36/36 [==============================] - 41s 1s/step - loss: 0.0533 - accuracy: 0.9770 - val_loss: 0.1653 - val_accuracy: 0.9647\n",
      "Epoch 23/30\n",
      "36/36 [==============================] - 41s 1s/step - loss: 0.0634 - accuracy: 0.9761 - val_loss: 0.2160 - val_accuracy: 0.9152\n",
      "Epoch 24/30\n",
      "36/36 [==============================] - 41s 1s/step - loss: 0.0480 - accuracy: 0.9832 - val_loss: 0.1740 - val_accuracy: 0.9611\n",
      "Epoch 25/30\n",
      "36/36 [==============================] - 41s 1s/step - loss: 0.0415 - accuracy: 0.9867 - val_loss: 0.1770 - val_accuracy: 0.9611\n",
      "Epoch 26/30\n",
      "36/36 [==============================] - 41s 1s/step - loss: 0.0403 - accuracy: 0.9841 - val_loss: 0.1794 - val_accuracy: 0.9611\n",
      "Epoch 27/30\n",
      "36/36 [==============================] - 41s 1s/step - loss: 0.0335 - accuracy: 0.9885 - val_loss: 0.1787 - val_accuracy: 0.9505\n",
      "Epoch 28/30\n",
      "36/36 [==============================] - 41s 1s/step - loss: 0.0312 - accuracy: 0.9894 - val_loss: 0.1895 - val_accuracy: 0.9576\n",
      "Epoch 29/30\n",
      "36/36 [==============================] - 41s 1s/step - loss: 0.0260 - accuracy: 0.9920 - val_loss: 0.1761 - val_accuracy: 0.9647\n",
      "Epoch 30/30\n",
      "36/36 [==============================] - 41s 1s/step - loss: 0.0391 - accuracy: 0.9858 - val_loss: 0.1861 - val_accuracy: 0.9541\n",
      "12/12 [==============================] - 2s 200ms/step - loss: 0.0692 - accuracy: 0.9774\n",
      "12/12 [==============================] - 2s 200ms/step\n",
      "12/12 [==============================] - 2s 200ms/step - loss: 0.0692 - accuracy: 0.9774\n",
      "Training with 30 epochs and batch size 64\n",
      "Epoch 1/30\n",
      "18/18 [==============================] - 39s 2s/step - loss: 0.0290 - accuracy: 0.9929 - val_loss: 0.1766 - val_accuracy: 0.9647\n",
      "Epoch 2/30\n",
      "18/18 [==============================] - 39s 2s/step - loss: 0.0289 - accuracy: 0.9885 - val_loss: 0.1840 - val_accuracy: 0.9647\n",
      "Epoch 3/30\n",
      "18/18 [==============================] - 39s 2s/step - loss: 0.0275 - accuracy: 0.9894 - val_loss: 0.1820 - val_accuracy: 0.9611\n",
      "Epoch 4/30\n",
      "18/18 [==============================] - 39s 2s/step - loss: 0.0242 - accuracy: 0.9912 - val_loss: 0.1870 - val_accuracy: 0.9647\n",
      "Epoch 5/30\n",
      "18/18 [==============================] - 39s 2s/step - loss: 0.0232 - accuracy: 0.9920 - val_loss: 0.1837 - val_accuracy: 0.9647\n",
      "Epoch 6/30\n",
      "18/18 [==============================] - 39s 2s/step - loss: 0.0263 - accuracy: 0.9929 - val_loss: 0.1819 - val_accuracy: 0.9647\n",
      "Epoch 7/30\n",
      "18/18 [==============================] - 39s 2s/step - loss: 0.0215 - accuracy: 0.9938 - val_loss: 0.1932 - val_accuracy: 0.9647\n",
      "Epoch 8/30\n",
      "18/18 [==============================] - 39s 2s/step - loss: 0.0204 - accuracy: 0.9938 - val_loss: 0.1802 - val_accuracy: 0.9647\n",
      "Epoch 9/30\n",
      "18/18 [==============================] - 39s 2s/step - loss: 0.0164 - accuracy: 0.9947 - val_loss: 0.2130 - val_accuracy: 0.9611\n",
      "Epoch 10/30\n",
      "18/18 [==============================] - 39s 2s/step - loss: 0.0306 - accuracy: 0.9876 - val_loss: 0.1841 - val_accuracy: 0.9647\n",
      "Epoch 11/30\n",
      "18/18 [==============================] - 39s 2s/step - loss: 0.0193 - accuracy: 0.9929 - val_loss: 0.1860 - val_accuracy: 0.9647\n",
      "Epoch 12/30\n",
      "18/18 [==============================] - 39s 2s/step - loss: 0.0266 - accuracy: 0.9894 - val_loss: 0.2078 - val_accuracy: 0.9647\n",
      "Epoch 13/30\n",
      "18/18 [==============================] - 39s 2s/step - loss: 0.0319 - accuracy: 0.9867 - val_loss: 0.1892 - val_accuracy: 0.9647\n",
      "Epoch 14/30\n",
      "18/18 [==============================] - 39s 2s/step - loss: 0.0177 - accuracy: 0.9929 - val_loss: 0.1851 - val_accuracy: 0.9647\n",
      "Epoch 15/30\n",
      "18/18 [==============================] - 39s 2s/step - loss: 0.0227 - accuracy: 0.9920 - val_loss: 0.2063 - val_accuracy: 0.9611\n",
      "Epoch 16/30\n",
      "18/18 [==============================] - 39s 2s/step - loss: 0.0287 - accuracy: 0.9929 - val_loss: 0.2008 - val_accuracy: 0.9647\n",
      "Epoch 17/30\n",
      "18/18 [==============================] - 39s 2s/step - loss: 0.0284 - accuracy: 0.9885 - val_loss: 0.1823 - val_accuracy: 0.9682\n",
      "Epoch 18/30\n",
      "18/18 [==============================] - 39s 2s/step - loss: 0.0233 - accuracy: 0.9885 - val_loss: 0.2198 - val_accuracy: 0.9576\n",
      "Epoch 19/30\n",
      "18/18 [==============================] - 39s 2s/step - loss: 0.0351 - accuracy: 0.9894 - val_loss: 0.1935 - val_accuracy: 0.9647\n",
      "Epoch 20/30\n",
      "18/18 [==============================] - 39s 2s/step - loss: 0.0301 - accuracy: 0.9903 - val_loss: 0.1632 - val_accuracy: 0.9717\n",
      "Epoch 21/30\n",
      "18/18 [==============================] - 39s 2s/step - loss: 0.0225 - accuracy: 0.9920 - val_loss: 0.1726 - val_accuracy: 0.9647\n",
      "Epoch 22/30\n",
      "18/18 [==============================] - 39s 2s/step - loss: 0.0318 - accuracy: 0.9903 - val_loss: 0.1715 - val_accuracy: 0.9647\n",
      "Epoch 23/30\n",
      "18/18 [==============================] - 39s 2s/step - loss: 0.0317 - accuracy: 0.9876 - val_loss: 0.1849 - val_accuracy: 0.9541\n",
      "Epoch 24/30\n",
      "18/18 [==============================] - 39s 2s/step - loss: 0.0191 - accuracy: 0.9938 - val_loss: 0.1834 - val_accuracy: 0.9647\n",
      "Epoch 25/30\n",
      "18/18 [==============================] - 39s 2s/step - loss: 0.0190 - accuracy: 0.9929 - val_loss: 0.1775 - val_accuracy: 0.9647\n",
      "Epoch 26/30\n",
      "18/18 [==============================] - 39s 2s/step - loss: 0.0225 - accuracy: 0.9920 - val_loss: 0.1752 - val_accuracy: 0.9647\n",
      "Epoch 27/30\n",
      "18/18 [==============================] - 39s 2s/step - loss: 0.0194 - accuracy: 0.9938 - val_loss: 0.1713 - val_accuracy: 0.9647\n",
      "Epoch 28/30\n",
      "18/18 [==============================] - 39s 2s/step - loss: 0.0198 - accuracy: 0.9929 - val_loss: 0.1780 - val_accuracy: 0.9753\n",
      "Epoch 29/30\n",
      "18/18 [==============================] - 39s 2s/step - loss: 0.0201 - accuracy: 0.9956 - val_loss: 0.1743 - val_accuracy: 0.9717\n",
      "Epoch 30/30\n",
      "18/18 [==============================] - 39s 2s/step - loss: 0.0152 - accuracy: 0.9938 - val_loss: 0.1800 - val_accuracy: 0.9647\n",
      "12/12 [==============================] - 3s 214ms/step - loss: 0.0633 - accuracy: 0.9802\n",
      "12/12 [==============================] - 2s 198ms/step\n",
      "12/12 [==============================] - 2s 198ms/step - loss: 0.0633 - accuracy: 0.9802\n"
     ]
    }
   ],
   "source": [
    "#model training\n",
    "epochs_list = [20,30]\n",
    "batch_sizes_list = [32,64]\n",
    "results = []\n",
    "best_accuracy = 0.0  # Initialize best_accuracy\n",
    "best_time = 0.0\n",
    "for epoch in epochs_list:\n",
    "    for batch_size in batch_sizes_list:\n",
    "        print(f\"Training with {epoch} epochs and batch size {batch_size}\")\n",
    "        start_time = time.time()\n",
    "        early_stopping = EarlyStopping(monitor='val_loss', patience=3, restore_best_weights=True)\n",
    "        history = model.fit([statistics_X_train, polar_X_train],\n",
    "                            polar_y_train,\n",
    "                            epochs=epoch,\n",
    "                            batch_size=batch_size,\n",
    "                            validation_split=0.2,\n",
    "                            class_weight=class_weights)\n",
    "        end_time = time.time()\n",
    "        elapsed_time = end_time - start_time\n",
    "        # Evaluation\n",
    "        test_loss, test_accuracy = model.evaluate([statistics_X_test, polar_X_test], polar_y_test)\n",
    "        predictions = model.predict([statistics_X_test, polar_X_test])\n",
    "        predicted_labels = np.argmax(predictions, axis=1)\n",
    "\n",
    "        accuracy = accuracy_score(statistics_y_test, predicted_labels)\n",
    "        f1 = f1_score(statistics_y_test, predicted_labels, average='weighted')\n",
    "        precision_vals = precision_score(statistics_y_test, predicted_labels, average=None)\n",
    "        recall_vals = recall_score(statistics_y_test, predicted_labels, average=None)\n",
    "\n",
    "        n_classes = 3  # Number of classes\n",
    "        fpr = dict()\n",
    "        tpr = dict()\n",
    "        roc_auc_vals = dict()\n",
    "\n",
    "        for i in range(n_classes):\n",
    "            fpr[i], tpr[i], _ = roc_curve(statistics_y_test, predictions[:, i], pos_label=i)\n",
    "            roc_auc_vals[i] = auc(fpr[i], tpr[i])\n",
    "\n",
    "        results.append({\n",
    "            'epochs': epoch,\n",
    "            'batch_size': batch_size,\n",
    "            'test_accuracy': test_accuracy,\n",
    "            'accuracy': accuracy,\n",
    "            'f1_score': f1,\n",
    "            'precision': precision_vals,\n",
    "            'recall': recall_vals,\n",
    "            'roc_auc': roc_auc_vals\n",
    "        })\n",
    "        test_loss, test_accuracy = model.evaluate([statistics_X_test, polar_X_test], polar_y_test)\n",
    "\n",
    "        if test_accuracy > best_accuracy:\n",
    "            best_accuracy = test_accuracy\n",
    "            best_time = elapsed_time\n"
   ]
  },
  {
   "cell_type": "code",
   "execution_count": 18,
   "id": "fba76947",
   "metadata": {},
   "outputs": [
    {
     "name": "stdout",
     "output_type": "stream",
     "text": [
      "Epochs: 20, Batch Size: 32, Test Accuracy: 0.9576271176338196, F1-Score: 0.9574664152671386\n",
      "Epochs: 20, Batch Size: 64, Test Accuracy: 0.9774011373519897, F1-Score: 0.9774011299435028\n",
      "Epochs: 30, Batch Size: 32, Test Accuracy: 0.9774011373519897, F1-Score: 0.9773967884597573\n",
      "Epochs: 30, Batch Size: 64, Test Accuracy: 0.9802259802818298, F1-Score: 0.9802244067543497\n",
      "Time taken for best hyperparameters (with test accuracy 0.98): 1168.43 seconds\n"
     ]
    }
   ],
   "source": [
    "# print Validation, Accuracy, F1-Score\n",
    "\n",
    "for result in results:\n",
    "    print(f\"Epochs: {result['epochs']}, Batch Size: {result['batch_size']}, Test Accuracy: {result['test_accuracy']}, F1-Score: {result['f1_score']}\")\n",
    "print(f\"Time taken for best hyperparameters (with test accuracy {best_accuracy:.2f}): {best_time:.2f} seconds\")\n"
   ]
  },
  {
   "cell_type": "code",
   "execution_count": 19,
   "id": "52c8cf4d",
   "metadata": {},
   "outputs": [
    {
     "name": "stdout",
     "output_type": "stream",
     "text": [
      "\n",
      "Best Hyperparameters (Test Accuracy):\n",
      "Epochs: 30\n",
      "Batch Size: 64\n",
      "Test Accuracy: 0.9802259802818298\n"
     ]
    }
   ],
   "source": [
    "#best results\n",
    "best_result_test = max(results, key=lambda x: x['test_accuracy'])\n",
    "print(\"\\nBest Hyperparameters (Test Accuracy):\")\n",
    "print(\"Epochs:\", best_result_test['epochs'])\n",
    "print(\"Batch Size:\", best_result_test['batch_size'])\n",
    "print(\"Test Accuracy:\", best_result_test['test_accuracy'])"
   ]
  },
  {
   "cell_type": "code",
   "execution_count": 20,
   "id": "48eb73c1",
   "metadata": {},
   "outputs": [
    {
     "data": {
      "image/png": "[encoded data removed]",
      "text/plain": [
       "<Figure size 800x600 with 1 Axes>"
      ]
     },
     "metadata": {},
     "output_type": "display_data"
    }
   ],
   "source": [
    "#plot roc curve\n",
    "fpr = dict()\n",
    "tpr = dict()\n",
    "roc_auc = dict()\n",
    "n_classes = 3  # Number of classes\n",
    "\n",
    "for i in range(n_classes):\n",
    "    fpr[i], tpr[i], _ = roc_curve(polar_y_test, predictions[:, i], pos_label=i)\n",
    "    roc_auc[i] = auc(fpr[i], tpr[i])\n",
    "\n",
    "# Plot ROC curves for each class\n",
    "plt.figure(figsize=(8, 6))\n",
    "for i in range(n_classes):\n",
    "    plt.plot(fpr[i], tpr[i], label=f'Class {i} (AUC = {roc_auc[i]:0.2f})')\n",
    "\n",
    "plt.plot([0, 1], [0, 1], 'k--')\n",
    "plt.xlim([0.0, 1.0])\n",
    "plt.ylim([0.0, 1.05])\n",
    "plt.xlabel('False Positive Rate')\n",
    "plt.ylabel('True Positive Rate')\n",
    "plt.title('ROC Curve for Each Class')\n",
    "plt.legend(loc=\"lower right\")\n",
    "plt.show()\n"
   ]
  },
  {
   "cell_type": "code",
   "execution_count": 21,
   "id": "87f3301f",
   "metadata": {},
   "outputs": [
    {
     "name": "stdout",
     "output_type": "stream",
     "text": [
      "\n",
      "Precision for Each Class: [0.99180328 1.         0.953125  ]\n",
      "Recall for Each Class: [0.95275591 1.         0.99186992]\n"
     ]
    }
   ],
   "source": [
    "precision = precision_score(polar_y_test, predicted_labels, average=None)\n",
    "recall = recall_score(polar_y_test, predicted_labels, average=None)\n",
    "\n",
    "print(\"\\nPrecision for Each Class:\", precision)\n",
    "print(\"Recall for Each Class:\", recall)\n"
   ]
  },
  {
   "cell_type": "code",
   "execution_count": 22,
   "id": "c1bb09d5",
   "metadata": {},
   "outputs": [
    {
     "data": {
      "image/png": "[encoded data removed]",
      "text/plain": [
       "<Figure size 800x600 with 2 Axes>"
      ]
     },
     "metadata": {},
     "output_type": "display_data"
    }
   ],
   "source": [
    "#plot roc curve\n",
    "conf_matrix = confusion_matrix(polar_y_test, predicted_labels)\n",
    "class_labels = ['bopolar', 'irpolar', 'orpolar']\n",
    "confusion_df = pd.DataFrame(conf_matrix, index=class_labels, columns=class_labels)\n",
    "\n",
    "# Plot the confusion matrix using Seaborn\n",
    "plt.figure(figsize=(8, 6))\n",
    "sns.heatmap(confusion_df, annot=True, fmt='d', cmap='Blues', xticklabels=True, yticklabels=True)\n",
    "plt.xlabel('Predicted')\n",
    "plt.ylabel('Actual')\n",
    "plt.title('Confusion Matrix')\n",
    "plt.show()\n"
   ]
  },
  {
   "cell_type": "code",
   "execution_count": null,
   "id": "6057e610",
   "metadata": {},
   "outputs": [],
   "source": []
  }
 ],
 "metadata": {
  "kernelspec": {
   "display_name": "Python 3 (ipykernel)",
   "language": "python",
   "name": "python3"
  },
  "language_info": {
   "codemirror_mode": {
    "name": "ipython",
    "version": 3
   },
   "file_extension": ".py",
   "mimetype": "text/x-python",
   "name": "python",
   "nbconvert_exporter": "python",
   "pygments_lexer": "ipython3",
   "version": "3.9.13"
  }
 },
 "nbformat": 4,
 "nbformat_minor": 5
}
