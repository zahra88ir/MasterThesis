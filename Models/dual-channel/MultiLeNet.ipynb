{
 "cells": [
  {
   "cell_type": "code",
   "execution_count": 1,
   "id": "88a8e70f",
   "metadata": {},
   "outputs": [
    {
     "name": "stderr",
     "output_type": "stream",
     "text": [
      "C:\\Users\\lenovo\\anaconda3\\lib\\site-packages\\scipy\\__init__.py:155: UserWarning: A NumPy version >=1.18.5 and <1.25.0 is required for this version of SciPy (detected version 1.26.0\n",
      "  warnings.warn(f\"A NumPy version >={np_minversion} and <{np_maxversion}\"\n"
     ]
    }
   ],
   "source": [
    "#import libraries\n",
    "import os\n",
    "import cv2\n",
    "import numpy as np\n",
    "import pandas as pd\n",
    "import matplotlib.pyplot as plt\n",
    "import seaborn as sns\n",
    "from collections import Counter\n",
    "from sklearn.model_selection import train_test_split\n",
    "from sklearn.preprocessing import LabelEncoder\n",
    "from sklearn.metrics import accuracy_score, f1_score, classification_report, roc_curve, auc\n",
    "from sklearn.metrics import precision_score, recall_score, confusion_matrix\n",
    "from tensorflow.keras.layers import Conv2D, AveragePooling2D, Flatten, Dense, Dropout, Input, concatenate,Conv1D, MaxPooling1D\n",
    "from tensorflow.keras.models import Sequential, Model\n",
    "from tensorflow.keras.utils import to_categorical\n",
    "from keras.callbacks import EarlyStopping\n",
    "from keras.preprocessing.image import ImageDataGenerator\n",
    "from sklearn.preprocessing import StandardScaler\n",
    "import time"
   ]
  },
  {
   "cell_type": "code",
   "execution_count": 2,
   "id": "740420bc",
   "metadata": {},
   "outputs": [],
   "source": [
    "#class inputs\n",
    "base_path = r\"C:\\Users\\lenovo\\\\DualChannelThesis\\CWRU\"\n",
    "\n",
    "statistics_directories = [\n",
    "    base_path + \"\\\\stats\\\\bopolar7\",\n",
    "    base_path + \"\\\\stats\\\\bopolar14\",\n",
    "    base_path + \"\\\\stats\\\\bopolar21\",\n",
    "    base_path + \"\\\\stats\\\\irpolar7\",\n",
    "    base_path + \"\\\\stats\\\\irpolar14\",\n",
    "    base_path + \"\\\\stats\\\\irpolar21\",\n",
    "    base_path + \"\\\\stats\\\\orpolar7\",\n",
    "    base_path + \"\\\\stats\\\\orpolar14\",\n",
    "    base_path + \"\\\\stats\\\\orpolar21\",\n",
    "]\n",
    "\n",
    "image_directories = [\n",
    "    base_path + \"\\\\spectogtam\\\\bopolar7\",\n",
    "    base_path + \"\\\\spectogtam\\\\bopolar14\",\n",
    "    base_path + \"\\\\spectogtam\\\\bopolar21\",\n",
    "    base_path + \"\\\\spectogtam\\\\irpolar7\",\n",
    "    base_path + \"\\\\spectogtam\\\\irpolar14\",\n",
    "    base_path + \"\\\\spectogtam\\\\irpolar21\",\n",
    "    base_path + \"\\\\spectogtam\\\\orpolar7\",\n",
    "    base_path + \"\\\\spectogtam\\\\orpolar14\",\n",
    "    base_path + \"\\\\spectogtam\\\\orpolar21\",\n",
    "]\n"
   ]
  },
  {
   "cell_type": "code",
   "execution_count": 3,
   "id": "f060010f",
   "metadata": {},
   "outputs": [],
   "source": [
    "def get_label(directory):\n",
    "    if \"bopolar\" in directory:\n",
    "        return 0  # bopolar\n",
    "    elif \"irpolar\" in directory:\n",
    "        return 1  # irpolar\n",
    "    else:\n",
    "        return 2  # orpolar\n"
   ]
  },
  {
   "cell_type": "code",
   "execution_count": 4,
   "id": "65899bcb",
   "metadata": {},
   "outputs": [],
   "source": [
    "statistics_data = []\n",
    "statistics_labels = []\n",
    "for directory in statistics_directories:\n",
    "    files = os.listdir(directory)\n",
    "    for file in files:\n",
    "        if file.endswith('.csv'):\n",
    "            file_path = os.path.join(directory, file)\n",
    "            df = pd.read_csv(file_path)\n",
    "            if not df.empty:\n",
    "                features = df.values.flatten()\n",
    "                statistics_data.append(features)\n",
    "                statistics_labels.append(get_label(directory))"
   ]
  },
  {
   "cell_type": "code",
   "execution_count": 5,
   "id": "f5a06518",
   "metadata": {},
   "outputs": [],
   "source": [
    "polar_images = []\n",
    "polar_labels = []\n",
    "for directory in image_directories:\n",
    "    files = os.listdir(directory)\n",
    "    for file in files:\n",
    "        if file.endswith('.png'):\n",
    "            file_path = os.path.join(directory, file)\n",
    "            img = cv2.imread(file_path)\n",
    "            img = cv2.cvtColor(img, cv2.COLOR_BGR2RGB)\n",
    "            img = cv2.resize(img, (64, 64))\n",
    "            polar_images.append(img)\n",
    "            polar_labels.append(get_label(directory))"
   ]
  },
  {
   "cell_type": "code",
   "execution_count": 6,
   "id": "e28b2db4",
   "metadata": {},
   "outputs": [],
   "source": [
    "polar_images = np.array(polar_images)\n",
    "polar_labels = np.array(polar_labels)\n",
    "\n",
    "statistics_data = np.array(statistics_data)\n",
    "statistics_labels = np.array(statistics_labels)"
   ]
  },
  {
   "cell_type": "code",
   "execution_count": 7,
   "id": "5ebd8569",
   "metadata": {},
   "outputs": [],
   "source": [
    "#splitting\n",
    "statistics_X_train, statistics_X_test, statistics_y_train, statistics_y_test = train_test_split(\n",
    "    statistics_data, statistics_labels, test_size=0.2, random_state=42)"
   ]
  },
  {
   "cell_type": "code",
   "execution_count": 8,
   "id": "65249813",
   "metadata": {},
   "outputs": [],
   "source": [
    "#scaling the numeric statistical input\n",
    "scaler = StandardScaler()\n",
    "statistics_X_train = scaler.fit_transform(statistics_X_train)\n",
    "statistics_X_test = scaler.transform(statistics_X_test)"
   ]
  },
  {
   "cell_type": "code",
   "execution_count": 9,
   "id": "c1c78316",
   "metadata": {},
   "outputs": [],
   "source": [
    "#splitting\n",
    "polar_X_train, polar_X_test, polar_y_train, polar_y_test = train_test_split(\n",
    "    polar_images, polar_labels, test_size=0.2, random_state=42)"
   ]
  },
  {
   "cell_type": "code",
   "execution_count": 10,
   "id": "b8058dcf",
   "metadata": {},
   "outputs": [],
   "source": [
    "#Generating class weight\n",
    "class_counts = Counter(statistics_labels)\n",
    "total_samples = len(statistics_labels)\n",
    "class_weights = {class_index: total_samples / (class_count * len(class_counts)) for class_index, class_count in class_counts.items()}\n"
   ]
  },
  {
   "cell_type": "code",
   "execution_count": 11,
   "id": "8c9ba0aa",
   "metadata": {},
   "outputs": [],
   "source": [
    "#generate data as a data augmentation step\n",
    "\n",
    "datagen = ImageDataGenerator(rotation_range=20, width_shift_range=0.1, height_shift_range=0.1, horizontal_flip=True)\n",
    "datagen.fit(polar_X_train)"
   ]
  },
  {
   "cell_type": "code",
   "execution_count": 12,
   "id": "705eb840",
   "metadata": {},
   "outputs": [],
   "source": [
    "#define inputs\n",
    "statistics_input = Input(shape=(statistics_X_train.shape[1],1))\n",
    "polar_input = Input(shape=(64, 64, 3))"
   ]
  },
  {
   "cell_type": "code",
   "execution_count": 13,
   "id": "ca3f102e",
   "metadata": {},
   "outputs": [],
   "source": [
    "#define statistic based 1D CNN model\n",
    "def statistics_model(input_shape):\n",
    "    model = Sequential()\n",
    "    model.add(Conv1D(32, 3, activation='relu', input_shape=input_shape, padding=\"same\"))\n",
    "    model.add(MaxPooling1D(2))\n",
    "    model.add(Conv1D(64, 2, activation='relu', padding=\"same\"))  # Changed kernel size to 2\n",
    "    model.add(MaxPooling1D(2))\n",
    "    model.add(Flatten())\n",
    "    model.add(Dense(128, activation='relu'))\n",
    "    return model\n"
   ]
  },
  {
   "cell_type": "code",
   "execution_count": 14,
   "id": "5dcaa177",
   "metadata": {},
   "outputs": [],
   "source": [
    "def LeNet(input_shape):\n",
    "    model = Sequential()\n",
    "    model.add(Conv2D(6, (5, 5), padding=\"same\", input_shape=input_shape, activation=\"relu\"))\n",
    "    model.add(AveragePooling2D(pool_size=(2, 2), strides=(2, 2)))\n",
    "    model.add(Conv2D(16, (5, 5), padding=\"valid\", activation=\"relu\"))\n",
    "    model.add(AveragePooling2D(pool_size=(2, 2), strides=(2, 2)))\n",
    "    model.add(Flatten())\n",
    "    model.add(Dense(120, activation=\"relu\"))\n",
    "    model.add(Dense(84, activation=\"relu\"))\n",
    "    return model"
   ]
  },
  {
   "cell_type": "code",
   "execution_count": 15,
   "id": "2411bd03",
   "metadata": {},
   "outputs": [],
   "source": [
    "polar_base_model = LeNet(input_shape=(64, 64, 3))\n",
    "polar_output = polar_base_model(polar_input)\n",
    "\n",
    "statistics_branch_model = statistics_model((statistics_X_train.shape[1], 1))\n",
    "statistics_output = statistics_branch_model(statistics_input)"
   ]
  },
  {
   "cell_type": "code",
   "execution_count": 16,
   "id": "e923cbe4",
   "metadata": {},
   "outputs": [],
   "source": [
    "#concatanating the features from both channels\n",
    "\n",
    "combined_input = concatenate([statistics_output, polar_output])\n",
    "x = Dense(256, activation='relu')(combined_input)\n",
    "x = Dropout(0.5)(x)\n",
    "output = Dense((3), activation='softmax')(x)"
   ]
  },
  {
   "cell_type": "code",
   "execution_count": 17,
   "id": "ecc27624",
   "metadata": {},
   "outputs": [],
   "source": [
    "model = Model(inputs=[statistics_input, polar_input], outputs=output)\n",
    "model.compile(optimizer='adam', loss='sparse_categorical_crossentropy', metrics=['accuracy'])"
   ]
  },
  {
   "cell_type": "code",
   "execution_count": 18,
   "id": "f5db9a2b",
   "metadata": {
    "scrolled": true
   },
   "outputs": [
    {
     "name": "stdout",
     "output_type": "stream",
     "text": [
      "Training with 20 epochs and batch size 32\n",
      "Epoch 1/20\n",
      "36/36 [==============================] - 3s 37ms/step - loss: 3.3633 - accuracy: 0.5195 - val_loss: 0.6618 - val_accuracy: 0.8057\n",
      "Epoch 2/20\n",
      "36/36 [==============================] - 1s 29ms/step - loss: 0.3423 - accuracy: 0.8867 - val_loss: 0.2570 - val_accuracy: 0.8622\n",
      "Epoch 3/20\n",
      "36/36 [==============================] - 1s 30ms/step - loss: 0.1554 - accuracy: 0.9469 - val_loss: 0.1963 - val_accuracy: 0.9258\n",
      "Epoch 4/20\n",
      "36/36 [==============================] - 1s 29ms/step - loss: 0.1424 - accuracy: 0.9496 - val_loss: 0.0701 - val_accuracy: 0.9753\n",
      "Epoch 5/20\n",
      "36/36 [==============================] - 1s 29ms/step - loss: 0.0722 - accuracy: 0.9717 - val_loss: 0.1184 - val_accuracy: 0.9611\n",
      "Epoch 6/20\n",
      "36/36 [==============================] - 1s 29ms/step - loss: 0.0505 - accuracy: 0.9850 - val_loss: 0.0760 - val_accuracy: 0.9788\n",
      "Epoch 7/20\n",
      "36/36 [==============================] - 1s 29ms/step - loss: 0.0296 - accuracy: 0.9912 - val_loss: 0.0563 - val_accuracy: 0.9682\n",
      "Epoch 8/20\n",
      "36/36 [==============================] - 1s 29ms/step - loss: 0.0291 - accuracy: 0.9885 - val_loss: 0.0440 - val_accuracy: 0.9894\n",
      "Epoch 9/20\n",
      "36/36 [==============================] - 1s 29ms/step - loss: 0.0160 - accuracy: 0.9956 - val_loss: 0.0686 - val_accuracy: 0.9823\n",
      "Epoch 10/20\n",
      "36/36 [==============================] - 1s 29ms/step - loss: 0.0296 - accuracy: 0.9841 - val_loss: 0.1060 - val_accuracy: 0.9753\n",
      "Epoch 11/20\n",
      "36/36 [==============================] - 1s 29ms/step - loss: 0.0443 - accuracy: 0.9841 - val_loss: 0.1005 - val_accuracy: 0.9717\n",
      "Epoch 12/20\n",
      "36/36 [==============================] - 1s 28ms/step - loss: 0.0602 - accuracy: 0.9770 - val_loss: 0.0700 - val_accuracy: 0.9823\n",
      "Epoch 13/20\n",
      "36/36 [==============================] - 1s 29ms/step - loss: 0.0111 - accuracy: 0.9965 - val_loss: 0.0655 - val_accuracy: 0.9823\n",
      "Epoch 14/20\n",
      "36/36 [==============================] - 1s 30ms/step - loss: 0.0082 - accuracy: 0.9973 - val_loss: 0.0294 - val_accuracy: 0.9929\n",
      "Epoch 15/20\n",
      "36/36 [==============================] - 1s 30ms/step - loss: 0.0062 - accuracy: 0.9973 - val_loss: 0.0537 - val_accuracy: 0.9859\n",
      "Epoch 16/20\n",
      "36/36 [==============================] - 1s 31ms/step - loss: 0.0150 - accuracy: 0.9938 - val_loss: 0.0440 - val_accuracy: 0.9965\n",
      "Epoch 17/20\n",
      "36/36 [==============================] - 1s 31ms/step - loss: 0.0046 - accuracy: 0.9991 - val_loss: 0.0295 - val_accuracy: 0.9859\n",
      "Epoch 18/20\n",
      "36/36 [==============================] - 1s 30ms/step - loss: 0.0016 - accuracy: 1.0000 - val_loss: 0.0765 - val_accuracy: 0.9823\n",
      "Epoch 19/20\n",
      "36/36 [==============================] - 1s 31ms/step - loss: 5.7013e-04 - accuracy: 1.0000 - val_loss: 0.0488 - val_accuracy: 0.9929\n",
      "Epoch 20/20\n",
      "36/36 [==============================] - 1s 32ms/step - loss: 0.0012 - accuracy: 0.9991 - val_loss: 0.0733 - val_accuracy: 0.9859\n",
      "12/12 [==============================] - 0s 8ms/step - loss: 0.0206 - accuracy: 0.9944\n",
      "12/12 [==============================] - 0s 8ms/step\n",
      "12/12 [==============================] - 0s 7ms/step - loss: 0.0206 - accuracy: 0.9944\n",
      "Training with 20 epochs and batch size 64\n",
      "Epoch 1/20\n",
      "18/18 [==============================] - 1s 54ms/step - loss: 0.0064 - accuracy: 0.9973 - val_loss: 0.0933 - val_accuracy: 0.9788\n",
      "Epoch 2/20\n",
      "18/18 [==============================] - 1s 52ms/step - loss: 0.0063 - accuracy: 0.9973 - val_loss: 0.0538 - val_accuracy: 0.9894\n",
      "Epoch 3/20\n",
      "18/18 [==============================] - 1s 54ms/step - loss: 0.0014 - accuracy: 1.0000 - val_loss: 0.0211 - val_accuracy: 0.9929\n",
      "Epoch 4/20\n",
      "18/18 [==============================] - 1s 54ms/step - loss: 0.0026 - accuracy: 0.9991 - val_loss: 0.0330 - val_accuracy: 0.9753\n",
      "Epoch 5/20\n",
      "18/18 [==============================] - 1s 54ms/step - loss: 0.0089 - accuracy: 0.9973 - val_loss: 0.0389 - val_accuracy: 0.9929\n",
      "Epoch 6/20\n",
      "18/18 [==============================] - 1s 51ms/step - loss: 0.0022 - accuracy: 0.9991 - val_loss: 0.0470 - val_accuracy: 0.9859\n",
      "Epoch 7/20\n",
      "18/18 [==============================] - 1s 49ms/step - loss: 5.2532e-04 - accuracy: 1.0000 - val_loss: 0.0663 - val_accuracy: 0.9859\n",
      "Epoch 8/20\n",
      "18/18 [==============================] - 1s 51ms/step - loss: 7.4503e-04 - accuracy: 1.0000 - val_loss: 0.0596 - val_accuracy: 0.9859\n",
      "Epoch 9/20\n",
      "18/18 [==============================] - 1s 48ms/step - loss: 3.6562e-04 - accuracy: 1.0000 - val_loss: 0.0387 - val_accuracy: 0.9929\n",
      "Epoch 10/20\n",
      "18/18 [==============================] - 1s 56ms/step - loss: 4.0481e-04 - accuracy: 1.0000 - val_loss: 0.0320 - val_accuracy: 0.9929\n",
      "Epoch 11/20\n",
      "18/18 [==============================] - 1s 54ms/step - loss: 2.1677e-04 - accuracy: 1.0000 - val_loss: 0.0381 - val_accuracy: 0.9929\n",
      "Epoch 12/20\n",
      "18/18 [==============================] - 1s 59ms/step - loss: 1.4166e-04 - accuracy: 1.0000 - val_loss: 0.0469 - val_accuracy: 0.9929\n",
      "Epoch 13/20\n",
      "18/18 [==============================] - 1s 52ms/step - loss: 1.6408e-04 - accuracy: 1.0000 - val_loss: 0.0472 - val_accuracy: 0.9929\n",
      "Epoch 14/20\n",
      "18/18 [==============================] - 1s 52ms/step - loss: 1.4739e-04 - accuracy: 1.0000 - val_loss: 0.0424 - val_accuracy: 0.9929\n",
      "Epoch 15/20\n",
      "18/18 [==============================] - 1s 57ms/step - loss: 2.1955e-04 - accuracy: 1.0000 - val_loss: 0.0423 - val_accuracy: 0.9929\n",
      "Epoch 16/20\n",
      "18/18 [==============================] - 1s 55ms/step - loss: 9.4246e-05 - accuracy: 1.0000 - val_loss: 0.0436 - val_accuracy: 0.9929\n",
      "Epoch 17/20\n",
      "18/18 [==============================] - 1s 61ms/step - loss: 1.7003e-04 - accuracy: 1.0000 - val_loss: 0.0415 - val_accuracy: 0.9929\n",
      "Epoch 18/20\n",
      "18/18 [==============================] - 1s 63ms/step - loss: 1.0519e-04 - accuracy: 1.0000 - val_loss: 0.0429 - val_accuracy: 0.9929\n",
      "Epoch 19/20\n",
      "18/18 [==============================] - 1s 52ms/step - loss: 6.6869e-05 - accuracy: 1.0000 - val_loss: 0.0451 - val_accuracy: 0.9929\n",
      "Epoch 20/20\n",
      "18/18 [==============================] - 1s 52ms/step - loss: 5.1465e-05 - accuracy: 1.0000 - val_loss: 0.0420 - val_accuracy: 0.9929\n",
      "12/12 [==============================] - 0s 9ms/step - loss: 0.0063 - accuracy: 0.9972\n",
      "12/12 [==============================] - 0s 6ms/step\n",
      "12/12 [==============================] - 0s 7ms/step - loss: 0.0063 - accuracy: 0.9972\n",
      "Training with 30 epochs and batch size 32\n",
      "Epoch 1/30\n",
      "36/36 [==============================] - 1s 31ms/step - loss: 3.9592e-05 - accuracy: 1.0000 - val_loss: 0.0435 - val_accuracy: 0.9929\n",
      "Epoch 2/30\n",
      "36/36 [==============================] - 1s 29ms/step - loss: 1.2736e-04 - accuracy: 1.0000 - val_loss: 0.0391 - val_accuracy: 0.9929\n",
      "Epoch 3/30\n",
      "36/36 [==============================] - 1s 28ms/step - loss: 1.8090e-04 - accuracy: 1.0000 - val_loss: 0.0400 - val_accuracy: 0.9929\n",
      "Epoch 4/30\n",
      "36/36 [==============================] - 1s 28ms/step - loss: 1.9269e-04 - accuracy: 1.0000 - val_loss: 0.0526 - val_accuracy: 0.9929\n",
      "Epoch 5/30\n",
      "36/36 [==============================] - 1s 35ms/step - loss: 9.4318e-05 - accuracy: 1.0000 - val_loss: 0.0458 - val_accuracy: 0.9929\n",
      "Epoch 6/30\n",
      "36/36 [==============================] - 1s 35ms/step - loss: 6.7664e-05 - accuracy: 1.0000 - val_loss: 0.0553 - val_accuracy: 0.9929\n",
      "Epoch 7/30\n",
      "36/36 [==============================] - 1s 31ms/step - loss: 3.5621e-05 - accuracy: 1.0000 - val_loss: 0.0548 - val_accuracy: 0.9929\n",
      "Epoch 8/30\n",
      "36/36 [==============================] - 1s 32ms/step - loss: 5.4211e-05 - accuracy: 1.0000 - val_loss: 0.0461 - val_accuracy: 0.9929\n",
      "Epoch 9/30\n",
      "36/36 [==============================] - 1s 30ms/step - loss: 3.2860e-05 - accuracy: 1.0000 - val_loss: 0.0490 - val_accuracy: 0.9929\n",
      "Epoch 10/30\n",
      "36/36 [==============================] - 1s 30ms/step - loss: 2.6698e-05 - accuracy: 1.0000 - val_loss: 0.0450 - val_accuracy: 0.9929\n",
      "Epoch 11/30\n",
      "36/36 [==============================] - 1s 33ms/step - loss: 5.7836e-05 - accuracy: 1.0000 - val_loss: 0.0332 - val_accuracy: 0.9929\n",
      "Epoch 12/30\n",
      "36/36 [==============================] - 1s 31ms/step - loss: 4.6585e-05 - accuracy: 1.0000 - val_loss: 0.0479 - val_accuracy: 0.9929\n",
      "Epoch 13/30\n",
      "36/36 [==============================] - 1s 34ms/step - loss: 3.9106e-05 - accuracy: 1.0000 - val_loss: 0.0530 - val_accuracy: 0.9929\n",
      "Epoch 14/30\n"
     ]
    },
    {
     "name": "stdout",
     "output_type": "stream",
     "text": [
      "36/36 [==============================] - 1s 30ms/step - loss: 0.0174 - accuracy: 0.9912 - val_loss: 0.1508 - val_accuracy: 0.9611\n",
      "Epoch 15/30\n",
      "36/36 [==============================] - 1s 31ms/step - loss: 0.2157 - accuracy: 0.9124 - val_loss: 0.2865 - val_accuracy: 0.8587\n",
      "Epoch 16/30\n",
      "36/36 [==============================] - 1s 31ms/step - loss: 0.1971 - accuracy: 0.8973 - val_loss: 0.2509 - val_accuracy: 0.8940\n",
      "Epoch 17/30\n",
      "36/36 [==============================] - 1s 31ms/step - loss: 0.1881 - accuracy: 0.9062 - val_loss: 0.4058 - val_accuracy: 0.8516\n",
      "Epoch 18/30\n",
      "36/36 [==============================] - 1s 31ms/step - loss: 0.1880 - accuracy: 0.9009 - val_loss: 0.2606 - val_accuracy: 0.8551\n",
      "Epoch 19/30\n",
      "36/36 [==============================] - 1s 30ms/step - loss: 0.1285 - accuracy: 0.9336 - val_loss: 0.1837 - val_accuracy: 0.9470\n",
      "Epoch 20/30\n",
      "36/36 [==============================] - 1s 30ms/step - loss: 0.1023 - accuracy: 0.9575 - val_loss: 0.2489 - val_accuracy: 0.9081\n",
      "Epoch 21/30\n",
      "36/36 [==============================] - 1s 33ms/step - loss: 0.1536 - accuracy: 0.9389 - val_loss: 0.2128 - val_accuracy: 0.9470\n",
      "Epoch 22/30\n",
      "36/36 [==============================] - 1s 33ms/step - loss: 0.1280 - accuracy: 0.9496 - val_loss: 0.2432 - val_accuracy: 0.8940\n",
      "Epoch 23/30\n",
      "36/36 [==============================] - 1s 30ms/step - loss: 0.1141 - accuracy: 0.9540 - val_loss: 0.2334 - val_accuracy: 0.8940\n",
      "Epoch 24/30\n",
      "36/36 [==============================] - 1s 30ms/step - loss: 0.1103 - accuracy: 0.9522 - val_loss: 0.2374 - val_accuracy: 0.9223\n",
      "Epoch 25/30\n",
      "36/36 [==============================] - 1s 33ms/step - loss: 0.1103 - accuracy: 0.9504 - val_loss: 0.2441 - val_accuracy: 0.9046\n",
      "Epoch 26/30\n",
      "36/36 [==============================] - 1s 32ms/step - loss: 0.1028 - accuracy: 0.9575 - val_loss: 0.2241 - val_accuracy: 0.9505\n",
      "Epoch 27/30\n",
      "36/36 [==============================] - 1s 32ms/step - loss: 0.0757 - accuracy: 0.9770 - val_loss: 0.2229 - val_accuracy: 0.9470\n",
      "Epoch 28/30\n",
      "36/36 [==============================] - 1s 28ms/step - loss: 0.0776 - accuracy: 0.9717 - val_loss: 0.2125 - val_accuracy: 0.9611\n",
      "Epoch 29/30\n",
      "36/36 [==============================] - 1s 30ms/step - loss: 0.0686 - accuracy: 0.9735 - val_loss: 0.2479 - val_accuracy: 0.9470\n",
      "Epoch 30/30\n",
      "36/36 [==============================] - 1s 30ms/step - loss: 0.0738 - accuracy: 0.9770 - val_loss: 0.2392 - val_accuracy: 0.9470\n",
      "12/12 [==============================] - 0s 8ms/step - loss: 0.1205 - accuracy: 0.9605\n",
      "12/12 [==============================] - 0s 7ms/step\n",
      "12/12 [==============================] - 0s 8ms/step - loss: 0.1205 - accuracy: 0.9605\n",
      "Training with 30 epochs and batch size 64\n",
      "Epoch 1/30\n",
      "18/18 [==============================] - 1s 55ms/step - loss: 0.0645 - accuracy: 0.9770 - val_loss: 0.2116 - val_accuracy: 0.9611\n",
      "Epoch 2/30\n",
      "18/18 [==============================] - 1s 54ms/step - loss: 0.0551 - accuracy: 0.9876 - val_loss: 0.2102 - val_accuracy: 0.9611\n",
      "Epoch 3/30\n",
      "18/18 [==============================] - 1s 54ms/step - loss: 0.0549 - accuracy: 0.9858 - val_loss: 0.2366 - val_accuracy: 0.9505\n",
      "Epoch 4/30\n",
      "18/18 [==============================] - 1s 53ms/step - loss: 0.0587 - accuracy: 0.9805 - val_loss: 0.2143 - val_accuracy: 0.9611\n",
      "Epoch 5/30\n",
      "18/18 [==============================] - 1s 53ms/step - loss: 0.0555 - accuracy: 0.9841 - val_loss: 0.2276 - val_accuracy: 0.9611\n",
      "Epoch 6/30\n",
      "18/18 [==============================] - 1s 59ms/step - loss: 0.0562 - accuracy: 0.9805 - val_loss: 0.2391 - val_accuracy: 0.9505\n",
      "Epoch 7/30\n",
      "18/18 [==============================] - 1s 55ms/step - loss: 0.0605 - accuracy: 0.9788 - val_loss: 0.2263 - val_accuracy: 0.9611\n",
      "Epoch 8/30\n",
      "18/18 [==============================] - 1s 59ms/step - loss: 0.0515 - accuracy: 0.9850 - val_loss: 0.2184 - val_accuracy: 0.9611\n",
      "Epoch 9/30\n",
      "18/18 [==============================] - 1s 52ms/step - loss: 0.0566 - accuracy: 0.9858 - val_loss: 0.2192 - val_accuracy: 0.9611\n",
      "Epoch 10/30\n",
      "18/18 [==============================] - 1s 54ms/step - loss: 0.0477 - accuracy: 0.9858 - val_loss: 0.2182 - val_accuracy: 0.9611\n",
      "Epoch 11/30\n",
      "18/18 [==============================] - 1s 57ms/step - loss: 0.0527 - accuracy: 0.9805 - val_loss: 0.3818 - val_accuracy: 0.9011\n",
      "Epoch 12/30\n",
      "18/18 [==============================] - 1s 53ms/step - loss: 0.0830 - accuracy: 0.9619 - val_loss: 0.2171 - val_accuracy: 0.9611\n",
      "Epoch 13/30\n",
      "18/18 [==============================] - 1s 57ms/step - loss: 0.0534 - accuracy: 0.9876 - val_loss: 0.2165 - val_accuracy: 0.9576\n",
      "Epoch 14/30\n",
      "18/18 [==============================] - 1s 54ms/step - loss: 0.0471 - accuracy: 0.9885 - val_loss: 0.2058 - val_accuracy: 0.9576\n",
      "Epoch 15/30\n",
      "18/18 [==============================] - 1s 54ms/step - loss: 0.0488 - accuracy: 0.9876 - val_loss: 0.2153 - val_accuracy: 0.9611\n",
      "Epoch 16/30\n",
      "18/18 [==============================] - 1s 54ms/step - loss: 0.0489 - accuracy: 0.9841 - val_loss: 0.2243 - val_accuracy: 0.9576\n",
      "Epoch 17/30\n",
      "18/18 [==============================] - 1s 59ms/step - loss: 0.0576 - accuracy: 0.9823 - val_loss: 0.2088 - val_accuracy: 0.9541\n",
      "Epoch 18/30\n",
      "18/18 [==============================] - 1s 58ms/step - loss: 0.0498 - accuracy: 0.9850 - val_loss: 0.2153 - val_accuracy: 0.9611\n",
      "Epoch 19/30\n",
      "18/18 [==============================] - 1s 57ms/step - loss: 0.0472 - accuracy: 0.9867 - val_loss: 0.2017 - val_accuracy: 0.9611\n",
      "Epoch 20/30\n",
      "18/18 [==============================] - 1s 52ms/step - loss: 0.0422 - accuracy: 0.9903 - val_loss: 0.2176 - val_accuracy: 0.9611\n",
      "Epoch 21/30\n",
      "18/18 [==============================] - 1s 55ms/step - loss: 0.0387 - accuracy: 0.9903 - val_loss: 0.2234 - val_accuracy: 0.9611\n",
      "Epoch 22/30\n",
      "18/18 [==============================] - 1s 55ms/step - loss: 0.0413 - accuracy: 0.9894 - val_loss: 0.2086 - val_accuracy: 0.9611\n",
      "Epoch 23/30\n",
      "18/18 [==============================] - 1s 56ms/step - loss: 0.0419 - accuracy: 0.9858 - val_loss: 0.2119 - val_accuracy: 0.9611\n",
      "Epoch 24/30\n",
      "18/18 [==============================] - 1s 59ms/step - loss: 0.0424 - accuracy: 0.9876 - val_loss: 0.2071 - val_accuracy: 0.9611\n",
      "Epoch 25/30\n",
      "18/18 [==============================] - 1s 60ms/step - loss: 0.0449 - accuracy: 0.9841 - val_loss: 0.2368 - val_accuracy: 0.9576\n",
      "Epoch 26/30\n",
      "18/18 [==============================] - 1s 56ms/step - loss: 0.0438 - accuracy: 0.9858 - val_loss: 0.2062 - val_accuracy: 0.9611\n",
      "Epoch 27/30\n",
      "18/18 [==============================] - 1s 59ms/step - loss: 0.0359 - accuracy: 0.9903 - val_loss: 0.2051 - val_accuracy: 0.9611\n",
      "Epoch 28/30\n",
      "18/18 [==============================] - 1s 55ms/step - loss: 0.0422 - accuracy: 0.9841 - val_loss: 0.2861 - val_accuracy: 0.9293\n",
      "Epoch 29/30\n",
      "18/18 [==============================] - 1s 53ms/step - loss: 0.0535 - accuracy: 0.9788 - val_loss: 0.2049 - val_accuracy: 0.9576\n",
      "Epoch 30/30\n",
      "18/18 [==============================] - 1s 59ms/step - loss: 0.0465 - accuracy: 0.9867 - val_loss: 0.2294 - val_accuracy: 0.9576\n",
      "12/12 [==============================] - 0s 8ms/step - loss: 0.0974 - accuracy: 0.9774\n",
      "12/12 [==============================] - 0s 7ms/step\n",
      "12/12 [==============================] - 0s 8ms/step - loss: 0.0974 - accuracy: 0.9774\n"
     ]
    }
   ],
   "source": [
    "#model training\n",
    "epochs_list = [20,30]\n",
    "batch_sizes_list = [32,64]\n",
    "results = []\n",
    "best_accuracy = 0.0  # Initialize best_accuracy\n",
    "best_time = 0.0\n",
    "for epoch in epochs_list:\n",
    "    for batch_size in batch_sizes_list:\n",
    "        print(f\"Training with {epoch} epochs and batch size {batch_size}\")\n",
    "        start_time = time.time()\n",
    "        early_stopping = EarlyStopping(monitor='val_loss', patience=3, restore_best_weights=True)\n",
    "        history = model.fit([statistics_X_train, polar_X_train],\n",
    "                            polar_y_train,\n",
    "                            epochs=epoch,\n",
    "                            batch_size=batch_size,\n",
    "                            validation_split=0.2,\n",
    "                            class_weight=class_weights)\n",
    "        end_time = time.time()\n",
    "        elapsed_time = end_time - start_time\n",
    "        # Evaluation\n",
    "        test_loss, test_accuracy = model.evaluate([statistics_X_test, polar_X_test], polar_y_test)\n",
    "        predictions = model.predict([statistics_X_test, polar_X_test])\n",
    "        predicted_labels = np.argmax(predictions, axis=1)\n",
    "\n",
    "        accuracy = accuracy_score(statistics_y_test, predicted_labels)\n",
    "        f1 = f1_score(statistics_y_test, predicted_labels, average='weighted')\n",
    "        precision_vals = precision_score(statistics_y_test, predicted_labels, average=None)\n",
    "        recall_vals = recall_score(statistics_y_test, predicted_labels, average=None)\n",
    "\n",
    "        n_classes = 3  # Number of classes\n",
    "        fpr = dict()\n",
    "        tpr = dict()\n",
    "        roc_auc_vals = dict()\n",
    "\n",
    "        for i in range(n_classes):\n",
    "            fpr[i], tpr[i], _ = roc_curve(statistics_y_test, predictions[:, i], pos_label=i)\n",
    "            roc_auc_vals[i] = auc(fpr[i], tpr[i])\n",
    "\n",
    "        results.append({\n",
    "            'epochs': epoch,\n",
    "            'batch_size': batch_size,\n",
    "            'test_accuracy': test_accuracy,\n",
    "            'accuracy': accuracy,\n",
    "            'f1_score': f1,\n",
    "            'precision': precision_vals,\n",
    "            'recall': recall_vals,\n",
    "            'roc_auc': roc_auc_vals\n",
    "        })\n",
    "        test_loss, test_accuracy = model.evaluate([statistics_X_test, polar_X_test], polar_y_test)\n",
    "\n",
    "        if test_accuracy > best_accuracy:\n",
    "            best_accuracy = test_accuracy\n",
    "            best_time = elapsed_time\n"
   ]
  },
  {
   "cell_type": "code",
   "execution_count": 19,
   "id": "fba76947",
   "metadata": {},
   "outputs": [
    {
     "name": "stdout",
     "output_type": "stream",
     "text": [
      "Epochs: 20, Batch Size: 32, Test Accuracy: 0.994350254535675, F1-Score: 0.9943403393447995\n",
      "Epochs: 20, Batch Size: 64, Test Accuracy: 0.9971751570701599, F1-Score: 0.9971752768556863\n",
      "Epochs: 30, Batch Size: 32, Test Accuracy: 0.9604519605636597, F1-Score: 0.9604139894183569\n",
      "Epochs: 30, Batch Size: 64, Test Accuracy: 0.9774011373519897, F1-Score: 0.9773901446892646\n",
      "Time taken for best hyperparameters (with test accuracy 1.00): 19.50 seconds\n"
     ]
    }
   ],
   "source": [
    "# print Validation, Accuracy, F1-Score\n",
    "for result in results:\n",
    "    print(f\"Epochs: {result['epochs']}, Batch Size: {result['batch_size']}, Test Accuracy: {result['test_accuracy']}, F1-Score: {result['f1_score']}\")\n",
    "print(f\"Time taken for best hyperparameters (with test accuracy {best_accuracy:.2f}): {best_time:.2f} seconds\")\n"
   ]
  },
  {
   "cell_type": "code",
   "execution_count": 20,
   "id": "52c8cf4d",
   "metadata": {},
   "outputs": [
    {
     "name": "stdout",
     "output_type": "stream",
     "text": [
      "\n",
      "Best Hyperparameters (Test Accuracy):\n",
      "Epochs: 20\n",
      "Batch Size: 64\n",
      "Test Accuracy: 0.9971751570701599\n"
     ]
    }
   ],
   "source": [
    "#best results\n",
    "best_result_test = max(results, key=lambda x: x['test_accuracy'])\n",
    "print(\"\\nBest Hyperparameters (Test Accuracy):\")\n",
    "print(\"Epochs:\", best_result_test['epochs'])\n",
    "print(\"Batch Size:\", best_result_test['batch_size'])\n",
    "print(\"Test Accuracy:\", best_result_test['test_accuracy'])"
   ]
  },
  {
   "cell_type": "code",
   "execution_count": 21,
   "id": "48eb73c1",
   "metadata": {},
   "outputs": [
    {
     "data": {
      "image/png": "[encoded data removed]",
      "text/plain": [
       "<Figure size 800x600 with 1 Axes>"
      ]
     },
     "metadata": {},
     "output_type": "display_data"
    }
   ],
   "source": [
    "#plot roc curve\n",
    "fpr = dict()\n",
    "tpr = dict()\n",
    "roc_auc = dict()\n",
    "n_classes = 3  # Number of classes\n",
    "\n",
    "for i in range(n_classes):\n",
    "    fpr[i], tpr[i], _ = roc_curve(polar_y_test, predictions[:, i], pos_label=i)\n",
    "    roc_auc[i] = auc(fpr[i], tpr[i])\n",
    "\n",
    "# Plot ROC curves for each class\n",
    "plt.figure(figsize=(8, 6))\n",
    "for i in range(n_classes):\n",
    "    plt.plot(fpr[i], tpr[i], label=f'Class {i} (AUC = {roc_auc[i]:0.2f})')\n",
    "\n",
    "plt.plot([0, 1], [0, 1], 'k--')\n",
    "plt.xlim([0.0, 1.0])\n",
    "plt.ylim([0.0, 1.05])\n",
    "plt.xlabel('False Positive Rate')\n",
    "plt.ylabel('True Positive Rate')\n",
    "plt.title('ROC Curve for Each Class')\n",
    "plt.legend(loc=\"lower right\")\n",
    "plt.show()\n"
   ]
  },
  {
   "cell_type": "code",
   "execution_count": 22,
   "id": "87f3301f",
   "metadata": {},
   "outputs": [
    {
     "name": "stdout",
     "output_type": "stream",
     "text": [
      "\n",
      "Precision for Each Class: [0.99180328 0.99047619 0.95275591]\n",
      "Recall for Each Class: [0.95275591 1.         0.98373984]\n"
     ]
    }
   ],
   "source": [
    "precision = precision_score(polar_y_test, predicted_labels, average=None)\n",
    "recall = recall_score(polar_y_test, predicted_labels, average=None)\n",
    "\n",
    "print(\"\\nPrecision for Each Class:\", precision)\n",
    "print(\"Recall for Each Class:\", recall)\n"
   ]
  },
  {
   "cell_type": "code",
   "execution_count": 23,
   "id": "c1bb09d5",
   "metadata": {},
   "outputs": [
    {
     "data": {
      "image/png": "[encoded data removed]",
      "text/plain": [
       "<Figure size 800x600 with 2 Axes>"
      ]
     },
     "metadata": {},
     "output_type": "display_data"
    }
   ],
   "source": [
    "#plot conf_matrix\n",
    "conf_matrix = confusion_matrix(polar_y_test, predicted_labels)\n",
    "class_labels = ['bopolar', 'irpolar', 'orpolar']\n",
    "confusion_df = pd.DataFrame(conf_matrix, index=class_labels, columns=class_labels)\n",
    "\n",
    "# Plot the confusion matrix using Seaborn\n",
    "plt.figure(figsize=(8, 6))\n",
    "sns.heatmap(confusion_df, annot=True, fmt='d', cmap='Blues', xticklabels=True, yticklabels=True)\n",
    "plt.xlabel('Predicted')\n",
    "plt.ylabel('Actual')\n",
    "plt.title('Confusion Matrix')\n",
    "plt.show()\n"
   ]
  },
  {
   "cell_type": "code",
   "execution_count": null,
   "id": "6057e610",
   "metadata": {},
   "outputs": [],
   "source": []
  }
 ],
 "metadata": {
  "kernelspec": {
   "display_name": "Python 3 (ipykernel)",
   "language": "python",
   "name": "python3"
  },
  "language_info": {
   "codemirror_mode": {
    "name": "ipython",
    "version": 3
   },
   "file_extension": ".py",
   "mimetype": "text/x-python",
   "name": "python",
   "nbconvert_exporter": "python",
   "pygments_lexer": "ipython3",
   "version": "3.9.13"
  }
 },
 "nbformat": 4,
 "nbformat_minor": 5
}
