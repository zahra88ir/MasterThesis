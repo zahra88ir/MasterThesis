{
 "cells": [
  {
   "cell_type": "code",
   "execution_count": 12,
   "id": "e612b370",
   "metadata": {},
   "outputs": [],
   "source": [
    "#import libraries\n",
    "import os\n",
    "import cv2\n",
    "import numpy as np\n",
    "import pandas as pd\n",
    "import matplotlib.pyplot as plt\n",
    "import seaborn as sns\n",
    "from collections import Counter\n",
    "from sklearn.model_selection import train_test_split\n",
    "from sklearn.preprocessing import LabelEncoder\n",
    "from sklearn.metrics import accuracy_score, f1_score, classification_report, roc_curve, auc\n",
    "from sklearn.metrics import precision_score, recall_score, confusion_matrix\n",
    "from tensorflow.keras.applications import EfficientNetB0\n",
    "from tensorflow.keras.layers import GlobalAveragePooling2D, Dense, Dropout, Input, concatenate,Conv1D, MaxPooling1D, Flatten\n",
    "from tensorflow.keras.models import Model,Sequential\n",
    "from tensorflow.keras.utils import to_categorical\n",
    "from keras.callbacks import EarlyStopping\n",
    "from sklearn.preprocessing import StandardScaler\n",
    "import time\n",
    "from keras.preprocessing.image import ImageDataGenerator"
   ]
  },
  {
   "cell_type": "code",
   "execution_count": 2,
   "id": "051bcbf5",
   "metadata": {},
   "outputs": [],
   "source": [
    "#class inputs\n",
    "base_path = r\"C:\\Users\\lenovo\\\\DualChannelThesis\\CWRU\"\n",
    "\n",
    "statistics_directories = [\n",
    "    base_path + \"\\\\stats\\\\bopolar7\",\n",
    "    base_path + \"\\\\stats\\\\bopolar14\",\n",
    "    base_path + \"\\\\stats\\\\bopolar21\",\n",
    "    base_path + \"\\\\stats\\\\irpolar7\",\n",
    "    base_path + \"\\\\stats\\\\irpolar14\",\n",
    "    base_path + \"\\\\stats\\\\irpolar21\",\n",
    "    base_path + \"\\\\stats\\\\orpolar7\",\n",
    "    base_path + \"\\\\stats\\\\orpolar14\",\n",
    "    base_path + \"\\\\stats\\\\orpolar21\",\n",
    "]\n",
    "\n",
    "image_directories = [\n",
    "    base_path + \"\\\\spectogtam\\\\bopolar7\",\n",
    "    base_path + \"\\\\spectogtam\\\\bopolar14\",\n",
    "    base_path + \"\\\\spectogtam\\\\bopolar21\",\n",
    "    base_path + \"\\\\spectogtam\\\\irpolar7\",\n",
    "    base_path + \"\\\\spectogtam\\\\irpolar14\",\n",
    "    base_path + \"\\\\spectogtam\\\\irpolar21\",\n",
    "    base_path + \"\\\\spectogtam\\\\orpolar7\",\n",
    "    base_path + \"\\\\spectogtam\\\\orpolar14\",\n",
    "    base_path + \"\\\\spectogtam\\\\orpolar21\",\n",
    "]\n"
   ]
  },
  {
   "cell_type": "code",
   "execution_count": 3,
   "id": "e6e00bc6",
   "metadata": {},
   "outputs": [],
   "source": [
    "def get_label(directory):\n",
    "    if \"bopolar\" in directory:\n",
    "        return 0  # bopolar\n",
    "    elif \"irpolar\" in directory:\n",
    "        return 1  # irpolar\n",
    "    else:\n",
    "        return 2  # orpolar\n"
   ]
  },
  {
   "cell_type": "code",
   "execution_count": 4,
   "id": "ac94cee8",
   "metadata": {},
   "outputs": [],
   "source": [
    "statistics_data = []\n",
    "statistics_labels = []\n",
    "for directory in statistics_directories:\n",
    "    files = os.listdir(directory)\n",
    "    for file in files:\n",
    "        if file.endswith('.csv'):\n",
    "            file_path = os.path.join(directory, file)\n",
    "            df = pd.read_csv(file_path)\n",
    "            if not df.empty:\n",
    "                features = df.values.flatten()\n",
    "                statistics_data.append(features)\n",
    "                statistics_labels.append(get_label(directory))"
   ]
  },
  {
   "cell_type": "code",
   "execution_count": 5,
   "id": "6419e14c",
   "metadata": {},
   "outputs": [],
   "source": [
    "polar_images = []\n",
    "polar_labels = []\n",
    "for directory in image_directories:\n",
    "    files = os.listdir(directory)\n",
    "    for file in files:\n",
    "        if file.endswith('.png'):\n",
    "            file_path = os.path.join(directory, file)\n",
    "            img = cv2.imread(file_path)\n",
    "            img = cv2.cvtColor(img, cv2.COLOR_BGR2RGB)\n",
    "            img = cv2.resize(img, (224, 224))\n",
    "            polar_images.append(img)\n",
    "            polar_labels.append(get_label(directory))"
   ]
  },
  {
   "cell_type": "code",
   "execution_count": 6,
   "id": "248d115d",
   "metadata": {},
   "outputs": [],
   "source": [
    "polar_images = np.array(polar_images)\n",
    "polar_labels = np.array(polar_labels)\n",
    "\n",
    "statistics_data = np.array(statistics_data)\n",
    "statistics_labels = np.array(statistics_labels)"
   ]
  },
  {
   "cell_type": "code",
   "execution_count": 7,
   "id": "94dd4e31",
   "metadata": {},
   "outputs": [],
   "source": [
    "#splitting\n",
    "statistics_X_train, statistics_X_test, statistics_y_train, statistics_y_test = train_test_split(\n",
    "    statistics_data, statistics_labels, test_size=0.2, random_state=42)"
   ]
  },
  {
   "cell_type": "code",
   "execution_count": 8,
   "id": "6e89eb9d",
   "metadata": {},
   "outputs": [],
   "source": [
    "#scaling the numeric statistical input\n",
    "scaler = StandardScaler()\n",
    "statistics_X_train = scaler.fit_transform(statistics_X_train)\n",
    "statistics_X_test = scaler.transform(statistics_X_test)"
   ]
  },
  {
   "cell_type": "code",
   "execution_count": 9,
   "id": "8ef8fe58",
   "metadata": {},
   "outputs": [],
   "source": [
    "#splitting\n",
    "polar_X_train, polar_X_test, polar_y_train, polar_y_test = train_test_split(\n",
    "    polar_images, polar_labels, test_size=0.2, random_state=42)"
   ]
  },
  {
   "cell_type": "code",
   "execution_count": 10,
   "id": "22d3a463",
   "metadata": {},
   "outputs": [],
   "source": [
    "#Generating class weight\n",
    "class_counts = Counter(statistics_labels)\n",
    "total_samples = len(statistics_labels)\n",
    "class_weights = {class_index: total_samples / (class_count * len(class_counts)) for class_index, class_count in class_counts.items()}\n"
   ]
  },
  {
   "cell_type": "code",
   "execution_count": 13,
   "id": "27863207",
   "metadata": {},
   "outputs": [],
   "source": [
    "#generate data as a data augmentation step\n",
    "\n",
    "datagen = ImageDataGenerator(rotation_range=20, width_shift_range=0.1, height_shift_range=0.1, horizontal_flip=True)\n",
    "datagen.fit(polar_X_train)"
   ]
  },
  {
   "cell_type": "code",
   "execution_count": 14,
   "id": "70f8ca9f",
   "metadata": {},
   "outputs": [],
   "source": [
    "#define inputs\n",
    "statistics_input = Input(shape=(statistics_X_train.shape[1],1))\n",
    "polar_input = Input(shape=(224, 224, 3))"
   ]
  },
  {
   "cell_type": "code",
   "execution_count": 15,
   "id": "8ec16108",
   "metadata": {},
   "outputs": [],
   "source": [
    "#define statistic based 1D CNN model\n",
    "def statistics_model(input_shape):\n",
    "    model = Sequential()\n",
    "    model.add(Conv1D(32, 3, activation='relu', input_shape=input_shape, padding=\"same\"))\n",
    "    model.add(MaxPooling1D(2))\n",
    "    model.add(Conv1D(64, 2, activation='relu', padding=\"same\"))  # Changed kernel size to 2\n",
    "    model.add(MaxPooling1D(2))\n",
    "    model.add(Flatten())\n",
    "    model.add(Dense(128, activation='relu'))\n",
    "    return model\n"
   ]
  },
  {
   "cell_type": "code",
   "execution_count": 16,
   "id": "c0a05b80",
   "metadata": {},
   "outputs": [],
   "source": [
    "polar_base_model = EfficientNetB0( include_top=False, weights='imagenet', input_tensor=polar_input, pooling='avg')\n",
    "polar_output = polar_base_model(polar_input)\n",
    "\n",
    "statistics_branch_model = statistics_model((statistics_X_train.shape[1], 1))\n",
    "statistics_output = statistics_branch_model(statistics_input)"
   ]
  },
  {
   "cell_type": "code",
   "execution_count": 17,
   "id": "9c39d49c",
   "metadata": {},
   "outputs": [],
   "source": [
    "#concatanating the features from both channels\n",
    "\n",
    "combined_input = concatenate([statistics_output, polar_output])\n",
    "x = Dense(256, activation='relu')(combined_input)\n",
    "x = Dropout(0.5)(x)\n",
    "output = Dense((3), activation='softmax')(x)"
   ]
  },
  {
   "cell_type": "code",
   "execution_count": 18,
   "id": "660ef0fc",
   "metadata": {},
   "outputs": [],
   "source": [
    "model = Model(inputs=[statistics_input, polar_input], outputs=output)\n",
    "model.compile(optimizer='adam', loss='sparse_categorical_crossentropy', metrics=['accuracy'])"
   ]
  },
  {
   "cell_type": "code",
   "execution_count": 19,
   "id": "399e4dcd",
   "metadata": {
    "scrolled": true
   },
   "outputs": [
    {
     "name": "stdout",
     "output_type": "stream",
     "text": [
      "Training with 20 epochs and batch size 32\n",
      "Epoch 1/20\n",
      "36/36 [==============================] - 128s 3s/step - loss: 0.3461 - accuracy: 0.8646 - val_loss: 0.9579 - val_accuracy: 0.6678\n",
      "Epoch 2/20\n",
      "36/36 [==============================] - 114s 3s/step - loss: 0.0684 - accuracy: 0.9832 - val_loss: 1.6165 - val_accuracy: 0.8163\n",
      "Epoch 3/20\n",
      "36/36 [==============================] - 115s 3s/step - loss: 0.0680 - accuracy: 0.9761 - val_loss: 1.7747 - val_accuracy: 0.6113\n",
      "Epoch 4/20\n",
      "36/36 [==============================] - 125s 3s/step - loss: 0.0523 - accuracy: 0.9876 - val_loss: 0.3014 - val_accuracy: 0.9293\n",
      "Epoch 5/20\n",
      "36/36 [==============================] - 144s 4s/step - loss: 0.0210 - accuracy: 0.9956 - val_loss: 0.0055 - val_accuracy: 1.0000\n",
      "Epoch 6/20\n",
      "36/36 [==============================] - 120s 3s/step - loss: 0.0014 - accuracy: 1.0000 - val_loss: 3.2927e-05 - val_accuracy: 1.0000\n",
      "Epoch 7/20\n",
      "36/36 [==============================] - 116s 3s/step - loss: 0.0029 - accuracy: 0.9991 - val_loss: 1.3772e-05 - val_accuracy: 1.0000\n",
      "Epoch 8/20\n",
      "36/36 [==============================] - 117s 3s/step - loss: 2.7560e-04 - accuracy: 1.0000 - val_loss: 3.7089e-06 - val_accuracy: 1.0000\n",
      "Epoch 9/20\n",
      "36/36 [==============================] - 118s 3s/step - loss: 2.7341e-04 - accuracy: 1.0000 - val_loss: 2.0042e-06 - val_accuracy: 1.0000\n",
      "Epoch 10/20\n",
      "36/36 [==============================] - 115s 3s/step - loss: 1.1340e-04 - accuracy: 1.0000 - val_loss: 1.4461e-06 - val_accuracy: 1.0000\n",
      "Epoch 11/20\n",
      "36/36 [==============================] - 109s 3s/step - loss: 7.3968e-04 - accuracy: 1.0000 - val_loss: 9.0986e-07 - val_accuracy: 1.0000\n",
      "Epoch 12/20\n",
      "36/36 [==============================] - 116s 3s/step - loss: 0.0218 - accuracy: 0.9920 - val_loss: 0.0495 - val_accuracy: 0.9753\n",
      "Epoch 13/20\n",
      "36/36 [==============================] - 112s 3s/step - loss: 0.0242 - accuracy: 0.9912 - val_loss: 0.0033 - val_accuracy: 0.9965\n",
      "Epoch 14/20\n",
      "36/36 [==============================] - 110s 3s/step - loss: 0.0426 - accuracy: 0.9867 - val_loss: 0.0916 - val_accuracy: 0.9717\n",
      "Epoch 15/20\n",
      "36/36 [==============================] - 112s 3s/step - loss: 0.0428 - accuracy: 0.9885 - val_loss: 0.0901 - val_accuracy: 0.9753\n",
      "Epoch 16/20\n",
      "36/36 [==============================] - 112s 3s/step - loss: 0.0078 - accuracy: 0.9956 - val_loss: 4.5013e-05 - val_accuracy: 1.0000\n",
      "Epoch 17/20\n",
      "36/36 [==============================] - 115s 3s/step - loss: 0.0064 - accuracy: 0.9973 - val_loss: 3.5247e-06 - val_accuracy: 1.0000\n",
      "Epoch 18/20\n",
      "36/36 [==============================] - 113s 3s/step - loss: 0.0234 - accuracy: 0.9938 - val_loss: 0.5617 - val_accuracy: 0.9011\n",
      "Epoch 19/20\n",
      "36/36 [==============================] - 114s 3s/step - loss: 0.0274 - accuracy: 0.9903 - val_loss: 0.2727 - val_accuracy: 0.9258\n",
      "Epoch 20/20\n",
      "36/36 [==============================] - 115s 3s/step - loss: 0.0260 - accuracy: 0.9947 - val_loss: 0.1864 - val_accuracy: 0.9647\n",
      "12/12 [==============================] - 8s 637ms/step - loss: 0.2587 - accuracy: 0.9492\n",
      "12/12 [==============================] - 9s 632ms/step\n",
      "12/12 [==============================] - 8s 629ms/step - loss: 0.2587 - accuracy: 0.9492\n",
      "Training with 20 epochs and batch size 64\n",
      "Epoch 1/20\n",
      "18/18 [==============================] - 114s 6s/step - loss: 0.0045 - accuracy: 0.9982 - val_loss: 3.6675e-05 - val_accuracy: 1.0000\n",
      "Epoch 2/20\n",
      "18/18 [==============================] - 113s 6s/step - loss: 2.7428e-05 - accuracy: 1.0000 - val_loss: 1.8041e-06 - val_accuracy: 1.0000\n",
      "Epoch 3/20\n",
      "18/18 [==============================] - 113s 6s/step - loss: 0.0022 - accuracy: 0.9991 - val_loss: 1.8029e-07 - val_accuracy: 1.0000\n",
      "Epoch 4/20\n",
      "18/18 [==============================] - 113s 6s/step - loss: 2.6978e-04 - accuracy: 1.0000 - val_loss: 1.1584e-07 - val_accuracy: 1.0000\n",
      "Epoch 5/20\n",
      "18/18 [==============================] - 113s 6s/step - loss: 0.0026 - accuracy: 0.9991 - val_loss: 1.4996e-07 - val_accuracy: 1.0000\n",
      "Epoch 6/20\n",
      "18/18 [==============================] - 113s 6s/step - loss: 2.3374e-05 - accuracy: 1.0000 - val_loss: 1.3227e-07 - val_accuracy: 1.0000\n",
      "Epoch 7/20\n",
      "18/18 [==============================] - 113s 6s/step - loss: 3.6939e-04 - accuracy: 1.0000 - val_loss: 1.2426e-07 - val_accuracy: 1.0000\n",
      "Epoch 8/20\n",
      "18/18 [==============================] - 113s 6s/step - loss: 4.3496e-04 - accuracy: 1.0000 - val_loss: 5.7285e-07 - val_accuracy: 1.0000\n",
      "Epoch 9/20\n",
      "18/18 [==============================] - 113s 6s/step - loss: 1.0859e-05 - accuracy: 1.0000 - val_loss: 3.7741e-07 - val_accuracy: 1.0000\n",
      "Epoch 10/20\n",
      "18/18 [==============================] - 121s 7s/step - loss: 3.0433e-06 - accuracy: 1.0000 - val_loss: 2.5779e-07 - val_accuracy: 1.0000\n",
      "Epoch 11/20\n",
      "18/18 [==============================] - 116s 6s/step - loss: 1.2071e-05 - accuracy: 1.0000 - val_loss: 1.8071e-07 - val_accuracy: 1.0000\n",
      "Epoch 12/20\n",
      "18/18 [==============================] - 120s 7s/step - loss: 3.3354e-05 - accuracy: 1.0000 - val_loss: 1.4027e-07 - val_accuracy: 1.0000\n",
      "Epoch 13/20\n",
      "18/18 [==============================] - 117s 6s/step - loss: 6.0038e-06 - accuracy: 1.0000 - val_loss: 1.0531e-07 - val_accuracy: 1.0000\n",
      "Epoch 14/20\n",
      "18/18 [==============================] - 123s 7s/step - loss: 3.5996e-06 - accuracy: 1.0000 - val_loss: 9.1407e-08 - val_accuracy: 1.0000\n",
      "Epoch 15/20\n",
      "18/18 [==============================] - 115s 6s/step - loss: 2.3089e-06 - accuracy: 1.0000 - val_loss: 8.4668e-08 - val_accuracy: 1.0000\n",
      "Epoch 16/20\n",
      "18/18 [==============================] - 116s 6s/step - loss: 7.5624e-06 - accuracy: 1.0000 - val_loss: 7.5822e-08 - val_accuracy: 1.0000\n",
      "Epoch 17/20\n",
      "18/18 [==============================] - 115s 6s/step - loss: 1.6148e-05 - accuracy: 1.0000 - val_loss: 6.6555e-08 - val_accuracy: 1.0000\n",
      "Epoch 18/20\n",
      "18/18 [==============================] - 115s 6s/step - loss: 6.4914e-06 - accuracy: 1.0000 - val_loss: 6.1079e-08 - val_accuracy: 1.0000\n",
      "Epoch 19/20\n",
      "18/18 [==============================] - 116s 6s/step - loss: 8.4891e-06 - accuracy: 1.0000 - val_loss: 5.3497e-08 - val_accuracy: 1.0000\n",
      "Epoch 20/20\n",
      "18/18 [==============================] - 113s 6s/step - loss: 4.2824e-06 - accuracy: 1.0000 - val_loss: 5.0548e-08 - val_accuracy: 1.0000\n",
      "12/12 [==============================] - 8s 656ms/step - loss: 1.5591e-07 - accuracy: 1.0000\n",
      "12/12 [==============================] - 8s 643ms/step\n",
      "12/12 [==============================] - 8s 648ms/step - loss: 1.5591e-07 - accuracy: 1.0000\n",
      "Training with 30 epochs and batch size 32\n",
      "Epoch 1/30\n",
      "36/36 [==============================] - 114s 3s/step - loss: 8.9273e-06 - accuracy: 1.0000 - val_loss: 4.5072e-08 - val_accuracy: 1.0000\n",
      "Epoch 2/30\n",
      "36/36 [==============================] - 114s 3s/step - loss: 0.0066 - accuracy: 0.9973 - val_loss: 0.0260 - val_accuracy: 0.9965\n",
      "Epoch 3/30\n",
      "36/36 [==============================] - 115s 3s/step - loss: 0.0111 - accuracy: 0.9973 - val_loss: 0.0883 - val_accuracy: 0.9647\n",
      "Epoch 4/30\n",
      "36/36 [==============================] - 115s 3s/step - loss: 0.0779 - accuracy: 0.9805 - val_loss: 11.6995 - val_accuracy: 0.4841\n",
      "Epoch 5/30\n",
      "36/36 [==============================] - 115s 3s/step - loss: 0.0181 - accuracy: 0.9929 - val_loss: 8.5452 - val_accuracy: 0.6714\n",
      "Epoch 6/30\n",
      "36/36 [==============================] - 115s 3s/step - loss: 0.0127 - accuracy: 0.9973 - val_loss: 0.0150 - val_accuracy: 0.9965\n",
      "Epoch 7/30\n",
      "36/36 [==============================] - 115s 3s/step - loss: 0.0026 - accuracy: 0.9991 - val_loss: 1.4010e-06 - val_accuracy: 1.0000\n",
      "Epoch 8/30\n",
      "36/36 [==============================] - 115s 3s/step - loss: 2.0134e-04 - accuracy: 1.0000 - val_loss: 3.5092e-06 - val_accuracy: 1.0000\n",
      "Epoch 9/30\n",
      "36/36 [==============================] - 115s 3s/step - loss: 0.0249 - accuracy: 0.9956 - val_loss: 2.1765e-04 - val_accuracy: 1.0000\n",
      "Epoch 10/30\n",
      "36/36 [==============================] - 115s 3s/step - loss: 0.0010 - accuracy: 1.0000 - val_loss: 4.2279e-06 - val_accuracy: 1.0000\n",
      "Epoch 11/30\n",
      "36/36 [==============================] - 115s 3s/step - loss: 0.0021 - accuracy: 0.9991 - val_loss: 1.4322e-07 - val_accuracy: 1.0000\n",
      "Epoch 12/30\n",
      "36/36 [==============================] - 115s 3s/step - loss: 0.0040 - accuracy: 0.9982 - val_loss: 0.0106 - val_accuracy: 0.9965\n",
      "Epoch 13/30\n"
     ]
    },
    {
     "name": "stdout",
     "output_type": "stream",
     "text": [
      "36/36 [==============================] - 115s 3s/step - loss: 0.0026 - accuracy: 0.9991 - val_loss: 6.7397e-09 - val_accuracy: 1.0000\n",
      "Epoch 14/30\n",
      "36/36 [==============================] - 115s 3s/step - loss: 0.0015 - accuracy: 0.9991 - val_loss: 1.2864e-06 - val_accuracy: 1.0000\n",
      "Epoch 15/30\n",
      "36/36 [==============================] - 115s 3s/step - loss: 0.0019 - accuracy: 0.9991 - val_loss: 6.5164e-07 - val_accuracy: 1.0000\n",
      "Epoch 16/30\n",
      "36/36 [==============================] - 116s 3s/step - loss: 6.2062e-04 - accuracy: 1.0000 - val_loss: 1.1780e-06 - val_accuracy: 1.0000\n",
      "Epoch 17/30\n",
      "36/36 [==============================] - 109s 3s/step - loss: 0.0021 - accuracy: 0.9991 - val_loss: 0.0244 - val_accuracy: 0.9965\n",
      "Epoch 18/30\n",
      "36/36 [==============================] - 108s 3s/step - loss: 0.0259 - accuracy: 0.9912 - val_loss: 4.6429e-04 - val_accuracy: 1.0000\n",
      "Epoch 19/30\n",
      "36/36 [==============================] - 109s 3s/step - loss: 0.0028 - accuracy: 0.9982 - val_loss: 1.5923e-07 - val_accuracy: 1.0000\n",
      "Epoch 20/30\n",
      "36/36 [==============================] - 109s 3s/step - loss: 1.9253e-04 - accuracy: 1.0000 - val_loss: 2.1904e-08 - val_accuracy: 1.0000\n",
      "Epoch 21/30\n",
      "36/36 [==============================] - 108s 3s/step - loss: 0.0302 - accuracy: 0.9982 - val_loss: 3.3654e-05 - val_accuracy: 1.0000\n",
      "Epoch 22/30\n",
      "36/36 [==============================] - 108s 3s/step - loss: 0.0104 - accuracy: 0.9973 - val_loss: 0.0410 - val_accuracy: 0.9894\n",
      "Epoch 23/30\n",
      "36/36 [==============================] - 108s 3s/step - loss: 0.0089 - accuracy: 0.9973 - val_loss: 0.0820 - val_accuracy: 0.9823\n",
      "Epoch 24/30\n",
      "36/36 [==============================] - 108s 3s/step - loss: 0.0115 - accuracy: 0.9982 - val_loss: 5.1581e-05 - val_accuracy: 1.0000\n",
      "Epoch 25/30\n",
      "36/36 [==============================] - 108s 3s/step - loss: 0.0014 - accuracy: 0.9991 - val_loss: 1.9479e-04 - val_accuracy: 1.0000\n",
      "Epoch 26/30\n",
      "36/36 [==============================] - 108s 3s/step - loss: 1.5948e-04 - accuracy: 1.0000 - val_loss: 3.1659e-04 - val_accuracy: 1.0000\n",
      "Epoch 27/30\n",
      "36/36 [==============================] - 108s 3s/step - loss: 8.1156e-05 - accuracy: 1.0000 - val_loss: 4.6393e-05 - val_accuracy: 1.0000\n",
      "Epoch 28/30\n",
      "36/36 [==============================] - 109s 3s/step - loss: 1.7524e-04 - accuracy: 1.0000 - val_loss: 1.4444e-05 - val_accuracy: 1.0000\n",
      "Epoch 29/30\n",
      "36/36 [==============================] - 112s 3s/step - loss: 4.0055e-05 - accuracy: 1.0000 - val_loss: 1.2943e-05 - val_accuracy: 1.0000\n",
      "Epoch 30/30\n",
      "36/36 [==============================] - 113s 3s/step - loss: 8.7608e-04 - accuracy: 0.9991 - val_loss: 2.2602e-05 - val_accuracy: 1.0000\n",
      "12/12 [==============================] - 8s 621ms/step - loss: 4.8424e-07 - accuracy: 1.0000\n",
      "12/12 [==============================] - 7s 609ms/step\n",
      "12/12 [==============================] - 7s 610ms/step - loss: 4.8424e-07 - accuracy: 1.0000\n",
      "Training with 30 epochs and batch size 64\n",
      "Epoch 1/30\n",
      "18/18 [==============================] - 111s 6s/step - loss: 6.9199e-05 - accuracy: 1.0000 - val_loss: 3.7190e-06 - val_accuracy: 1.0000\n",
      "Epoch 2/30\n",
      "18/18 [==============================] - 108s 6s/step - loss: 3.2177e-05 - accuracy: 1.0000 - val_loss: 2.8924e-06 - val_accuracy: 1.0000\n",
      "Epoch 3/30\n",
      "18/18 [==============================] - 108s 6s/step - loss: 6.3260e-06 - accuracy: 1.0000 - val_loss: 2.7299e-06 - val_accuracy: 1.0000\n",
      "Epoch 4/30\n",
      "18/18 [==============================] - 108s 6s/step - loss: 8.9199e-05 - accuracy: 1.0000 - val_loss: 2.6079e-06 - val_accuracy: 1.0000\n",
      "Epoch 5/30\n",
      "18/18 [==============================] - 107s 6s/step - loss: 1.9060e-05 - accuracy: 1.0000 - val_loss: 2.5481e-06 - val_accuracy: 1.0000\n",
      "Epoch 6/30\n",
      "18/18 [==============================] - 110s 6s/step - loss: 2.5514e-05 - accuracy: 1.0000 - val_loss: 2.5220e-06 - val_accuracy: 1.0000\n",
      "Epoch 7/30\n",
      "18/18 [==============================] - 110s 6s/step - loss: 1.2419e-05 - accuracy: 1.0000 - val_loss: 2.5031e-06 - val_accuracy: 1.0000\n",
      "Epoch 8/30\n",
      "18/18 [==============================] - 114s 6s/step - loss: 7.0098e-05 - accuracy: 1.0000 - val_loss: 2.6967e-06 - val_accuracy: 1.0000\n",
      "Epoch 9/30\n",
      "18/18 [==============================] - 113s 6s/step - loss: 4.8016e-05 - accuracy: 1.0000 - val_loss: 2.7951e-06 - val_accuracy: 1.0000\n",
      "Epoch 10/30\n",
      "18/18 [==============================] - 117s 7s/step - loss: 6.5197e-05 - accuracy: 1.0000 - val_loss: 2.7051e-06 - val_accuracy: 1.0000\n",
      "Epoch 11/30\n",
      "18/18 [==============================] - 113s 6s/step - loss: 5.5757e-06 - accuracy: 1.0000 - val_loss: 2.6133e-06 - val_accuracy: 1.0000\n",
      "Epoch 12/30\n",
      "18/18 [==============================] - 109s 6s/step - loss: 5.0236e-06 - accuracy: 1.0000 - val_loss: 2.5851e-06 - val_accuracy: 1.0000\n",
      "Epoch 13/30\n",
      "18/18 [==============================] - 113s 6s/step - loss: 4.7185e-06 - accuracy: 1.0000 - val_loss: 2.5598e-06 - val_accuracy: 1.0000\n",
      "Epoch 14/30\n",
      "18/18 [==============================] - 113s 6s/step - loss: 8.7673e-06 - accuracy: 1.0000 - val_loss: 2.5594e-06 - val_accuracy: 1.0000\n",
      "Epoch 15/30\n",
      "18/18 [==============================] - 113s 6s/step - loss: 1.0934e-05 - accuracy: 1.0000 - val_loss: 2.5813e-06 - val_accuracy: 1.0000\n",
      "Epoch 16/30\n",
      "18/18 [==============================] - 113s 6s/step - loss: 1.3427e-05 - accuracy: 1.0000 - val_loss: 2.5527e-06 - val_accuracy: 1.0000\n",
      "Epoch 17/30\n",
      "18/18 [==============================] - 115s 6s/step - loss: 2.2626e-05 - accuracy: 1.0000 - val_loss: 2.6709e-06 - val_accuracy: 1.0000\n",
      "Epoch 18/30\n",
      "18/18 [==============================] - 114s 6s/step - loss: 1.5353e-05 - accuracy: 1.0000 - val_loss: 2.6958e-06 - val_accuracy: 1.0000\n",
      "Epoch 19/30\n",
      "18/18 [==============================] - 112s 6s/step - loss: 3.6283e-05 - accuracy: 1.0000 - val_loss: 2.6090e-06 - val_accuracy: 1.0000\n",
      "Epoch 20/30\n",
      "18/18 [==============================] - 109s 6s/step - loss: 2.0185e-05 - accuracy: 1.0000 - val_loss: 2.5408e-06 - val_accuracy: 1.0000\n",
      "Epoch 21/30\n",
      "18/18 [==============================] - 111s 6s/step - loss: 6.4350e-06 - accuracy: 1.0000 - val_loss: 2.4861e-06 - val_accuracy: 1.0000\n",
      "Epoch 22/30\n",
      "18/18 [==============================] - 113s 6s/step - loss: 5.4635e-06 - accuracy: 1.0000 - val_loss: 2.4133e-06 - val_accuracy: 1.0000\n",
      "Epoch 23/30\n",
      "18/18 [==============================] - 112s 6s/step - loss: 7.4927e-05 - accuracy: 1.0000 - val_loss: 2.3973e-06 - val_accuracy: 1.0000\n",
      "Epoch 24/30\n",
      "18/18 [==============================] - 113s 6s/step - loss: 4.0387e-06 - accuracy: 1.0000 - val_loss: 2.3561e-06 - val_accuracy: 1.0000\n",
      "Epoch 25/30\n",
      "18/18 [==============================] - 112s 6s/step - loss: 6.1679e-06 - accuracy: 1.0000 - val_loss: 2.2992e-06 - val_accuracy: 1.0000\n",
      "Epoch 26/30\n",
      "18/18 [==============================] - 113s 6s/step - loss: 6.9077e-06 - accuracy: 1.0000 - val_loss: 2.2933e-06 - val_accuracy: 1.0000\n",
      "Epoch 27/30\n",
      "18/18 [==============================] - 109s 6s/step - loss: 1.0056e-05 - accuracy: 1.0000 - val_loss: 2.2879e-06 - val_accuracy: 1.0000\n",
      "Epoch 28/30\n",
      "18/18 [==============================] - 109s 6s/step - loss: 1.9222e-05 - accuracy: 1.0000 - val_loss: 2.3691e-06 - val_accuracy: 1.0000\n",
      "Epoch 29/30\n",
      "18/18 [==============================] - 107s 6s/step - loss: 2.4954e-06 - accuracy: 1.0000 - val_loss: 2.4356e-06 - val_accuracy: 1.0000\n",
      "Epoch 30/30\n",
      "18/18 [==============================] - 109s 6s/step - loss: 3.0574e-06 - accuracy: 1.0000 - val_loss: 2.4306e-06 - val_accuracy: 1.0000\n",
      "12/12 [==============================] - 7s 606ms/step - loss: 1.2426e-07 - accuracy: 1.0000\n",
      "12/12 [==============================] - 7s 604ms/step\n",
      "12/12 [==============================] - 7s 603ms/step - loss: 1.2426e-07 - accuracy: 1.0000\n"
     ]
    }
   ],
   "source": [
    "#model training\n",
    "epochs_list = [20,30]\n",
    "batch_sizes_list = [32,64]\n",
    "results = []\n",
    "best_accuracy = 0.0  # Initialize best_accuracy\n",
    "best_time = 0.0\n",
    "for epoch in epochs_list:\n",
    "    for batch_size in batch_sizes_list:\n",
    "        print(f\"Training with {epoch} epochs and batch size {batch_size}\")\n",
    "        start_time = time.time()\n",
    "        early_stopping = EarlyStopping(monitor='val_loss', patience=3, restore_best_weights=True)\n",
    "        history = model.fit([statistics_X_train, polar_X_train],\n",
    "                            polar_y_train,\n",
    "                            epochs=epoch,\n",
    "                            batch_size=batch_size,\n",
    "                            validation_split=0.2,\n",
    "                            class_weight=class_weights)\n",
    "        end_time = time.time()\n",
    "        elapsed_time = end_time - start_time\n",
    "        # Evaluation\n",
    "        test_loss, test_accuracy = model.evaluate([statistics_X_test, polar_X_test], polar_y_test)\n",
    "        predictions = model.predict([statistics_X_test, polar_X_test])\n",
    "        predicted_labels = np.argmax(predictions, axis=1)\n",
    "\n",
    "        accuracy = accuracy_score(statistics_y_test, predicted_labels)\n",
    "        f1 = f1_score(statistics_y_test, predicted_labels, average='weighted')\n",
    "        precision_vals = precision_score(statistics_y_test, predicted_labels, average=None)\n",
    "        recall_vals = recall_score(statistics_y_test, predicted_labels, average=None)\n",
    "\n",
    "        n_classes = 3  # Number of classes\n",
    "        fpr = dict()\n",
    "        tpr = dict()\n",
    "        roc_auc_vals = dict()\n",
    "\n",
    "        for i in range(n_classes):\n",
    "            fpr[i], tpr[i], _ = roc_curve(statistics_y_test, predictions[:, i], pos_label=i)\n",
    "            roc_auc_vals[i] = auc(fpr[i], tpr[i])\n",
    "\n",
    "        results.append({\n",
    "            'epochs': epoch,\n",
    "            'batch_size': batch_size,\n",
    "            'test_accuracy': test_accuracy,\n",
    "            'accuracy': accuracy,\n",
    "            'f1_score': f1,\n",
    "            'precision': precision_vals,\n",
    "            'recall': recall_vals,\n",
    "            'roc_auc': roc_auc_vals\n",
    "        })\n",
    "        test_loss, test_accuracy = model.evaluate([statistics_X_test, polar_X_test], polar_y_test)\n",
    "\n",
    "        if test_accuracy > best_accuracy:\n",
    "            best_accuracy = test_accuracy\n",
    "            best_time = elapsed_time\n"
   ]
  },
  {
   "cell_type": "code",
   "execution_count": 20,
   "id": "65a9cae3",
   "metadata": {},
   "outputs": [
    {
     "name": "stdout",
     "output_type": "stream",
     "text": [
      "Epochs: 20, Batch Size: 32, Test Accuracy: 0.9491525292396545, F1-Score: 0.948946880467995\n",
      "Epochs: 20, Batch Size: 64, Test Accuracy: 1.0, F1-Score: 1.0\n",
      "Epochs: 30, Batch Size: 32, Test Accuracy: 1.0, F1-Score: 1.0\n",
      "Epochs: 30, Batch Size: 64, Test Accuracy: 1.0, F1-Score: 1.0\n",
      "Time taken for best hyperparameters (with test accuracy 1.00): 2303.58 seconds\n"
     ]
    }
   ],
   "source": [
    "# print Validation, Accuracy, F1-Score\n",
    "\n",
    "for result in results:\n",
    "    print(f\"Epochs: {result['epochs']}, Batch Size: {result['batch_size']}, Test Accuracy: {result['test_accuracy']}, F1-Score: {result['f1_score']}\")\n",
    "print(f\"Time taken for best hyperparameters (with test accuracy {best_accuracy:.2f}): {best_time:.2f} seconds\")\n"
   ]
  },
  {
   "cell_type": "code",
   "execution_count": 21,
   "id": "6f8e3919",
   "metadata": {},
   "outputs": [
    {
     "name": "stdout",
     "output_type": "stream",
     "text": [
      "\n",
      "Best Hyperparameters (Test Accuracy):\n",
      "Epochs: 20\n",
      "Batch Size: 64\n",
      "Test Accuracy: 1.0\n"
     ]
    }
   ],
   "source": [
    "#best results\n",
    "best_result_test = max(results, key=lambda x: x['test_accuracy'])\n",
    "print(\"\\nBest Hyperparameters (Test Accuracy):\")\n",
    "print(\"Epochs:\", best_result_test['epochs'])\n",
    "print(\"Batch Size:\", best_result_test['batch_size'])\n",
    "print(\"Test Accuracy:\", best_result_test['test_accuracy'])"
   ]
  },
  {
   "cell_type": "code",
   "execution_count": 22,
   "id": "02b3e3c2",
   "metadata": {},
   "outputs": [
    {
     "data": {
      "image/png": "[encoded data removed]",
      "text/plain": [
       "<Figure size 800x600 with 1 Axes>"
      ]
     },
     "metadata": {},
     "output_type": "display_data"
    }
   ],
   "source": [
    "#plot roc curve\n",
    "fpr = dict()\n",
    "tpr = dict()\n",
    "roc_auc = dict()\n",
    "n_classes = 3  # Number of classes\n",
    "\n",
    "for i in range(n_classes):\n",
    "    fpr[i], tpr[i], _ = roc_curve(polar_y_test, predictions[:, i], pos_label=i)\n",
    "    roc_auc[i] = auc(fpr[i], tpr[i])\n",
    "\n",
    "# Plot ROC curves for each class\n",
    "plt.figure(figsize=(8, 6))\n",
    "for i in range(n_classes):\n",
    "    plt.plot(fpr[i], tpr[i], label=f'Class {i} (AUC = {roc_auc[i]:0.2f})')\n",
    "\n",
    "plt.plot([0, 1], [0, 1], 'k--')\n",
    "plt.xlim([0.0, 1.0])\n",
    "plt.ylim([0.0, 1.05])\n",
    "plt.xlabel('False Positive Rate')\n",
    "plt.ylabel('True Positive Rate')\n",
    "plt.title('ROC Curve for Each Class')\n",
    "plt.legend(loc=\"lower right\")\n",
    "plt.show()\n"
   ]
  },
  {
   "cell_type": "code",
   "execution_count": 23,
   "id": "8ea6ce85",
   "metadata": {},
   "outputs": [
    {
     "name": "stdout",
     "output_type": "stream",
     "text": [
      "\n",
      "Precision for Each Class: [1. 1. 1.]\n",
      "Recall for Each Class: [1. 1. 1.]\n"
     ]
    }
   ],
   "source": [
    "precision = precision_score(polar_y_test, predicted_labels, average=None)\n",
    "recall = recall_score(polar_y_test, predicted_labels, average=None)\n",
    "\n",
    "print(\"\\nPrecision for Each Class:\", precision)\n",
    "print(\"Recall for Each Class:\", recall)\n"
   ]
  },
  {
   "cell_type": "code",
   "execution_count": 24,
   "id": "cfd37cd1",
   "metadata": {},
   "outputs": [
    {
     "data": {
      "image/png": "[encoded data removed]",
      "text/plain": [
       "<Figure size 800x600 with 2 Axes>"
      ]
     },
     "metadata": {},
     "output_type": "display_data"
    }
   ],
   "source": [
    "#plot cont matrix \n",
    "conf_matrix = confusion_matrix(polar_y_test, predicted_labels)\n",
    "class_labels = ['bopolar', 'irpolar', 'orpolar']\n",
    "confusion_df = pd.DataFrame(conf_matrix, index=class_labels, columns=class_labels)\n",
    "\n",
    "# Plot the confusion matrix using Seaborn\n",
    "plt.figure(figsize=(8, 6))\n",
    "sns.heatmap(confusion_df, annot=True, fmt='d', cmap='Blues', xticklabels=True, yticklabels=True)\n",
    "plt.xlabel('Predicted')\n",
    "plt.ylabel('Actual')\n",
    "plt.title('Confusion Matrix')\n",
    "plt.show()\n"
   ]
  },
  {
   "cell_type": "code",
   "execution_count": null,
   "id": "14284f7d",
   "metadata": {},
   "outputs": [],
   "source": []
  }
 ],
 "metadata": {
  "kernelspec": {
   "display_name": "Python 3 (ipykernel)",
   "language": "python",
   "name": "python3"
  },
  "language_info": {
   "codemirror_mode": {
    "name": "ipython",
    "version": 3
   },
   "file_extension": ".py",
   "mimetype": "text/x-python",
   "name": "python",
   "nbconvert_exporter": "python",
   "pygments_lexer": "ipython3",
   "version": "3.9.13"
  }
 },
 "nbformat": 4,
 "nbformat_minor": 5
}
