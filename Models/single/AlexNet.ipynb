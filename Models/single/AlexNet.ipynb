{
 "cells": [
  {
   "cell_type": "code",
   "execution_count": 26,
   "id": "8ad7ea58",
   "metadata": {},
   "outputs": [],
   "source": [
    "#import libraries\n",
    "import os\n",
    "import cv2\n",
    "import numpy as np\n",
    "import pandas as pd\n",
    "import seaborn as sns\n",
    "from sklearn.model_selection import train_test_split\n",
    "from tensorflow.keras.layers import Conv2D, MaxPooling2D, GlobalAveragePooling2D, Dense, Dropout,Flatten\n",
    "from tensorflow.keras.models import Sequential\n",
    "from tensorflow.keras.utils import to_categorical\n",
    "from sklearn.preprocessing import LabelEncoder\n",
    "from keras.callbacks import EarlyStopping\n",
    "from sklearn.metrics import accuracy_score, f1_score, roc_curve, auc, precision_score, recall_score, confusion_matrix\n",
    "import matplotlib.pyplot as plt\n",
    "import seaborn as sns\n",
    "from keras.preprocessing.image import ImageDataGenerator\n",
    "from tensorflow.keras.optimizers import Adam\n",
    "from collections import Counter\n"
   ]
  },
  {
   "cell_type": "code",
   "execution_count": 2,
   "id": "d53a7e97",
   "metadata": {},
   "outputs": [],
   "source": [
    "#class inputs\n",
    "base_path = r\"C:\\Users\\lenovo\\USNThesis\\CWRU\"\n",
    "\n",
    "image_directories = [\n",
    "    base_path + \"\\\\spectogtam\\\\bopolar7\",\n",
    "    base_path + \"\\\\spectogtam\\\\bopolar14\",\n",
    "    base_path + \"\\\\spectogtam\\\\bopolar21\",\n",
    "    base_path + \"\\\\spectogtam\\\\irpolar7\",\n",
    "    base_path + \"\\\\spectogtam\\\\irpolar14\",\n",
    "    base_path + \"\\\\spectogtam\\\\irpolar21\",\n",
    "    base_path + \"\\\\spectogtam\\\\orpolar7\",\n",
    "    base_path + \"\\\\spectogtam\\\\orpolar14\",\n",
    "    base_path + \"\\\\spectogtam\\\\orpolar21\",\n",
    "]\n"
   ]
  },
  {
   "cell_type": "code",
   "execution_count": 3,
   "id": "b05795e1",
   "metadata": {},
   "outputs": [],
   "source": [
    "#class labeling\n",
    "def get_label(directory):\n",
    "    if \"bopolar\" in directory:\n",
    "        return 0  \n",
    "    elif \"irpolar\" in directory:\n",
    "        return 1 \n",
    "    else:\n",
    "        return 2  \n"
   ]
  },
  {
   "cell_type": "code",
   "execution_count": 4,
   "id": "fecaac2e",
   "metadata": {},
   "outputs": [],
   "source": [
    "pimages = []\n",
    "plabels = []\n",
    "for directory in image_directories:\n",
    "    files = os.listdir(directory)\n",
    "    for file in files:\n",
    "        if file.endswith('.png'):\n",
    "            file_path = os.path.join(directory, file)\n",
    "            img = cv2.imread(file_path)\n",
    "            img = cv2.cvtColor(img, cv2.COLOR_BGR2RGB)\n",
    "            img = cv2.resize(img, (224, 224))\n",
    "            pimages.append(img)\n",
    "            plabels.append(get_label(directory))"
   ]
  },
  {
   "cell_type": "code",
   "execution_count": 5,
   "id": "e2bcc00a",
   "metadata": {},
   "outputs": [],
   "source": [
    "images = np.array(pimages)\n",
    "labels = np.array(plabels)"
   ]
  },
  {
   "cell_type": "code",
   "execution_count": 6,
   "id": "c623ee01",
   "metadata": {},
   "outputs": [],
   "source": [
    "# splitting\n",
    "X_train, X_test, y_train, y_test = train_test_split(images, labels, test_size=0.2, random_state=42)"
   ]
  },
  {
   "cell_type": "code",
   "execution_count": 8,
   "id": "62f079a9",
   "metadata": {},
   "outputs": [],
   "source": [
    "#Generating class weight\n",
    "class_counts = Counter(labels)\n",
    "total_samples = len(labels)\n",
    "class_weights = {class_index: total_samples / (class_count * len(class_counts)) for class_index, class_count in class_counts.items()}\n"
   ]
  },
  {
   "cell_type": "code",
   "execution_count": 9,
   "id": "17f134da",
   "metadata": {},
   "outputs": [],
   "source": [
    "#generate data as a data augmentation step\n",
    "datagen = ImageDataGenerator(rotation_range=20, width_shift_range=0.1, height_shift_range=0.1, horizontal_flip=True)\n",
    "datagen.fit(X_train)"
   ]
  },
  {
   "cell_type": "code",
   "execution_count": 10,
   "id": "3084a543",
   "metadata": {},
   "outputs": [],
   "source": [
    "#Alexnet definitation\n",
    "def AlexNetModel(input_shape, num_classes):\n",
    "    \n",
    "    model = Sequential()\n",
    "    \n",
    "    model.add(Conv2D(96, (11, 11), strides=(4, 4), activation='relu', padding='same', input_shape=input_shape))\n",
    "    model.add(MaxPooling2D(pool_size=(3, 3), strides=(2, 2), padding='valid'))\n",
    "    \n",
    "    model.add(Conv2D(256, (5, 5), activation='relu', padding='same'))\n",
    "    model.add(MaxPooling2D(pool_size=(3, 3), strides=(2, 2), padding='valid'))\n",
    "    \n",
    "    model.add(Conv2D(384, (3, 3), activation='relu', padding='same'))\n",
    "    model.add(Conv2D(384, (3, 3), activation='relu', padding='same'))\n",
    "    model.add(Conv2D(256, (3, 3), activation='relu', padding='same'))\n",
    "    model.add(MaxPooling2D(pool_size=(3, 3), strides=(2, 2), padding='valid'))\n",
    "    \n",
    "    model.add(Flatten())\n",
    "    model.add(Dense(4096, activation='relu'))\n",
    "    model.add(Dropout(0.5))\n",
    "    \n",
    "    model.add(Dense(4096, activation='relu'))\n",
    "    model.add(Dropout(0.5))\n",
    "    \n",
    "    model.add(Dense(num_classes, activation='softmax'))\n",
    "    \n",
    "    return model"
   ]
  },
  {
   "cell_type": "code",
   "execution_count": 11,
   "id": "30a0699a",
   "metadata": {},
   "outputs": [],
   "source": [
    "model = AlexNetModel(input_shape=(224, 224, 3), num_classes=3)  \n",
    "optimizer = Adam(learning_rate=0.0001)\n",
    "model.compile(optimizer='adam', loss='sparse_categorical_crossentropy', metrics=['accuracy'])"
   ]
  },
  {
   "cell_type": "code",
   "execution_count": 14,
   "id": "ade0a3c2",
   "metadata": {},
   "outputs": [
    {
     "name": "stdout",
     "output_type": "stream",
     "text": [
      "Training with 20 epochs and 32 batch size...\n",
      "Epoch 1/20\n",
      "36/36 [==============================] - 40s 1s/step - loss: 1.0998 - accuracy: 0.3071 - val_loss: 1.1008 - val_accuracy: 0.3286\n",
      "Epoch 2/20\n",
      "36/36 [==============================] - 41s 1s/step - loss: 1.0992 - accuracy: 0.3248 - val_loss: 1.1002 - val_accuracy: 0.3039\n",
      "Epoch 3/20\n",
      "36/36 [==============================] - 44s 1s/step - loss: 1.0991 - accuracy: 0.3345 - val_loss: 1.1002 - val_accuracy: 0.3039\n",
      "Epoch 4/20\n",
      "36/36 [==============================] - 42s 1s/step - loss: 1.0991 - accuracy: 0.3230 - val_loss: 1.0995 - val_accuracy: 0.3286\n",
      "Epoch 5/20\n",
      "36/36 [==============================] - 41s 1s/step - loss: 1.0993 - accuracy: 0.3274 - val_loss: 1.0999 - val_accuracy: 0.3039\n",
      "Epoch 6/20\n",
      "36/36 [==============================] - 40s 1s/step - loss: 1.0982 - accuracy: 0.3531 - val_loss: 1.1006 - val_accuracy: 0.3039\n",
      "Epoch 7/20\n",
      "36/36 [==============================] - 41s 1s/step - loss: 1.0992 - accuracy: 0.3442 - val_loss: 1.1004 - val_accuracy: 0.3286\n",
      "Epoch 8/20\n",
      "36/36 [==============================] - 41s 1s/step - loss: 1.0993 - accuracy: 0.3204 - val_loss: 1.1004 - val_accuracy: 0.3286\n",
      "Epoch 9/20\n",
      "36/36 [==============================] - 42s 1s/step - loss: 1.0993 - accuracy: 0.3363 - val_loss: 1.1000 - val_accuracy: 0.3286\n",
      "Epoch 10/20\n",
      "36/36 [==============================] - 42s 1s/step - loss: 1.0989 - accuracy: 0.3451 - val_loss: 1.0998 - val_accuracy: 0.3286\n",
      "Epoch 11/20\n",
      "36/36 [==============================] - 41s 1s/step - loss: 1.0992 - accuracy: 0.3274 - val_loss: 1.0995 - val_accuracy: 0.3286\n",
      "Epoch 12/20\n",
      "36/36 [==============================] - 42s 1s/step - loss: 1.0984 - accuracy: 0.3566 - val_loss: 1.0994 - val_accuracy: 0.3286\n",
      "Epoch 13/20\n",
      "36/36 [==============================] - 42s 1s/step - loss: 1.0987 - accuracy: 0.3354 - val_loss: 1.0998 - val_accuracy: 0.3039\n",
      "Epoch 14/20\n",
      "36/36 [==============================] - 42s 1s/step - loss: 1.0989 - accuracy: 0.3434 - val_loss: 1.0997 - val_accuracy: 0.3039\n",
      "Epoch 15/20\n",
      "36/36 [==============================] - 42s 1s/step - loss: 1.0983 - accuracy: 0.3407 - val_loss: 1.1005 - val_accuracy: 0.3039\n",
      "Epoch 16/20\n",
      "36/36 [==============================] - 42s 1s/step - loss: 1.0994 - accuracy: 0.3372 - val_loss: 1.1005 - val_accuracy: 0.3039\n",
      "Epoch 17/20\n",
      "36/36 [==============================] - 43s 1s/step - loss: 1.1001 - accuracy: 0.3381 - val_loss: 1.1009 - val_accuracy: 0.3286\n",
      "Epoch 18/20\n",
      "36/36 [==============================] - 42s 1s/step - loss: 1.0982 - accuracy: 0.3319 - val_loss: 1.0995 - val_accuracy: 0.3286\n",
      "Epoch 19/20\n",
      "36/36 [==============================] - 43s 1s/step - loss: 1.0998 - accuracy: 0.3248 - val_loss: 1.0996 - val_accuracy: 0.3286\n",
      "Epoch 20/20\n",
      "36/36 [==============================] - 43s 1s/step - loss: 1.0996 - accuracy: 0.3168 - val_loss: 1.0996 - val_accuracy: 0.3286\n",
      "12/12 [==============================] - 3s 207ms/step - loss: 1.0998 - accuracy: 0.2938\n",
      "12/12 [==============================] - 3s 212ms/step\n",
      "Training with 20 epochs and 64 batch size...\n",
      "Epoch 1/20\n"
     ]
    },
    {
     "name": "stderr",
     "output_type": "stream",
     "text": [
      "C:\\Users\\lenovo\\anaconda3\\lib\\site-packages\\sklearn\\metrics\\_classification.py:1318: UndefinedMetricWarning: Precision is ill-defined and being set to 0.0 in labels with no predicted samples. Use `zero_division` parameter to control this behavior.\n",
      "  _warn_prf(average, modifier, msg_start, len(result))\n"
     ]
    },
    {
     "name": "stdout",
     "output_type": "stream",
     "text": [
      "18/18 [==============================] - 35s 2s/step - loss: 1.0986 - accuracy: 0.3354 - val_loss: 1.1001 - val_accuracy: 0.3286\n",
      "Epoch 2/20\n",
      "18/18 [==============================] - 35s 2s/step - loss: 1.1003 - accuracy: 0.3186 - val_loss: 1.1009 - val_accuracy: 0.3039\n",
      "Epoch 3/20\n",
      "18/18 [==============================] - 35s 2s/step - loss: 1.0984 - accuracy: 0.3345 - val_loss: 1.1005 - val_accuracy: 0.3286\n",
      "Epoch 4/20\n",
      "18/18 [==============================] - 35s 2s/step - loss: 1.0998 - accuracy: 0.3212 - val_loss: 1.0998 - val_accuracy: 0.3286\n",
      "Epoch 5/20\n",
      "18/18 [==============================] - 35s 2s/step - loss: 1.0985 - accuracy: 0.3363 - val_loss: 1.1000 - val_accuracy: 0.3286\n",
      "Epoch 6/20\n",
      "18/18 [==============================] - 35s 2s/step - loss: 1.0991 - accuracy: 0.3345 - val_loss: 1.1000 - val_accuracy: 0.3039\n",
      "Epoch 7/20\n",
      "18/18 [==============================] - 35s 2s/step - loss: 1.0994 - accuracy: 0.3204 - val_loss: 1.0999 - val_accuracy: 0.3039\n",
      "Epoch 8/20\n",
      "18/18 [==============================] - 35s 2s/step - loss: 1.0985 - accuracy: 0.3319 - val_loss: 1.0998 - val_accuracy: 0.3286\n",
      "Epoch 9/20\n",
      "18/18 [==============================] - 35s 2s/step - loss: 1.0984 - accuracy: 0.3336 - val_loss: 1.1000 - val_accuracy: 0.3286\n",
      "Epoch 10/20\n",
      "18/18 [==============================] - 35s 2s/step - loss: 1.0989 - accuracy: 0.3389 - val_loss: 1.1003 - val_accuracy: 0.3039\n",
      "Epoch 11/20\n",
      "18/18 [==============================] - 35s 2s/step - loss: 1.0998 - accuracy: 0.3142 - val_loss: 1.1000 - val_accuracy: 0.3039\n",
      "Epoch 12/20\n",
      "18/18 [==============================] - 35s 2s/step - loss: 1.0989 - accuracy: 0.3053 - val_loss: 1.1001 - val_accuracy: 0.3286\n",
      "Epoch 13/20\n",
      "18/18 [==============================] - 35s 2s/step - loss: 1.0998 - accuracy: 0.3204 - val_loss: 1.1002 - val_accuracy: 0.3039\n",
      "Epoch 14/20\n",
      "18/18 [==============================] - 35s 2s/step - loss: 1.0991 - accuracy: 0.3274 - val_loss: 1.1005 - val_accuracy: 0.3039\n",
      "Epoch 15/20\n",
      "18/18 [==============================] - 35s 2s/step - loss: 1.0994 - accuracy: 0.3283 - val_loss: 1.1000 - val_accuracy: 0.3286\n",
      "Epoch 16/20\n",
      "18/18 [==============================] - 35s 2s/step - loss: 1.0995 - accuracy: 0.3274 - val_loss: 1.1000 - val_accuracy: 0.3286\n",
      "Epoch 17/20\n",
      "18/18 [==============================] - 35s 2s/step - loss: 1.0987 - accuracy: 0.3496 - val_loss: 1.1002 - val_accuracy: 0.3039\n",
      "Epoch 18/20\n",
      "18/18 [==============================] - 35s 2s/step - loss: 1.0984 - accuracy: 0.3425 - val_loss: 1.1001 - val_accuracy: 0.3039\n",
      "Epoch 19/20\n",
      "18/18 [==============================] - 35s 2s/step - loss: 1.0992 - accuracy: 0.3363 - val_loss: 1.0998 - val_accuracy: 0.3039\n",
      "Epoch 20/20\n",
      "18/18 [==============================] - 35s 2s/step - loss: 1.0987 - accuracy: 0.3310 - val_loss: 1.0998 - val_accuracy: 0.3286\n",
      "12/12 [==============================] - 3s 207ms/step - loss: 1.0993 - accuracy: 0.2938\n",
      "12/12 [==============================] - 3s 215ms/step\n",
      "Training with 30 epochs and 32 batch size...\n",
      "Epoch 1/30\n"
     ]
    },
    {
     "name": "stderr",
     "output_type": "stream",
     "text": [
      "C:\\Users\\lenovo\\anaconda3\\lib\\site-packages\\sklearn\\metrics\\_classification.py:1318: UndefinedMetricWarning: Precision is ill-defined and being set to 0.0 in labels with no predicted samples. Use `zero_division` parameter to control this behavior.\n",
      "  _warn_prf(average, modifier, msg_start, len(result))\n"
     ]
    },
    {
     "name": "stdout",
     "output_type": "stream",
     "text": [
      "36/36 [==============================] - 43s 1s/step - loss: 1.0996 - accuracy: 0.3327 - val_loss: 1.1003 - val_accuracy: 0.3286\n",
      "Epoch 2/30\n",
      "36/36 [==============================] - 43s 1s/step - loss: 1.0990 - accuracy: 0.3159 - val_loss: 1.1002 - val_accuracy: 0.3039\n",
      "Epoch 3/30\n",
      "36/36 [==============================] - 43s 1s/step - loss: 1.0990 - accuracy: 0.2973 - val_loss: 1.0999 - val_accuracy: 0.3286\n",
      "Epoch 4/30\n",
      "36/36 [==============================] - 43s 1s/step - loss: 1.0989 - accuracy: 0.3327 - val_loss: 1.1002 - val_accuracy: 0.3039\n",
      "Epoch 5/30\n",
      "36/36 [==============================] - 43s 1s/step - loss: 1.0996 - accuracy: 0.3204 - val_loss: 1.0997 - val_accuracy: 0.3286\n",
      "Epoch 6/30\n",
      "36/36 [==============================] - 43s 1s/step - loss: 1.0994 - accuracy: 0.3336 - val_loss: 1.1000 - val_accuracy: 0.3286\n",
      "Epoch 7/30\n",
      "36/36 [==============================] - 43s 1s/step - loss: 1.0989 - accuracy: 0.3239 - val_loss: 1.1000 - val_accuracy: 0.3039\n",
      "Epoch 8/30\n",
      "36/36 [==============================] - 43s 1s/step - loss: 1.1001 - accuracy: 0.3265 - val_loss: 1.1007 - val_accuracy: 0.3039\n",
      "Epoch 9/30\n",
      "36/36 [==============================] - 43s 1s/step - loss: 1.0987 - accuracy: 0.3575 - val_loss: 1.0995 - val_accuracy: 0.3286\n",
      "Epoch 10/30\n",
      "36/36 [==============================] - 43s 1s/step - loss: 1.0992 - accuracy: 0.3327 - val_loss: 1.0995 - val_accuracy: 0.3286\n",
      "Epoch 11/30\n",
      "36/36 [==============================] - 43s 1s/step - loss: 1.0999 - accuracy: 0.3124 - val_loss: 1.1001 - val_accuracy: 0.3286\n",
      "Epoch 12/30\n",
      "36/36 [==============================] - 43s 1s/step - loss: 1.0994 - accuracy: 0.3195 - val_loss: 1.1005 - val_accuracy: 0.3286\n",
      "Epoch 13/30\n",
      "36/36 [==============================] - 43s 1s/step - loss: 1.0993 - accuracy: 0.3336 - val_loss: 1.0997 - val_accuracy: 0.3286\n",
      "Epoch 14/30\n",
      "36/36 [==============================] - 43s 1s/step - loss: 1.0990 - accuracy: 0.3274 - val_loss: 1.1001 - val_accuracy: 0.3286\n",
      "Epoch 15/30\n",
      "36/36 [==============================] - 43s 1s/step - loss: 1.0990 - accuracy: 0.3504 - val_loss: 1.1002 - val_accuracy: 0.3039\n",
      "Epoch 16/30\n",
      "36/36 [==============================] - 43s 1s/step - loss: 1.0991 - accuracy: 0.3310 - val_loss: 1.0996 - val_accuracy: 0.3286\n",
      "Epoch 17/30\n",
      "36/36 [==============================] - 43s 1s/step - loss: 1.0994 - accuracy: 0.3292 - val_loss: 1.0995 - val_accuracy: 0.3039\n",
      "Epoch 18/30\n",
      "36/36 [==============================] - 43s 1s/step - loss: 1.0989 - accuracy: 0.3451 - val_loss: 1.1003 - val_accuracy: 0.3039\n",
      "Epoch 19/30\n",
      "36/36 [==============================] - 43s 1s/step - loss: 1.0995 - accuracy: 0.3257 - val_loss: 1.1004 - val_accuracy: 0.3039\n",
      "Epoch 20/30\n",
      "36/36 [==============================] - 43s 1s/step - loss: 1.0990 - accuracy: 0.3469 - val_loss: 1.1008 - val_accuracy: 0.3039\n",
      "Epoch 21/30\n",
      "36/36 [==============================] - 43s 1s/step - loss: 1.0994 - accuracy: 0.3389 - val_loss: 1.1001 - val_accuracy: 0.3039\n",
      "Epoch 22/30\n",
      "36/36 [==============================] - 43s 1s/step - loss: 1.0993 - accuracy: 0.3451 - val_loss: 1.0996 - val_accuracy: 0.3039\n",
      "Epoch 23/30\n",
      "36/36 [==============================] - 43s 1s/step - loss: 1.1001 - accuracy: 0.3221 - val_loss: 1.1004 - val_accuracy: 0.3039\n",
      "Epoch 24/30\n",
      "36/36 [==============================] - 43s 1s/step - loss: 1.0990 - accuracy: 0.3283 - val_loss: 1.1001 - val_accuracy: 0.3286\n",
      "Epoch 25/30\n",
      "36/36 [==============================] - 43s 1s/step - loss: 1.0989 - accuracy: 0.3283 - val_loss: 1.1008 - val_accuracy: 0.3286\n",
      "Epoch 26/30\n",
      "36/36 [==============================] - 43s 1s/step - loss: 1.0991 - accuracy: 0.3301 - val_loss: 1.0997 - val_accuracy: 0.3286\n",
      "Epoch 27/30\n",
      "36/36 [==============================] - 43s 1s/step - loss: 1.0989 - accuracy: 0.3336 - val_loss: 1.1002 - val_accuracy: 0.3039\n",
      "Epoch 28/30\n",
      "36/36 [==============================] - 44s 1s/step - loss: 1.0989 - accuracy: 0.3513 - val_loss: 1.0998 - val_accuracy: 0.3286\n",
      "Epoch 29/30\n",
      "36/36 [==============================] - 41s 1s/step - loss: 1.0992 - accuracy: 0.3389 - val_loss: 1.1002 - val_accuracy: 0.3039\n",
      "Epoch 30/30\n",
      "36/36 [==============================] - 40s 1s/step - loss: 1.0994 - accuracy: 0.3354 - val_loss: 1.1004 - val_accuracy: 0.3039\n",
      "12/12 [==============================] - 2s 185ms/step - loss: 1.0994 - accuracy: 0.3588\n",
      "12/12 [==============================] - 2s 187ms/step\n",
      "Training with 30 epochs and 64 batch size...\n",
      "Epoch 1/30\n"
     ]
    },
    {
     "name": "stderr",
     "output_type": "stream",
     "text": [
      "C:\\Users\\lenovo\\anaconda3\\lib\\site-packages\\sklearn\\metrics\\_classification.py:1318: UndefinedMetricWarning: Precision is ill-defined and being set to 0.0 in labels with no predicted samples. Use `zero_division` parameter to control this behavior.\n",
      "  _warn_prf(average, modifier, msg_start, len(result))\n"
     ]
    },
    {
     "name": "stdout",
     "output_type": "stream",
     "text": [
      "18/18 [==============================] - 33s 2s/step - loss: 1.0991 - accuracy: 0.3354 - val_loss: 1.1005 - val_accuracy: 0.3286\n",
      "Epoch 2/30\n",
      "18/18 [==============================] - 32s 2s/step - loss: 1.0988 - accuracy: 0.3283 - val_loss: 1.1001 - val_accuracy: 0.3286\n",
      "Epoch 3/30\n",
      "18/18 [==============================] - 32s 2s/step - loss: 1.0987 - accuracy: 0.3381 - val_loss: 1.1002 - val_accuracy: 0.3286\n",
      "Epoch 4/30\n",
      "18/18 [==============================] - 32s 2s/step - loss: 1.0987 - accuracy: 0.3301 - val_loss: 1.1000 - val_accuracy: 0.3286\n",
      "Epoch 5/30\n",
      "18/18 [==============================] - 32s 2s/step - loss: 1.0990 - accuracy: 0.3407 - val_loss: 1.0998 - val_accuracy: 0.3286\n",
      "Epoch 6/30\n",
      "18/18 [==============================] - 32s 2s/step - loss: 1.0993 - accuracy: 0.3204 - val_loss: 1.1003 - val_accuracy: 0.3286\n",
      "Epoch 7/30\n",
      "18/18 [==============================] - 32s 2s/step - loss: 1.0989 - accuracy: 0.3319 - val_loss: 1.1002 - val_accuracy: 0.3286\n",
      "Epoch 8/30\n",
      "18/18 [==============================] - 33s 2s/step - loss: 1.0989 - accuracy: 0.3177 - val_loss: 1.1002 - val_accuracy: 0.3286\n",
      "Epoch 9/30\n",
      "18/18 [==============================] - 32s 2s/step - loss: 1.0992 - accuracy: 0.3274 - val_loss: 1.1002 - val_accuracy: 0.3286\n",
      "Epoch 10/30\n",
      "18/18 [==============================] - 32s 2s/step - loss: 1.0987 - accuracy: 0.3257 - val_loss: 1.1002 - val_accuracy: 0.3286\n",
      "Epoch 11/30\n",
      "18/18 [==============================] - 33s 2s/step - loss: 1.0985 - accuracy: 0.3549 - val_loss: 1.1002 - val_accuracy: 0.3286\n",
      "Epoch 12/30\n",
      "18/18 [==============================] - 34s 2s/step - loss: 1.0987 - accuracy: 0.3327 - val_loss: 1.1000 - val_accuracy: 0.3286\n",
      "Epoch 13/30\n",
      "18/18 [==============================] - 32s 2s/step - loss: 1.0987 - accuracy: 0.3363 - val_loss: 1.1001 - val_accuracy: 0.3286\n",
      "Epoch 14/30\n",
      "18/18 [==============================] - 33s 2s/step - loss: 1.0989 - accuracy: 0.3416 - val_loss: 1.1003 - val_accuracy: 0.3286\n",
      "Epoch 15/30\n",
      "18/18 [==============================] - 33s 2s/step - loss: 1.0984 - accuracy: 0.3345 - val_loss: 1.1001 - val_accuracy: 0.3286\n",
      "Epoch 16/30\n",
      "18/18 [==============================] - 33s 2s/step - loss: 1.0984 - accuracy: 0.3469 - val_loss: 1.1001 - val_accuracy: 0.3286\n",
      "Epoch 17/30\n",
      "18/18 [==============================] - 33s 2s/step - loss: 1.0991 - accuracy: 0.3283 - val_loss: 1.0998 - val_accuracy: 0.3286\n",
      "Epoch 18/30\n",
      "18/18 [==============================] - 34s 2s/step - loss: 1.0991 - accuracy: 0.3310 - val_loss: 1.1000 - val_accuracy: 0.3286\n",
      "Epoch 19/30\n",
      "18/18 [==============================] - 35s 2s/step - loss: 1.0990 - accuracy: 0.3292 - val_loss: 1.1001 - val_accuracy: 0.3286\n",
      "Epoch 20/30\n",
      "18/18 [==============================] - 36s 2s/step - loss: 1.0988 - accuracy: 0.3274 - val_loss: 1.0999 - val_accuracy: 0.3286\n",
      "Epoch 21/30\n",
      "18/18 [==============================] - 36s 2s/step - loss: 1.0979 - accuracy: 0.3522 - val_loss: 1.1000 - val_accuracy: 0.3286\n",
      "Epoch 22/30\n",
      "18/18 [==============================] - 35s 2s/step - loss: 1.0988 - accuracy: 0.3354 - val_loss: 1.1000 - val_accuracy: 0.3286\n",
      "Epoch 23/30\n",
      "18/18 [==============================] - 37s 2s/step - loss: 1.0990 - accuracy: 0.3248 - val_loss: 1.0999 - val_accuracy: 0.3286\n",
      "Epoch 24/30\n",
      "18/18 [==============================] - 35s 2s/step - loss: 1.0986 - accuracy: 0.3354 - val_loss: 1.1000 - val_accuracy: 0.3286\n",
      "Epoch 25/30\n",
      "18/18 [==============================] - 36s 2s/step - loss: 1.0988 - accuracy: 0.3257 - val_loss: 1.1001 - val_accuracy: 0.3286\n",
      "Epoch 26/30\n",
      "18/18 [==============================] - 36s 2s/step - loss: 1.0991 - accuracy: 0.3274 - val_loss: 1.1002 - val_accuracy: 0.3286\n",
      "Epoch 27/30\n",
      "18/18 [==============================] - 36s 2s/step - loss: 1.0990 - accuracy: 0.3372 - val_loss: 1.1003 - val_accuracy: 0.3039\n",
      "Epoch 28/30\n",
      "18/18 [==============================] - 34s 2s/step - loss: 1.0993 - accuracy: 0.3345 - val_loss: 1.1001 - val_accuracy: 0.3286\n",
      "Epoch 29/30\n",
      "18/18 [==============================] - 35s 2s/step - loss: 1.0988 - accuracy: 0.3265 - val_loss: 1.1001 - val_accuracy: 0.3286\n",
      "Epoch 30/30\n",
      "18/18 [==============================] - 36s 2s/step - loss: 1.0988 - accuracy: 0.3416 - val_loss: 1.1001 - val_accuracy: 0.3286\n",
      "12/12 [==============================] - 3s 214ms/step - loss: 1.0994 - accuracy: 0.2938\n",
      "12/12 [==============================] - 2s 200ms/step\n"
     ]
    },
    {
     "name": "stderr",
     "output_type": "stream",
     "text": [
      "C:\\Users\\lenovo\\anaconda3\\lib\\site-packages\\sklearn\\metrics\\_classification.py:1318: UndefinedMetricWarning: Precision is ill-defined and being set to 0.0 in labels with no predicted samples. Use `zero_division` parameter to control this behavior.\n",
      "  _warn_prf(average, modifier, msg_start, len(result))\n"
     ]
    }
   ],
   "source": [
    "#model training\n",
    "epochs_list = [20, 30]\n",
    "batch_sizes = [32, 64]\n",
    "results = []\n",
    "best_accuracy = 0.0\n",
    "\n",
    "for epoch in epochs_list:\n",
    "    for batch_size in batch_sizes:\n",
    "        print(f\"Training with {epoch} epochs and {batch_size} batch size...\")\n",
    "    \n",
    "        \n",
    "        early_stopping = EarlyStopping(monitor='val_loss', patience=3, restore_best_weights=True)\n",
    "\n",
    "        history = model.fit(X_train, y_train,\n",
    "                            epochs=epoch,\n",
    "                            batch_size=batch_size,\n",
    "                            validation_split=0.2,\n",
    "                            class_weight=class_weights)\n",
    "        \n",
    "        test_loss, test_accuracy = model.evaluate(X_test, y_test)\n",
    "        predictions = model.predict(X_test)\n",
    "        predicted_labels = np.argmax(predictions, axis=1)\n",
    "\n",
    "        accuracy = accuracy_score(y_test, predicted_labels)\n",
    "        f1 = f1_score(y_test, predicted_labels, average='weighted')\n",
    "        precision_vals = precision_score(y_test, predicted_labels, average=None)\n",
    "        recall_vals = recall_score(y_test, predicted_labels, average=None)\n",
    "\n",
    "        n_classes = 3 \n",
    "        fpr = dict()\n",
    "        tpr = dict()\n",
    "        roc_auc_vals = dict()\n",
    "\n",
    "        for i in range(n_classes):\n",
    "            fpr[i], tpr[i], _ = roc_curve(y_test, predictions[:, i], pos_label=i)\n",
    "            roc_auc_vals[i] = auc(fpr[i], tpr[i])\n",
    "\n",
    "        results.append({\n",
    "            'epochs': epoch,\n",
    "            'batch_size': batch_size,\n",
    "            'test_accuracy': test_accuracy,\n",
    "            'accuracy': accuracy,\n",
    "            'f1_score': f1,\n",
    "            'precision': precision_vals,\n",
    "            'recall': recall_vals,\n",
    "            'roc_auc': roc_auc_vals\n",
    "        })\n",
    "\n"
   ]
  },
  {
   "cell_type": "code",
   "execution_count": 16,
   "id": "c9878316",
   "metadata": {},
   "outputs": [
    {
     "name": "stdout",
     "output_type": "stream",
     "text": [
      "Epochs: 20, Batch Size: 32,  Test Accuracy: 0.29378530383110046, F1-Score: 0.13342214985320605\n",
      "Epochs: 20, Batch Size: 64,  Test Accuracy: 0.29378530383110046, F1-Score: 0.13342214985320605\n",
      "Epochs: 30, Batch Size: 32,  Test Accuracy: 0.35875704884529114, F1-Score: 0.18944759622725724\n",
      "Epochs: 30, Batch Size: 64,  Test Accuracy: 0.29378530383110046, F1-Score: 0.13342214985320605\n"
     ]
    }
   ],
   "source": [
    "# print Validation, Accuracy, F1-Score\n",
    "for result in results:\n",
    "    print(f\"Epochs: {result['epochs']}, Batch Size: {result['batch_size']},  Test Accuracy: {result['test_accuracy']}, F1-Score: {result['f1_score']}\")\n"
   ]
  },
  {
   "cell_type": "code",
   "execution_count": 18,
   "id": "2ac0c3ec",
   "metadata": {},
   "outputs": [
    {
     "name": "stdout",
     "output_type": "stream",
     "text": [
      "\n",
      "Best Hyperparameters (Test Accuracy):\n",
      "Epochs: 30\n",
      "Batch Size: 32\n",
      "Test Accuracy: 0.35875704884529114\n"
     ]
    }
   ],
   "source": [
    "#best results\n",
    "best_result_test = max(results, key=lambda x: x['test_accuracy'])\n",
    "print(\"\\nBest Hyperparameters (Test Accuracy):\")\n",
    "print(\"Epochs:\", best_result_test['epochs'])\n",
    "print(\"Batch Size:\", best_result_test['batch_size'])\n",
    "print(\"Test Accuracy:\", best_result_test['test_accuracy'])"
   ]
  },
  {
   "cell_type": "code",
   "execution_count": 20,
   "id": "b918b1ff",
   "metadata": {},
   "outputs": [
    {
     "data": {
      "image/png": "[encoded data removed]",
      "text/plain": [
       "<Figure size 800x600 with 1 Axes>"
      ]
     },
     "metadata": {},
     "output_type": "display_data"
    }
   ],
   "source": [
    "#plot roc curve\n",
    "fpr = dict()\n",
    "tpr = dict()\n",
    "roc_auc = dict()\n",
    "n_classes = 3 \n",
    "\n",
    "for i in range(n_classes):\n",
    "    fpr[i], tpr[i], _ = roc_curve(y_test, predictions[:, i], pos_label=i)\n",
    "    roc_auc[i] = auc(fpr[i], tpr[i])\n",
    "\n",
    "plt.figure(figsize=(8, 6))\n",
    "for i in range(n_classes):\n",
    "    plt.plot(fpr[i], tpr[i], label=f'Class {i} (AUC = {roc_auc[i]:0.2f})')\n",
    "\n",
    "plt.plot([0, 1], [0, 1], 'k--')\n",
    "plt.xlim([0.0, 1.0])\n",
    "plt.ylim([0.0, 1.05])\n",
    "plt.xlabel('False Positive Rate')\n",
    "plt.ylabel('True Positive Rate')\n",
    "plt.title('ROC Curve for Each Class')\n",
    "plt.legend(loc=\"lower right\")\n",
    "plt.show()\n"
   ]
  },
  {
   "cell_type": "code",
   "execution_count": 22,
   "id": "31b48725",
   "metadata": {},
   "outputs": [
    {
     "name": "stdout",
     "output_type": "stream",
     "text": [
      "\n",
      "Precision for Each Class: [0.         0.29378531 0.        ]\n",
      "Recall for Each Class: [0. 1. 0.]\n"
     ]
    },
    {
     "name": "stderr",
     "output_type": "stream",
     "text": [
      "C:\\Users\\lenovo\\anaconda3\\lib\\site-packages\\sklearn\\metrics\\_classification.py:1318: UndefinedMetricWarning: Precision is ill-defined and being set to 0.0 in labels with no predicted samples. Use `zero_division` parameter to control this behavior.\n",
      "  _warn_prf(average, modifier, msg_start, len(result))\n"
     ]
    }
   ],
   "source": [
    "precision = precision_score(y_test, predicted_labels, average=None)\n",
    "recall = recall_score(y_test, predicted_labels, average=None)\n",
    "\n",
    "print(\"\\nPrecision for Each Class:\", precision)\n",
    "print(\"Recall for Each Class:\", recall)\n"
   ]
  },
  {
   "cell_type": "code",
   "execution_count": 27,
   "id": "2c12adb3",
   "metadata": {},
   "outputs": [
    {
     "data": {
      "image/png": "[encoded data removed]",
      "text/plain": [
       "<Figure size 800x600 with 2 Axes>"
      ]
     },
     "metadata": {},
     "output_type": "display_data"
    }
   ],
   "source": [
    "#plot conf_matrix\n",
    "conf_matrix = confusion_matrix(y_test, predicted_labels)\n",
    "class_labels = ['bopolar', 'irpolar', 'orpolar']\n",
    "confusion_df = pd.DataFrame(conf_matrix, index=class_labels, columns=class_labels)\n",
    "\n",
    "plt.figure(figsize=(8, 6))\n",
    "sns.heatmap(confusion_df, annot=True, fmt='d', cmap='Blues', xticklabels=True, yticklabels=True)\n",
    "plt.xlabel('Predicted')\n",
    "plt.ylabel('Actual')\n",
    "plt.title('Confusion Matrix')\n",
    "plt.show()\n"
   ]
  },
  {
   "cell_type": "code",
   "execution_count": null,
   "id": "6d43e11b",
   "metadata": {},
   "outputs": [],
   "source": []
  }
 ],
 "metadata": {
  "kernelspec": {
   "display_name": "Python 3 (ipykernel)",
   "language": "python",
   "name": "python3"
  },
  "language_info": {
   "codemirror_mode": {
    "name": "ipython",
    "version": 3
   },
   "file_extension": ".py",
   "mimetype": "text/x-python",
   "name": "python",
   "nbconvert_exporter": "python",
   "pygments_lexer": "ipython3",
   "version": "3.9.13"
  }
 },
 "nbformat": 4,
 "nbformat_minor": 5
}
