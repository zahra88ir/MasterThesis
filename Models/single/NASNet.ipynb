{
 "cells": [
  {
   "cell_type": "code",
   "execution_count": 1,
   "id": "4f2b9dde",
   "metadata": {},
   "outputs": [
    {
     "name": "stderr",
     "output_type": "stream",
     "text": [
      "C:\\Users\\lenovo\\anaconda3\\lib\\site-packages\\scipy\\__init__.py:155: UserWarning: A NumPy version >=1.18.5 and <1.25.0 is required for this version of SciPy (detected version 1.26.0\n",
      "  warnings.warn(f\"A NumPy version >={np_minversion} and <{np_maxversion}\"\n"
     ]
    }
   ],
   "source": [
    "#import libraries\n",
    "import os\n",
    "import cv2\n",
    "import numpy as np\n",
    "import pandas as pd\n",
    "import seaborn as sns\n",
    "from sklearn.model_selection import train_test_split\n",
    "from tensorflow.keras.layers import Conv2D, GlobalAveragePooling2D, Flatten, Dense, Dropout\n",
    "from tensorflow.keras.models import Model\n",
    "from tensorflow.keras.models import Sequential\n",
    "from tensorflow.keras.utils import to_categorical\n",
    "from sklearn.preprocessing import LabelEncoder\n",
    "from keras.callbacks import EarlyStopping\n",
    "from keras.preprocessing.image import ImageDataGenerator\n",
    "from sklearn.metrics import accuracy_score, classification_report, roc_curve, auc, precision_score, recall_score, confusion_matrix, f1_score\n",
    "import matplotlib.pyplot as plt\n",
    "import seaborn as sns\n",
    "from collections import Counter\n",
    "from tensorflow.keras.applications import NASNetMobile\n"
   ]
  },
  {
   "cell_type": "code",
   "execution_count": 2,
   "id": "fd37317a",
   "metadata": {},
   "outputs": [],
   "source": [
    "#class inputs\n",
    "base_path = r\"C:\\Users\\lenovo\\USNThesis\\CWRU\"\n",
    "\n",
    "image_directories = [\n",
    "    base_path + \"\\\\spectogtam\\\\bopolar7\",\n",
    "    base_path + \"\\\\spectogtam\\\\bopolar14\",\n",
    "    base_path + \"\\\\spectogtam\\\\bopolar21\",\n",
    "    base_path + \"\\\\spectogtam\\\\irpolar7\",\n",
    "    base_path + \"\\\\spectogtam\\\\irpolar14\",\n",
    "    base_path + \"\\\\spectogtam\\\\irpolar21\",\n",
    "    base_path + \"\\\\spectogtam\\\\orpolar7\",\n",
    "    base_path + \"\\\\spectogtam\\\\orpolar14\",\n",
    "    base_path + \"\\\\spectogtam\\\\orpolar21\",\n",
    "]\n"
   ]
  },
  {
   "cell_type": "code",
   "execution_count": 3,
   "id": "31184be0",
   "metadata": {},
   "outputs": [],
   "source": [
    "#class labeling\n",
    "def get_label(directory):\n",
    "    if \"bopolar\" in directory:\n",
    "        return 0  \n",
    "    elif \"irpolar\" in directory:\n",
    "        return 1 \n",
    "    else:\n",
    "        return 2  \n"
   ]
  },
  {
   "cell_type": "code",
   "execution_count": 4,
   "id": "f7297c16",
   "metadata": {},
   "outputs": [],
   "source": [
    "pimages = []\n",
    "plabels = []\n",
    "for directory in image_directories:\n",
    "    files = os.listdir(directory)\n",
    "    for file in files:\n",
    "        if file.endswith('.png'):\n",
    "            file_path = os.path.join(directory, file)\n",
    "            img = cv2.imread(file_path)\n",
    "            img = cv2.cvtColor(img, cv2.COLOR_BGR2RGB)\n",
    "            img = cv2.resize(img, (64, 64))\n",
    "            pimages.append(img)\n",
    "            plabels.append(get_label(directory))"
   ]
  },
  {
   "cell_type": "code",
   "execution_count": 5,
   "id": "52b8ce2d",
   "metadata": {},
   "outputs": [],
   "source": [
    "images = np.array(pimages)\n",
    "labels = np.array(plabels)"
   ]
  },
  {
   "cell_type": "code",
   "execution_count": 6,
   "id": "ec67d37d",
   "metadata": {},
   "outputs": [],
   "source": [
    "# splitting\n",
    "X_train, X_test, y_train, y_test = train_test_split(images, labels, test_size=0.2, random_state=42)"
   ]
  },
  {
   "cell_type": "code",
   "execution_count": 7,
   "id": "1842c0fd",
   "metadata": {},
   "outputs": [],
   "source": [
    "#Generating class weight\n",
    "class_counts = Counter(labels)\n",
    "total_samples = len(labels)\n",
    "class_weights = {class_index: total_samples / (class_count * len(class_counts)) for class_index, class_count in class_counts.items()}\n"
   ]
  },
  {
   "cell_type": "code",
   "execution_count": 8,
   "id": "95a18507",
   "metadata": {},
   "outputs": [],
   "source": [
    "#generate data as a data augmentation step\n",
    "datagen = ImageDataGenerator(rotation_range=20, width_shift_range=0.1, height_shift_range=0.1, horizontal_flip=True)\n",
    "datagen.fit(X_train)"
   ]
  },
  {
   "cell_type": "code",
   "execution_count": 9,
   "id": "5da4598f",
   "metadata": {},
   "outputs": [],
   "source": [
    "#define nasnet\n",
    "base_model = NASNetMobile(input_shape=(64, 64, 3), include_top=False, weights='imagenet')\n",
    "x = GlobalAveragePooling2D()(base_model.output)\n",
    "x = Dense(128, activation='relu')(x)\n",
    "x = Dropout(0.5)(x)\n",
    "output = Dense(3, activation='softmax')(x)\n",
    "model = Model(inputs=base_model.input, outputs=output)\n",
    "\n",
    "for layer in base_model.layers:\n",
    "    layer.trainable = False\n",
    "\n",
    "model.compile(optimizer='adam', loss='sparse_categorical_crossentropy', metrics=['accuracy'])\n"
   ]
  },
  {
   "cell_type": "code",
   "execution_count": 10,
   "id": "95b06de3",
   "metadata": {},
   "outputs": [
    {
     "name": "stdout",
     "output_type": "stream",
     "text": [
      "Training with 20 epochs and 32 batch size...\n",
      "Epoch 1/20\n",
      "36/36 [==============================] - 14s 146ms/step - loss: 56.2273 - accuracy: 0.3761 - val_loss: 1.4918 - val_accuracy: 0.5442\n",
      "Epoch 2/20\n",
      "36/36 [==============================] - 2s 64ms/step - loss: 1.1686 - accuracy: 0.3796 - val_loss: 0.9990 - val_accuracy: 0.4311\n",
      "Epoch 3/20\n",
      "36/36 [==============================] - 2s 63ms/step - loss: 1.0493 - accuracy: 0.3814 - val_loss: 1.0207 - val_accuracy: 0.4205\n",
      "Epoch 4/20\n",
      "36/36 [==============================] - 2s 63ms/step - loss: 1.0478 - accuracy: 0.4027 - val_loss: 0.9934 - val_accuracy: 0.4346\n",
      "Epoch 5/20\n",
      "36/36 [==============================] - 2s 64ms/step - loss: 1.0306 - accuracy: 0.4124 - val_loss: 0.9667 - val_accuracy: 0.4947\n",
      "Epoch 6/20\n",
      "36/36 [==============================] - 2s 64ms/step - loss: 1.0260 - accuracy: 0.4177 - val_loss: 0.9612 - val_accuracy: 0.4982\n",
      "Epoch 7/20\n",
      "36/36 [==============================] - 2s 65ms/step - loss: 1.0307 - accuracy: 0.4088 - val_loss: 0.9686 - val_accuracy: 0.4346\n",
      "Epoch 8/20\n",
      "36/36 [==============================] - 2s 67ms/step - loss: 1.0436 - accuracy: 0.4000 - val_loss: 0.9939 - val_accuracy: 0.4311\n",
      "Epoch 9/20\n",
      "36/36 [==============================] - 2s 67ms/step - loss: 1.0347 - accuracy: 0.4027 - val_loss: 0.9871 - val_accuracy: 0.4346\n",
      "Epoch 10/20\n",
      "36/36 [==============================] - 2s 66ms/step - loss: 1.0272 - accuracy: 0.4088 - val_loss: 0.9632 - val_accuracy: 0.4346\n",
      "Epoch 11/20\n",
      "36/36 [==============================] - 2s 65ms/step - loss: 1.0346 - accuracy: 0.4044 - val_loss: 0.9977 - val_accuracy: 0.4311\n",
      "Epoch 12/20\n",
      "36/36 [==============================] - 2s 65ms/step - loss: 1.0351 - accuracy: 0.4035 - val_loss: 0.9829 - val_accuracy: 0.4346\n",
      "Epoch 13/20\n",
      "36/36 [==============================] - 2s 65ms/step - loss: 1.0411 - accuracy: 0.3982 - val_loss: 0.9628 - val_accuracy: 0.4382\n",
      "Epoch 14/20\n",
      "36/36 [==============================] - 2s 67ms/step - loss: 1.0359 - accuracy: 0.4053 - val_loss: 0.9758 - val_accuracy: 0.4382\n",
      "Epoch 15/20\n",
      "36/36 [==============================] - 2s 68ms/step - loss: 1.0376 - accuracy: 0.4133 - val_loss: 1.0495 - val_accuracy: 0.4028\n",
      "Epoch 16/20\n",
      "36/36 [==============================] - 2s 68ms/step - loss: 1.0334 - accuracy: 0.4053 - val_loss: 0.9624 - val_accuracy: 0.4382\n",
      "Epoch 17/20\n",
      "36/36 [==============================] - 2s 67ms/step - loss: 1.0247 - accuracy: 0.4088 - val_loss: 0.9636 - val_accuracy: 0.4346\n",
      "Epoch 18/20\n",
      "36/36 [==============================] - 2s 66ms/step - loss: 1.0389 - accuracy: 0.3982 - val_loss: 0.9598 - val_accuracy: 0.4346\n",
      "Epoch 19/20\n",
      "36/36 [==============================] - 2s 66ms/step - loss: 1.0244 - accuracy: 0.4106 - val_loss: 0.9585 - val_accuracy: 0.4382\n",
      "Epoch 20/20\n",
      "36/36 [==============================] - 2s 66ms/step - loss: 1.0418 - accuracy: 0.3991 - val_loss: 0.9845 - val_accuracy: 0.4311\n",
      "12/12 [==============================] - 1s 50ms/step - loss: 1.0161 - accuracy: 0.4463\n",
      "12/12 [==============================] - 3s 50ms/step\n",
      "Training with 20 epochs and 64 batch size...\n",
      "Epoch 1/20\n",
      " 1/18 [>.............................] - ETA: 1s - loss: 1.0068 - accuracy: 0.3281"
     ]
    },
    {
     "name": "stderr",
     "output_type": "stream",
     "text": [
      "C:\\Users\\lenovo\\anaconda3\\lib\\site-packages\\sklearn\\metrics\\_classification.py:1318: UndefinedMetricWarning: Precision is ill-defined and being set to 0.0 in labels with no predicted samples. Use `zero_division` parameter to control this behavior.\n",
      "  _warn_prf(average, modifier, msg_start, len(result))\n"
     ]
    },
    {
     "name": "stdout",
     "output_type": "stream",
     "text": [
      "18/18 [==============================] - 2s 115ms/step - loss: 1.0291 - accuracy: 0.4071 - val_loss: 0.9489 - val_accuracy: 0.4417\n",
      "Epoch 2/20\n",
      "18/18 [==============================] - 2s 113ms/step - loss: 1.0320 - accuracy: 0.4018 - val_loss: 0.9644 - val_accuracy: 0.4346\n",
      "Epoch 3/20\n",
      "18/18 [==============================] - 2s 114ms/step - loss: 1.0335 - accuracy: 0.4009 - val_loss: 0.9574 - val_accuracy: 0.4382\n",
      "Epoch 4/20\n",
      "18/18 [==============================] - 2s 115ms/step - loss: 1.0318 - accuracy: 0.4062 - val_loss: 0.9520 - val_accuracy: 0.4452\n",
      "Epoch 5/20\n",
      "18/18 [==============================] - 2s 113ms/step - loss: 1.0350 - accuracy: 0.4009 - val_loss: 0.9602 - val_accuracy: 0.4346\n",
      "Epoch 6/20\n",
      "18/18 [==============================] - 2s 115ms/step - loss: 1.0376 - accuracy: 0.3991 - val_loss: 0.9644 - val_accuracy: 0.4346\n",
      "Epoch 7/20\n",
      "18/18 [==============================] - 2s 119ms/step - loss: 1.0254 - accuracy: 0.4071 - val_loss: 0.9590 - val_accuracy: 0.4346\n",
      "Epoch 8/20\n",
      "18/18 [==============================] - 2s 122ms/step - loss: 1.0302 - accuracy: 0.4053 - val_loss: 0.9584 - val_accuracy: 0.4346\n",
      "Epoch 9/20\n",
      "18/18 [==============================] - 2s 121ms/step - loss: 1.0248 - accuracy: 0.4142 - val_loss: 0.9524 - val_accuracy: 0.4452\n",
      "Epoch 10/20\n",
      "18/18 [==============================] - 2s 122ms/step - loss: 1.0327 - accuracy: 0.4027 - val_loss: 0.9530 - val_accuracy: 0.4417\n",
      "Epoch 11/20\n",
      "18/18 [==============================] - 2s 117ms/step - loss: 1.0302 - accuracy: 0.4044 - val_loss: 0.9622 - val_accuracy: 0.4346\n",
      "Epoch 12/20\n",
      "18/18 [==============================] - 2s 117ms/step - loss: 1.0201 - accuracy: 0.4124 - val_loss: 0.9503 - val_accuracy: 0.4452\n",
      "Epoch 13/20\n",
      "18/18 [==============================] - 2s 117ms/step - loss: 1.0332 - accuracy: 0.4027 - val_loss: 0.9753 - val_accuracy: 0.4346\n",
      "Epoch 14/20\n",
      "18/18 [==============================] - 2s 119ms/step - loss: 1.0329 - accuracy: 0.4035 - val_loss: 0.9467 - val_accuracy: 0.4417\n",
      "Epoch 15/20\n",
      "18/18 [==============================] - 2s 122ms/step - loss: 1.0616 - accuracy: 0.4009 - val_loss: 0.9725 - val_accuracy: 0.4346\n",
      "Epoch 16/20\n",
      "18/18 [==============================] - 2s 122ms/step - loss: 1.0295 - accuracy: 0.4106 - val_loss: 0.9605 - val_accuracy: 0.4346\n",
      "Epoch 17/20\n",
      "18/18 [==============================] - 2s 122ms/step - loss: 1.0183 - accuracy: 0.4142 - val_loss: 0.9542 - val_accuracy: 0.4346\n",
      "Epoch 18/20\n",
      "18/18 [==============================] - 2s 121ms/step - loss: 1.0346 - accuracy: 0.4009 - val_loss: 0.9677 - val_accuracy: 0.4346\n",
      "Epoch 19/20\n",
      "18/18 [==============================] - 2s 118ms/step - loss: 1.0312 - accuracy: 0.4053 - val_loss: 0.9485 - val_accuracy: 0.4452\n",
      "Epoch 20/20\n",
      "18/18 [==============================] - 2s 126ms/step - loss: 1.0260 - accuracy: 0.4097 - val_loss: 0.9650 - val_accuracy: 0.4346\n",
      "12/12 [==============================] - 1s 56ms/step - loss: 1.0033 - accuracy: 0.4463\n",
      "12/12 [==============================] - 1s 54ms/step\n",
      "Training with 30 epochs and 32 batch size...\n",
      "Epoch 1/30\n",
      " 1/36 [..............................] - ETA: 2s - loss: 1.0381 - accuracy: 0.4062"
     ]
    },
    {
     "name": "stderr",
     "output_type": "stream",
     "text": [
      "C:\\Users\\lenovo\\anaconda3\\lib\\site-packages\\sklearn\\metrics\\_classification.py:1318: UndefinedMetricWarning: Precision is ill-defined and being set to 0.0 in labels with no predicted samples. Use `zero_division` parameter to control this behavior.\n",
      "  _warn_prf(average, modifier, msg_start, len(result))\n"
     ]
    },
    {
     "name": "stdout",
     "output_type": "stream",
     "text": [
      "36/36 [==============================] - 3s 77ms/step - loss: 1.0315 - accuracy: 0.4035 - val_loss: 0.9831 - val_accuracy: 0.4452\n",
      "Epoch 2/30\n",
      "36/36 [==============================] - 2s 70ms/step - loss: 1.0885 - accuracy: 0.3584 - val_loss: 1.1022 - val_accuracy: 0.3039\n",
      "Epoch 3/30\n",
      "36/36 [==============================] - 2s 69ms/step - loss: 1.1019 - accuracy: 0.3460 - val_loss: 1.1014 - val_accuracy: 0.3039\n",
      "Epoch 4/30\n",
      "36/36 [==============================] - 2s 67ms/step - loss: 1.1011 - accuracy: 0.3460 - val_loss: 1.1008 - val_accuracy: 0.3039\n",
      "Epoch 5/30\n",
      "36/36 [==============================] - 2s 67ms/step - loss: 1.1005 - accuracy: 0.3460 - val_loss: 1.1006 - val_accuracy: 0.3039\n",
      "Epoch 6/30\n",
      "36/36 [==============================] - 2s 67ms/step - loss: 1.1001 - accuracy: 0.3460 - val_loss: 1.1003 - val_accuracy: 0.3039\n",
      "Epoch 7/30\n",
      "36/36 [==============================] - 2s 69ms/step - loss: 1.0997 - accuracy: 0.3460 - val_loss: 1.1001 - val_accuracy: 0.3039\n",
      "Epoch 8/30\n",
      "36/36 [==============================] - 3s 70ms/step - loss: 1.0995 - accuracy: 0.3460 - val_loss: 1.0999 - val_accuracy: 0.3039\n",
      "Epoch 9/30\n",
      "36/36 [==============================] - 3s 70ms/step - loss: 1.0993 - accuracy: 0.3460 - val_loss: 1.1001 - val_accuracy: 0.3039\n",
      "Epoch 10/30\n",
      "36/36 [==============================] - 2s 69ms/step - loss: 1.0992 - accuracy: 0.3460 - val_loss: 1.1000 - val_accuracy: 0.3039\n",
      "Epoch 11/30\n",
      "36/36 [==============================] - 2s 67ms/step - loss: 1.0991 - accuracy: 0.3460 - val_loss: 1.0999 - val_accuracy: 0.3039\n",
      "Epoch 12/30\n",
      "36/36 [==============================] - 2s 67ms/step - loss: 1.0991 - accuracy: 0.3460 - val_loss: 1.0999 - val_accuracy: 0.3039\n",
      "Epoch 13/30\n",
      "36/36 [==============================] - 2s 68ms/step - loss: 1.0990 - accuracy: 0.3460 - val_loss: 1.0998 - val_accuracy: 0.3039\n",
      "Epoch 14/30\n",
      "36/36 [==============================] - 3s 71ms/step - loss: 1.0989 - accuracy: 0.3460 - val_loss: 1.0997 - val_accuracy: 0.3039\n",
      "Epoch 15/30\n",
      "36/36 [==============================] - 3s 70ms/step - loss: 1.0989 - accuracy: 0.3460 - val_loss: 1.0999 - val_accuracy: 0.3039\n",
      "Epoch 16/30\n",
      "36/36 [==============================] - 3s 73ms/step - loss: 1.0989 - accuracy: 0.3460 - val_loss: 1.1000 - val_accuracy: 0.3039\n",
      "Epoch 17/30\n",
      "36/36 [==============================] - 3s 73ms/step - loss: 1.0989 - accuracy: 0.3460 - val_loss: 1.0997 - val_accuracy: 0.3039\n",
      "Epoch 18/30\n",
      "36/36 [==============================] - 3s 70ms/step - loss: 1.0989 - accuracy: 0.3460 - val_loss: 1.0999 - val_accuracy: 0.3039\n",
      "Epoch 19/30\n",
      "36/36 [==============================] - 3s 70ms/step - loss: 1.0989 - accuracy: 0.3460 - val_loss: 1.1003 - val_accuracy: 0.3039\n",
      "Epoch 20/30\n",
      "36/36 [==============================] - 3s 71ms/step - loss: 1.0989 - accuracy: 0.3460 - val_loss: 1.1000 - val_accuracy: 0.3039\n",
      "Epoch 21/30\n",
      "36/36 [==============================] - 3s 71ms/step - loss: 1.0989 - accuracy: 0.3460 - val_loss: 1.1001 - val_accuracy: 0.3039\n",
      "Epoch 22/30\n",
      "36/36 [==============================] - 3s 71ms/step - loss: 1.0989 - accuracy: 0.3460 - val_loss: 1.1000 - val_accuracy: 0.3039\n",
      "Epoch 23/30\n",
      "36/36 [==============================] - 2s 68ms/step - loss: 1.0989 - accuracy: 0.3460 - val_loss: 1.0997 - val_accuracy: 0.3039\n",
      "Epoch 24/30\n",
      "36/36 [==============================] - 3s 71ms/step - loss: 1.0988 - accuracy: 0.3460 - val_loss: 1.1000 - val_accuracy: 0.3039\n",
      "Epoch 25/30\n",
      "36/36 [==============================] - 3s 74ms/step - loss: 1.0989 - accuracy: 0.3460 - val_loss: 1.1001 - val_accuracy: 0.3039\n",
      "Epoch 26/30\n",
      "36/36 [==============================] - 3s 74ms/step - loss: 1.0989 - accuracy: 0.3460 - val_loss: 1.1001 - val_accuracy: 0.3039\n",
      "Epoch 27/30\n",
      "36/36 [==============================] - 3s 71ms/step - loss: 1.0989 - accuracy: 0.3460 - val_loss: 1.1001 - val_accuracy: 0.3039\n",
      "Epoch 28/30\n",
      "36/36 [==============================] - 3s 70ms/step - loss: 1.0988 - accuracy: 0.3319 - val_loss: 1.1000 - val_accuracy: 0.3286\n",
      "Epoch 29/30\n",
      "36/36 [==============================] - 2s 69ms/step - loss: 1.0989 - accuracy: 0.3159 - val_loss: 1.1000 - val_accuracy: 0.3286\n",
      "Epoch 30/30\n",
      "36/36 [==============================] - 2s 69ms/step - loss: 1.0989 - accuracy: 0.3416 - val_loss: 1.0998 - val_accuracy: 0.3039\n",
      "12/12 [==============================] - 1s 54ms/step - loss: 1.0991 - accuracy: 0.3588\n",
      "12/12 [==============================] - 1s 54ms/step\n",
      "Training with 30 epochs and 64 batch size...\n",
      "Epoch 1/30\n",
      " 1/18 [>.............................] - ETA: 1s - loss: 1.0987 - accuracy: 0.3125"
     ]
    },
    {
     "name": "stderr",
     "output_type": "stream",
     "text": [
      "C:\\Users\\lenovo\\anaconda3\\lib\\site-packages\\sklearn\\metrics\\_classification.py:1318: UndefinedMetricWarning: Precision is ill-defined and being set to 0.0 in labels with no predicted samples. Use `zero_division` parameter to control this behavior.\n",
      "  _warn_prf(average, modifier, msg_start, len(result))\n"
     ]
    },
    {
     "name": "stdout",
     "output_type": "stream",
     "text": [
      "18/18 [==============================] - 2s 126ms/step - loss: 1.0988 - accuracy: 0.3460 - val_loss: 1.1000 - val_accuracy: 0.3039\n",
      "Epoch 2/30\n",
      "18/18 [==============================] - 2s 125ms/step - loss: 1.0988 - accuracy: 0.3460 - val_loss: 1.1001 - val_accuracy: 0.3039\n",
      "Epoch 3/30\n",
      "18/18 [==============================] - 2s 120ms/step - loss: 1.0988 - accuracy: 0.3460 - val_loss: 1.1002 - val_accuracy: 0.3039\n",
      "Epoch 4/30\n",
      "18/18 [==============================] - 2s 120ms/step - loss: 1.0988 - accuracy: 0.3460 - val_loss: 1.1002 - val_accuracy: 0.3039\n",
      "Epoch 5/30\n",
      "18/18 [==============================] - 2s 123ms/step - loss: 1.0989 - accuracy: 0.3460 - val_loss: 1.1001 - val_accuracy: 0.3039\n",
      "Epoch 6/30\n",
      "18/18 [==============================] - 2s 122ms/step - loss: 1.0988 - accuracy: 0.3460 - val_loss: 1.1001 - val_accuracy: 0.3039\n",
      "Epoch 7/30\n",
      "18/18 [==============================] - 2s 118ms/step - loss: 1.0988 - accuracy: 0.3460 - val_loss: 1.1000 - val_accuracy: 0.3039\n",
      "Epoch 8/30\n",
      "18/18 [==============================] - 2s 126ms/step - loss: 1.0988 - accuracy: 0.3265 - val_loss: 1.1000 - val_accuracy: 0.3039\n",
      "Epoch 9/30\n",
      "18/18 [==============================] - 2s 127ms/step - loss: 1.0988 - accuracy: 0.3460 - val_loss: 1.1001 - val_accuracy: 0.3039\n",
      "Epoch 10/30\n",
      "18/18 [==============================] - 2s 130ms/step - loss: 1.0988 - accuracy: 0.3460 - val_loss: 1.1001 - val_accuracy: 0.3039\n",
      "Epoch 11/30\n",
      "18/18 [==============================] - 2s 123ms/step - loss: 1.0988 - accuracy: 0.3080 - val_loss: 1.1001 - val_accuracy: 0.3286\n",
      "Epoch 12/30\n",
      "18/18 [==============================] - 2s 123ms/step - loss: 1.0988 - accuracy: 0.3274 - val_loss: 1.1001 - val_accuracy: 0.3039\n",
      "Epoch 13/30\n",
      "18/18 [==============================] - 2s 123ms/step - loss: 1.0988 - accuracy: 0.3097 - val_loss: 1.1000 - val_accuracy: 0.3286\n",
      "Epoch 14/30\n",
      "18/18 [==============================] - 2s 119ms/step - loss: 1.0988 - accuracy: 0.3381 - val_loss: 1.1000 - val_accuracy: 0.3039\n",
      "Epoch 15/30\n",
      "18/18 [==============================] - 2s 125ms/step - loss: 1.0988 - accuracy: 0.3460 - val_loss: 1.1000 - val_accuracy: 0.3039\n",
      "Epoch 16/30\n",
      "18/18 [==============================] - 2s 126ms/step - loss: 1.0989 - accuracy: 0.3460 - val_loss: 1.0999 - val_accuracy: 0.3039\n",
      "Epoch 17/30\n",
      "18/18 [==============================] - 2s 129ms/step - loss: 1.0988 - accuracy: 0.3460 - val_loss: 1.1000 - val_accuracy: 0.3039\n",
      "Epoch 18/30\n",
      "18/18 [==============================] - 2s 129ms/step - loss: 1.0988 - accuracy: 0.3460 - val_loss: 1.1000 - val_accuracy: 0.3039\n",
      "Epoch 19/30\n",
      "18/18 [==============================] - 2s 126ms/step - loss: 1.0988 - accuracy: 0.3239 - val_loss: 1.0999 - val_accuracy: 0.3286\n",
      "Epoch 20/30\n",
      "18/18 [==============================] - 2s 132ms/step - loss: 1.0989 - accuracy: 0.3212 - val_loss: 1.1000 - val_accuracy: 0.3286\n",
      "Epoch 21/30\n",
      "18/18 [==============================] - 2s 120ms/step - loss: 1.0988 - accuracy: 0.3212 - val_loss: 1.1000 - val_accuracy: 0.3286\n",
      "Epoch 22/30\n",
      "18/18 [==============================] - 2s 120ms/step - loss: 1.0988 - accuracy: 0.3115 - val_loss: 1.1000 - val_accuracy: 0.3286\n",
      "Epoch 23/30\n",
      "18/18 [==============================] - 2s 126ms/step - loss: 1.0988 - accuracy: 0.3097 - val_loss: 1.1000 - val_accuracy: 0.3286\n",
      "Epoch 24/30\n",
      "18/18 [==============================] - 2s 130ms/step - loss: 1.0988 - accuracy: 0.3212 - val_loss: 1.0999 - val_accuracy: 0.3286\n",
      "Epoch 25/30\n",
      "18/18 [==============================] - 2s 126ms/step - loss: 1.0988 - accuracy: 0.3124 - val_loss: 1.1000 - val_accuracy: 0.3286\n",
      "Epoch 26/30\n",
      "18/18 [==============================] - 2s 123ms/step - loss: 1.0988 - accuracy: 0.3159 - val_loss: 1.1000 - val_accuracy: 0.3286\n",
      "Epoch 27/30\n",
      "18/18 [==============================] - 2s 124ms/step - loss: 1.0988 - accuracy: 0.3212 - val_loss: 1.1000 - val_accuracy: 0.3286\n",
      "Epoch 28/30\n",
      "18/18 [==============================] - 2s 119ms/step - loss: 1.0989 - accuracy: 0.3133 - val_loss: 1.1001 - val_accuracy: 0.3039\n",
      "Epoch 29/30\n",
      "18/18 [==============================] - 2s 122ms/step - loss: 1.0989 - accuracy: 0.3460 - val_loss: 1.0999 - val_accuracy: 0.3039\n",
      "Epoch 30/30\n",
      "18/18 [==============================] - 2s 125ms/step - loss: 1.0988 - accuracy: 0.3460 - val_loss: 1.1001 - val_accuracy: 0.3039\n",
      "12/12 [==============================] - 1s 56ms/step - loss: 1.0992 - accuracy: 0.3588\n",
      "12/12 [==============================] - 1s 56ms/step\n"
     ]
    },
    {
     "name": "stderr",
     "output_type": "stream",
     "text": [
      "C:\\Users\\lenovo\\anaconda3\\lib\\site-packages\\sklearn\\metrics\\_classification.py:1318: UndefinedMetricWarning: Precision is ill-defined and being set to 0.0 in labels with no predicted samples. Use `zero_division` parameter to control this behavior.\n",
      "  _warn_prf(average, modifier, msg_start, len(result))\n"
     ]
    }
   ],
   "source": [
    "#model training\n",
    "epochs_list = [20, 30]\n",
    "batch_sizes = [32, 64]\n",
    "results = []\n",
    "best_accuracy = 0.0\n",
    "\n",
    "for epoch in epochs_list:\n",
    "    for batch_size in batch_sizes:\n",
    "        print(f\"Training with {epoch} epochs and {batch_size} batch size...\")\n",
    "    \n",
    "        \n",
    "        early_stopping = EarlyStopping(monitor='val_loss', patience=3, restore_best_weights=True)\n",
    "\n",
    "        history = model.fit(X_train, y_train,\n",
    "                            epochs=epoch,\n",
    "                            batch_size=batch_size,\n",
    "                            validation_split=0.2,\n",
    "                            class_weight=class_weights)\n",
    "        \n",
    "        test_loss, test_accuracy = model.evaluate(X_test, y_test)\n",
    "        predictions = model.predict(X_test)\n",
    "        predicted_labels = np.argmax(predictions, axis=1)\n",
    "\n",
    "        accuracy = accuracy_score(y_test, predicted_labels)\n",
    "        f1 = f1_score(y_test, predicted_labels, average='weighted')\n",
    "        precision_vals = precision_score(y_test, predicted_labels, average=None)\n",
    "        recall_vals = recall_score(y_test, predicted_labels, average=None)\n",
    "\n",
    "        n_classes = 3 \n",
    "        fpr = dict()\n",
    "        tpr = dict()\n",
    "        roc_auc_vals = dict()\n",
    "\n",
    "        for i in range(n_classes):\n",
    "            fpr[i], tpr[i], _ = roc_curve(y_test, predictions[:, i], pos_label=i)\n",
    "            roc_auc_vals[i] = auc(fpr[i], tpr[i])\n",
    "\n",
    "        results.append({\n",
    "            'epochs': epoch,\n",
    "            'batch_size': batch_size,\n",
    "            'test_accuracy': test_accuracy,\n",
    "            'accuracy': accuracy,\n",
    "            'f1_score': f1,\n",
    "            'precision': precision_vals,\n",
    "            'recall': recall_vals,\n",
    "            'roc_auc': roc_auc_vals\n",
    "        })\n",
    "\n"
   ]
  },
  {
   "cell_type": "code",
   "execution_count": 11,
   "id": "e4f78dbb",
   "metadata": {},
   "outputs": [
    {
     "name": "stdout",
     "output_type": "stream",
     "text": [
      "Epochs: 20, Batch Size: 32,  Test Accuracy: 0.44632768630981445, F1-Score: 0.3374220548231847\n",
      "Epochs: 20, Batch Size: 64,  Test Accuracy: 0.44632768630981445, F1-Score: 0.3374220548231847\n",
      "Epochs: 30, Batch Size: 32,  Test Accuracy: 0.35875704884529114, F1-Score: 0.18944759622725724\n",
      "Epochs: 30, Batch Size: 64,  Test Accuracy: 0.35875704884529114, F1-Score: 0.18944759622725724\n"
     ]
    }
   ],
   "source": [
    "# print Validation, Accuracy, F1-Score\n",
    "for result in results:\n",
    "    print(f\"Epochs: {result['epochs']}, Batch Size: {result['batch_size']},  Test Accuracy: {result['test_accuracy']}, F1-Score: {result['f1_score']}\")\n"
   ]
  },
  {
   "cell_type": "code",
   "execution_count": 12,
   "id": "39562629",
   "metadata": {},
   "outputs": [
    {
     "name": "stdout",
     "output_type": "stream",
     "text": [
      "\n",
      "Best Hyperparameters (Test Accuracy):\n",
      "Epochs: 20\n",
      "Batch Size: 32\n",
      "Test Accuracy: 0.44632768630981445\n"
     ]
    }
   ],
   "source": [
    "#best results\n",
    "best_result_test = max(results, key=lambda x: x['test_accuracy'])\n",
    "print(\"\\nBest Hyperparameters (Test Accuracy):\")\n",
    "print(\"Epochs:\", best_result_test['epochs'])\n",
    "print(\"Batch Size:\", best_result_test['batch_size'])\n",
    "print(\"Test Accuracy:\", best_result_test['test_accuracy'])"
   ]
  },
  {
   "cell_type": "code",
   "execution_count": 13,
   "id": "89b02861",
   "metadata": {},
   "outputs": [
    {
     "data": {
      "image/png": "[encoded data removed]",
      "text/plain": [
       "<Figure size 800x600 with 1 Axes>"
      ]
     },
     "metadata": {},
     "output_type": "display_data"
    }
   ],
   "source": [
    "#plot roc curve\n",
    "fpr = dict()\n",
    "tpr = dict()\n",
    "roc_auc = dict()\n",
    "n_classes = 3 \n",
    "\n",
    "for i in range(n_classes):\n",
    "    fpr[i], tpr[i], _ = roc_curve(y_test, predictions[:, i], pos_label=i)\n",
    "    roc_auc[i] = auc(fpr[i], tpr[i])\n",
    "\n",
    "plt.figure(figsize=(8, 6))\n",
    "for i in range(n_classes):\n",
    "    plt.plot(fpr[i], tpr[i], label=f'Class {i} (AUC = {roc_auc[i]:0.2f})')\n",
    "\n",
    "plt.plot([0, 1], [0, 1], 'k--')\n",
    "plt.xlim([0.0, 1.0])\n",
    "plt.ylim([0.0, 1.05])\n",
    "plt.xlabel('False Positive Rate')\n",
    "plt.ylabel('True Positive Rate')\n",
    "plt.title('ROC Curve for Each Class')\n",
    "plt.legend(loc=\"lower right\")\n",
    "plt.show()\n"
   ]
  },
  {
   "cell_type": "code",
   "execution_count": 14,
   "id": "483c8c57",
   "metadata": {},
   "outputs": [
    {
     "name": "stdout",
     "output_type": "stream",
     "text": [
      "\n",
      "Precision for Each Class: [0.35875706 0.         0.        ]\n",
      "Recall for Each Class: [1. 0. 0.]\n"
     ]
    },
    {
     "name": "stderr",
     "output_type": "stream",
     "text": [
      "C:\\Users\\lenovo\\anaconda3\\lib\\site-packages\\sklearn\\metrics\\_classification.py:1318: UndefinedMetricWarning: Precision is ill-defined and being set to 0.0 in labels with no predicted samples. Use `zero_division` parameter to control this behavior.\n",
      "  _warn_prf(average, modifier, msg_start, len(result))\n"
     ]
    }
   ],
   "source": [
    "precision = precision_score(y_test, predicted_labels, average=None)\n",
    "recall = recall_score(y_test, predicted_labels, average=None)\n",
    "\n",
    "print(\"\\nPrecision for Each Class:\", precision)\n",
    "print(\"Recall for Each Class:\", recall)\n"
   ]
  },
  {
   "cell_type": "code",
   "execution_count": 15,
   "id": "2f68f873",
   "metadata": {},
   "outputs": [
    {
     "data": {
      "image/png": "[encoded data removed]",
      "text/plain": [
       "<Figure size 800x600 with 2 Axes>"
      ]
     },
     "metadata": {},
     "output_type": "display_data"
    }
   ],
   "source": [
    "#plot conf_matrix\n",
    "conf_matrix = confusion_matrix(y_test, predicted_labels)\n",
    "class_labels = ['bopolar', 'irpolar', 'orpolar']\n",
    "confusion_df = pd.DataFrame(conf_matrix, index=class_labels, columns=class_labels)\n",
    "\n",
    "plt.figure(figsize=(8, 6))\n",
    "sns.heatmap(confusion_df, annot=True, fmt='d', cmap='Blues', xticklabels=True, yticklabels=True)\n",
    "plt.xlabel('Predicted')\n",
    "plt.ylabel('Actual')\n",
    "plt.title('Confusion Matrix')\n",
    "plt.show()\n"
   ]
  }
 ],
 "metadata": {
  "kernelspec": {
   "display_name": "Python 3 (ipykernel)",
   "language": "python",
   "name": "python3"
  },
  "language_info": {
   "codemirror_mode": {
    "name": "ipython",
    "version": 3
   },
   "file_extension": ".py",
   "mimetype": "text/x-python",
   "name": "python",
   "nbconvert_exporter": "python",
   "pygments_lexer": "ipython3",
   "version": "3.9.13"
  }
 },
 "nbformat": 4,
 "nbformat_minor": 5
}
