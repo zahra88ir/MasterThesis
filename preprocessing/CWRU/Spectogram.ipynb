{
 "cells": [
  {
   "cell_type": "code",
   "execution_count": null,
   "id": "e2dd7a7b",
   "metadata": {},
   "outputs": [],
   "source": [
    "#libraries\n",
    "import numpy as np\n",
    "import pandas as pd\n",
    "import matplotlib.pyplot as plt\n",
    "import os\n",
    "from scipy.signal import spectrogram"
   ]
  },
  {
   "cell_type": "code",
   "execution_count": null,
   "id": "718f9ea0",
   "metadata": {},
   "outputs": [],
   "source": [
    "#input/output directories\n",
    "base_path = r\"C:\\Users\\lenovo\\thesis\\classification\\csv\"\n",
    "output_path=  r\"C:\\Users\\lenovo\\thesis\\classification\\spectogtam\"\n",
    "\n",
    "input_files = [\n",
    "    output_path+\"\\\\B007_1_123\\\\X123_DE_time.csv\",      \n",
    "    output_path+\"\\\\B014_1_190\\\\B014_1_190X190_DE_time.csv\",\n",
    "    output_path+\"\\\\B021_1_227\\\\B021_1_227X227_DE_time.csv\",\n",
    "    \n",
    "    output_path+\"\\\\OR007_6_1_136\\\\X136_DE_time.csv\",\n",
    "    output_path+\"\\\\OR014_6_1_202\\\\OR014_6_1_202X202_DE_time.csv\",\n",
    "    output_path+\"\\\\OR021_6_1_239\\\\OR021_6_1_239X239_DE_time.csv\",\n",
    "\n",
    "    output_path+\"\\\\IR007_1_110\\\\X110_DE_time.csv\",\n",
    "    output_path+\"\\\\IR014_1_175\\\\IR014_1_175X175_DE_time.csv\",\n",
    "    output_path+\"\\\\IR021_1_214\\\\IR021_1_214X214_DE_time.csv\",\n",
    "    \n",
    "]\n",
    "\n",
    "output_directories = [\n",
    "   output_path+\"\\\\bopolar7\",\n",
    "   output_path+\"\\\\bopolar14\"\n",
    "   output_path+\"\\\\bopolar21\"\n",
    "   output_path+\"\\\\orpolar7\",\n",
    "   output_path+\"\\\\orpolar14\"\n",
    "   output_path+\"\\\\orpolar21\"\n",
    "   output_path+\"\\\\irpolar7\",\n",
    "   output_path+\"\\\\irpolar14\"\n",
    "   output_path+\"\\\\irpolar21\"\n",
    "]\n"
   ]
  },
  {
   "cell_type": "code",
   "execution_count": null,
   "id": "8ab5cfc1",
   "metadata": {},
   "outputs": [],
   "source": [
    "#plot spectograms\n",
    "def plot_spectrogram(chunk_data, fs, output_path):\n",
    "    \n",
    "    f, t, Sxx = spectrogram(chunk_data, fs=fs)\n",
    "\n",
    "    fig, ax = plt.subplots(figsize=(10, 6))\n",
    "    cax = ax.pcolormesh(t, f, 10 * np.log10(Sxx), shading='gouraud')\n",
    "\n",
    "    plt.savefig(output_path, dpi=300)\n",
    "    plt.close(fig)"
   ]
  },
  {
   "cell_type": "code",
   "execution_count": null,
   "id": "1e18e415",
   "metadata": {},
   "outputs": [],
   "source": [
    "#plot based on chunks\n",
    "def process_chunk(chunk_data, output_path):\n",
    "    fs = 48000\n",
    "    plot_spectrogram(chunk_data, fs, output_path)"
   ]
  },
  {
   "cell_type": "code",
   "execution_count": null,
   "id": "25026b51",
   "metadata": {},
   "outputs": [],
   "source": [
    "#split the signals to samples with 4800 datapoints with 50% overlap\n",
    "\n",
    "def process_dataset(input_file, output_directory, chunk_size=4800, overlap=0.5):\n",
    "    fs = 48000\n",
    "\n",
    "    dataset = pd.read_csv(input_file, header=None)\n",
    "    data = dataset.iloc[:, 0].values \n",
    "\n",
    "    nsamples = len(data)\n",
    "    overlaps = int(chunk_size * overlap)\n",
    "    nchunks = (nsamples - chunk_size) // overlaps + 1\n",
    "\n",
    "    os.makedirs(output_directory, exist_ok=True)\n",
    "\n",
    "    for j in range(nchunks):\n",
    "        startid = j * overlaps\n",
    "        endid = startid + chunk_size\n",
    "        chunk_data = data[startid:endid]\n",
    "\n",
    "        file_name = f\"chunk{j + 1}_spectrogram.png\"\n",
    "        output_path = os.path.join(output_directory, file_name)\n",
    "\n",
    "        # create polars\n",
    "        process_chunk(chunk_data, output_path)"
   ]
  },
  {
   "cell_type": "code",
   "execution_count": null,
   "id": "30445b52",
   "metadata": {},
   "outputs": [],
   "source": [
    "for input_file, output_directory in zip(input_files, output_directories):\n",
    "    process_dataset(input_file, output_directory, chunk_size=4800, overlap=0.5)"
   ]
  }
 ],
 "metadata": {
  "kernelspec": {
   "display_name": "Python 3 (ipykernel)",
   "language": "python",
   "name": "python3"
  },
  "language_info": {
   "codemirror_mode": {
    "name": "ipython",
    "version": 3
   },
   "file_extension": ".py",
   "mimetype": "text/x-python",
   "name": "python",
   "nbconvert_exporter": "python",
   "pygments_lexer": "ipython3",
   "version": "3.9.13"
  }
 },
 "nbformat": 4,
 "nbformat_minor": 5
}
