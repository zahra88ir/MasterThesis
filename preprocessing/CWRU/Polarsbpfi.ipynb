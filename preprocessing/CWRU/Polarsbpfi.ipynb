{
 "cells": [
  {
   "cell_type": "code",
   "execution_count": null,
   "id": "7f43146f",
   "metadata": {},
   "outputs": [],
   "source": [
    "# import libraries\n",
    "import numpy as np\n",
    "import pandas as pd\n",
    "import matplotlib.pyplot as plt\n",
    "import os\n",
    "from scipy.fft import fft, fftfreq"
   ]
  },
  {
   "cell_type": "code",
   "execution_count": null,
   "id": "d7182b8b",
   "metadata": {},
   "outputs": [],
   "source": [
    "#directories\n",
    "# we change the expected frequencies and directories based on the defect type\n",
    "base_path = r\"C:\\Users\\lenovo\\thesis\\classification\\csv\"\n",
    "output_path=  r\"C:\\Users\\lenovo\\thesis\\classification\\polars\"\n",
    "\n",
    "input_files = [\n",
    "    \n",
    "    output_path+\"\\\\IR007_1_110\\\\X110_DE_time.csv\",\n",
    "    output_path+\"\\\\IR014_1_175\\\\IR014_1_175X175_DE_time.csv\",\n",
    "    output_path+\"\\\\IR021_1_214\\\\IR021_1_214X214_DE_time.csv\",\n",
    "    \n",
    "]\n",
    "\n",
    "output_directories = [\n",
    "\n",
    "   output_path+\"\\\\irpolar7\",\n",
    "   output_path+\"\\\\irpolar14\",\n",
    "   output_path+\"\\\\irpolar21\",\n",
    "]\n",
    "expected_freqs = [5.4152]\n"
   ]
  },
  {
   "cell_type": "code",
   "execution_count": null,
   "id": "c7f403b1",
   "metadata": {},
   "outputs": [],
   "source": [
    "#Calculate frequncy and amplitute as key components of polar\n",
    "#https://github.com/yellowsimulator/bearing_watcher/tree/main/bearing_watcher\n",
    "def calculate_polar_spectrum(data, fs, expected_freq):\n",
    "    n = len(data)\n",
    "    fft_result = fft(data)\n",
    "    freqs = fftfreq(n, 1/fs)[:n//2]\n",
    "    amplitude = 2.0 / n * np.abs(fft_result[0:n//2])\n",
    "    return freqs, amplitude"
   ]
  },
  {
   "cell_type": "code",
   "execution_count": null,
   "id": "8a659917",
   "metadata": {},
   "outputs": [],
   "source": [
    "#Polar creation based on expected frequency of the faults\n",
    "#https://github.com/yellowsimulator/bearing_watcher/tree/main/bearing_watcher\n",
    "\n",
    "def process_chunk(chunk_data, expected_freq, output_path):\n",
    "    \n",
    "    fs = 48000\n",
    "    freqs, amplitude = calculate_polar_spectrum(chunk_data, fs, expected_freq)\n",
    "    fig = plt.figure(figsize=(8, 8))\n",
    "    ax = fig.add_subplot(111, polar=True)\n",
    "\n",
    "    colors = ['blue', 'green', 'red', 'cyan', 'magenta', 'yellow', 'black', 'white', 'purple', 'orange']\n",
    "\n",
    "    for i in range(len(amplitude)):\n",
    "        if i < len(amplitude) // 2:\n",
    "            rvalues = np.full(500, amplitude[i])\n",
    "            npoints = 500\n",
    "        else:\n",
    "            rvalues = np.full(500, amplitude[i] * 10) \n",
    "            npoints = 500\n",
    "\n",
    "        theta = np.linspace(0, 2 * np.pi, npoints) + (i * np.pi / len(amplitude))  \n",
    "\n",
    "        ax.plot(theta, rvalues, color=colors[i % len(colors)], linewidth=1.5) \n",
    "        if freqs[i] <= expected_freq:\n",
    "            expected_theta = 2 * np.pi * (freqs[i] / expected_freq)  \n",
    "            ax.plot([expected_theta, expected_theta], [0, amplitude[i] * 10], color='gray', linestyle='--', linewidth=1.5)\n",
    "\n",
    "    ax.set_theta_zero_location('N')\n",
    "    ax.set_theta_direction(-1)\n",
    "    ax.set_rticks([])  \n",
    "    ax.set_yticklabels([])  \n",
    "    ax.spines['polar'].set_visible(False)\n",
    "    ax.set_title(\"Polar Spectrum\")\n",
    "\n",
    "    plt.tight_layout() \n",
    "\n",
    "    plt.savefig(output_path, dpi=300)\n",
    "    plt.close(fig)  \n",
    "\n"
   ]
  },
  {
   "cell_type": "code",
   "execution_count": null,
   "id": "707e03d0",
   "metadata": {},
   "outputs": [],
   "source": [
    "#split the signals to samples with 4800 datapoints with 50% overlap\n",
    "def process_dataset(input_file, expected_freq, output_directory, chunk_size=4800, overlap=0.5):\n",
    "    fs = 48000\n",
    "\n",
    "    dataset = pd.read_csv(input_file, header=None)\n",
    "    data = dataset.iloc[:, 0].values \n",
    "\n",
    "    nsamples = len(data)\n",
    "    overlaps = int(chunk_size * overlap)\n",
    "    nchunks = (nsamples - chunk_size) // overlaps + 1\n",
    "\n",
    "    os.makedirs(output_directory, exist_ok=True)\n",
    "\n",
    "    for j in range(nchunks):\n",
    "        startid = j * overlaps\n",
    "        endid = startid + chunk_size\n",
    "        chunk_data = data[startid:endid]\n",
    "\n",
    "        file_name = f\"chunk{j + 1}_polar_spectrum.png\"\n",
    "        output_path = os.path.join(output_directory, file_name)\n",
    "\n",
    "        # create polars\n",
    "        process_chunk(chunk_data, expected_freq, output_path)"
   ]
  },
  {
   "cell_type": "code",
   "execution_count": null,
   "id": "958b661d",
   "metadata": {},
   "outputs": [],
   "source": [
    "for input_file, expected_freq, output_directory in zip(input_files, expected_freqs, output_directories):\n",
    "    process_dataset(input_file, expected_freq, output_directory, chunk_size=4800, overlap=0.5)\n"
   ]
  }
 ],
 "metadata": {
  "kernelspec": {
   "display_name": "Python 3 (ipykernel)",
   "language": "python",
   "name": "python3"
  },
  "language_info": {
   "codemirror_mode": {
    "name": "ipython",
    "version": 3
   },
   "file_extension": ".py",
   "mimetype": "text/x-python",
   "name": "python",
   "nbconvert_exporter": "python",
   "pygments_lexer": "ipython3",
   "version": "3.9.13"
  }
 },
 "nbformat": 4,
 "nbformat_minor": 5
}
