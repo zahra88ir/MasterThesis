{
 "cells": [
  {
   "cell_type": "code",
   "execution_count": null,
   "id": "3f8c840f",
   "metadata": {},
   "outputs": [],
   "source": [
    "# import libraries\n",
    "import numpy as np\n",
    "import pandas as pd\n",
    "import matplotlib.pyplot as plt\n",
    "import os\n",
    "from scipy.signal import find_peaks"
   ]
  },
  {
   "cell_type": "code",
   "execution_count": null,
   "id": "bd0094ea",
   "metadata": {},
   "outputs": [],
   "source": [
    "#input/output directories\n",
    "base_path = r\"C:\\Users\\lenovo\\thesis\\classification\\csv\"\n",
    "output_path=  r\"C:\\Users\\lenovo\\thesis\\classification\\wavelets\"\n",
    "\n",
    "input_files = [\n",
    "    output_path+\"\\\\B007_1_123\\\\X123_DE_time.csv\",      \n",
    "    output_path+\"\\\\B014_1_190\\\\B014_1_190X190_DE_time.csv\",\n",
    "    output_path+\"\\\\B021_1_227\\\\B021_1_227X227_DE_time.csv\",\n",
    "    \n",
    "    output_path+\"\\\\OR007_6_1_136\\\\X136_DE_time.csv\",\n",
    "    output_path+\"\\\\OR014_6_1_202\\\\OR014_6_1_202X202_DE_time.csv\",\n",
    "    output_path+\"\\\\OR021_6_1_239\\\\OR021_6_1_239X239_DE_time.csv\",\n",
    "\n",
    "    output_path+\"\\\\IR007_1_110\\\\X110_DE_time.csv\",\n",
    "    output_path+\"\\\\IR014_1_175\\\\IR014_1_175X175_DE_time.csv\",\n",
    "    output_path+\"\\\\IR021_1_214\\\\IR021_1_214X214_DE_time.csv\",\n",
    "    \n",
    "]\n",
    "\n",
    "output_directories = [\n",
    "   output_path+\"\\\\bopolar7\",\n",
    "   output_path+\"\\\\bopolar14\"\n",
    "   output_path+\"\\\\bopolar21\"\n",
    "   output_path+\"\\\\orpolar7\",\n",
    "   output_path+\"\\\\orpolar14\"\n",
    "   output_path+\"\\\\orpolar21\"\n",
    "   output_path+\"\\\\irpolar7\",\n",
    "   output_path+\"\\\\irpolar14\"\n",
    "   output_path+\"\\\\irpolar21\"\n",
    "]\n"
   ]
  },
  {
   "cell_type": "code",
   "execution_count": null,
   "id": "c0f511c2",
   "metadata": {},
   "outputs": [],
   "source": [
    "# calculate frequency and amplitute to plot the wavelets using FFT\n",
    "#https://github.com/yellowsimulator/bearing_watcher/tree/main/bearing_watcher\n",
    "\n",
    "def calculate_spectrum(data, fs):\n",
    "    fft_result = np.fft.fft(data)\n",
    "    \n",
    "    freqs = np.fft.fftfreq(len(data), 1 / fs)    \n",
    "    amplitude = np.abs(fft_result)\n",
    "\n",
    "    #we use only half\n",
    "    freqs = freqs[:len(freqs)//2]\n",
    "    amplitude = amplitude[:len(amplitude)//2]\n",
    "    \n",
    "    return freqs, amplitude"
   ]
  },
  {
   "cell_type": "code",
   "execution_count": null,
   "id": "cfe191b1",
   "metadata": {},
   "outputs": [],
   "source": [
    "#plot frequncy spectrum based on peaks\n",
    "def plot_frequency_spectrum(freqs, amplitude, output_path):\n",
    "    peaks, _ = find_peaks(amplitude, height=0)\n",
    "    \n",
    "    fig, ax = plt.subplots()\n",
    "    ax.plot(freqs, amplitude)\n",
    "    ax.set_title(\"Frequency Spectrum\")\n",
    "    ax.set_xlabel(\"Frequency (Hz)\")\n",
    "    ax.set_ylabel(\"Amplitude\")\n",
    "    \n",
    "    plt.savefig(output_path, dpi=300)\n",
    "    plt.close(fig)"
   ]
  },
  {
   "cell_type": "code",
   "execution_count": null,
   "id": "84a6d57e",
   "metadata": {},
   "outputs": [],
   "source": [
    "#plot based on chunks\n",
    "def process_chunk(chunk_data, output_path):\n",
    "    fs = 48000\n",
    "    freqs, amplitude = calculate_spectrum(chunk_data, fs)\n",
    "    plot_frequency_spectrum(freqs, amplitude, output_path)"
   ]
  },
  {
   "cell_type": "code",
   "execution_count": null,
   "id": "2fbf0545",
   "metadata": {},
   "outputs": [],
   "source": [
    "#split the signals to samples with 4800 datapoints with 50% overlap\n",
    "\n",
    "def process_dataset(input_file,  output_directory, chunk_size=4800, overlap=0.5):\n",
    "    fs = 48000\n",
    "\n",
    "    dataset = pd.read_csv(input_file, header=None)\n",
    "    data = dataset.iloc[:, 0].values \n",
    "\n",
    "    nsamples = len(data)\n",
    "    overlaps = int(chunk_size * overlap)\n",
    "    nchunks = (nsamples - chunk_size) // overlaps + 1\n",
    "\n",
    "    os.makedirs(output_directory, exist_ok=True)\n",
    "\n",
    "    for j in range(nchunks):\n",
    "        startid = j * overlaps\n",
    "        endid = startid + chunk_size\n",
    "        chunk_data = data[startid:endid]\n",
    "\n",
    "        file_name = f\"chunk{j + 1}_frequency_spectrum.png\"\n",
    "        output_path = os.path.join(output_directory, file_name)\n",
    "\n",
    "        # create polars\n",
    "        process_chunk(chunk_data, output_path)"
   ]
  },
  {
   "cell_type": "code",
   "execution_count": null,
   "id": "ebce8b2e",
   "metadata": {},
   "outputs": [],
   "source": [
    "for input_file, output_directory in zip(input_files, output_directories):\n",
    "    process_dataset(input_file, output_directory, chunk_size=4800, overlap=0.5)\n"
   ]
  }
 ],
 "metadata": {
  "kernelspec": {
   "display_name": "Python 3 (ipykernel)",
   "language": "python",
   "name": "python3"
  },
  "language_info": {
   "codemirror_mode": {
    "name": "ipython",
    "version": 3
   },
   "file_extension": ".py",
   "mimetype": "text/x-python",
   "name": "python",
   "nbconvert_exporter": "python",
   "pygments_lexer": "ipython3",
   "version": "3.9.13"
  }
 },
 "nbformat": 4,
 "nbformat_minor": 5
}
